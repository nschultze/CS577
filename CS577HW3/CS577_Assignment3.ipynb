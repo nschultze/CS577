{
 "cells": [
  {
   "cell_type": "markdown",
   "metadata": {
    "colab_type": "text",
    "id": "1czVdIlqnImH"
   },
   "source": [
    "## Assignment 3 - Generative Adversarial Network Programming (Full points: 100)"
   ]
  },
  {
   "cell_type": "markdown",
   "metadata": {
    "colab_type": "text",
    "id": "1KD3ZgLs80vY"
   },
   "source": [
    "This assignment is more like a tutorial. \n",
    "\n",
    "### About Grading\n",
    "(10 points)\n",
    "Essentially, you need to go through all the coding details we provide to you, and experiment with it. We will grade you by checking the history to see if you have run the code. \n",
    "(60 points) You need to complete certain code segments. If you don't completely go through the tutorial, you might fail this part.\n",
    "(30 points)\n",
    "Finally, you should adjust the hyperparameters to achieve a reasonable result (a lower printed loss) in order to receive a high grade.\n",
    "\n",
    "### Content\n",
    "In this assignment (with tutorial), you're going to create your first generative adversarial network (GAN). Specifically, you need to build and train a GAN that can generate hand-written images of digits (0 to 9). You will be using PyTorch in this specialization, so if you're not familiar with this framework, you may find the [PyTorch documentation](https://pytorch.org/docs/stable/index.html) useful. The hints will also often include links to relevant documentation. \n",
    "\n",
    "### Warning\n",
    "If you encounter code errors (bugs), even in the tutorial, please attempt to resolve them independently, search for solutions using search engines such as Google, or seek advice from fellow classmates (plagiarism is not permitted). Failing to rectify bugs within the assignment or merely writing code without producing executable results will result in a significant deduction of points.\n",
    "\n",
    "### Objectives\n",
    "1.   Build the generator and discriminator components of a GAN from scratch.\n",
    "2.   Create generator and discriminator loss functions.\n",
    "3.   Train your GAN and visualize the generated images.\n",
    "\n",
    "\n",
    "### Key Concepts & Review\n",
    "\n",
    "##### MNIST Dataset\n",
    "The training images your discriminator will be using is from a dataset called MNIST. It contains 60,000 images of handwritten digits, from 0 to 9. (Google it if you want to see the details.)\n",
    "\n",
    "You may notice that the images are quite pixelated -- this is because they are all only 28 x 28! The small size of its images makes MNIST ideal for simple training. Additionally, these images are also in black-and-white so only one dimension, or \"color channel\").\n",
    "\n",
    "##### Tensor\n",
    "You will represent the data using [tensors](https://pytorch.org/docs/stable/tensors.html). Tensors are a generalization of matrices: for example, a stack of three matrices with the amounts of red, green, and blue at different locations in a 64 x 64 pixel image is a tensor with the shape 3 x 64 x 64.\n",
    "\n",
    "Tensors are easy to manipulate and supported by [PyTorch](https://pytorch.org/), the library you will be using. Feel free to explore them more, but you can imagine these as multi-dimensional matrices or vectors!\n",
    "\n",
    "##### Batches\n",
    "While you could train your model after generating one image, it is extremely inefficient and leads to less stable training. In GANs, and in deep learning in general, you will process multiple images per training step. These are called batches.\n",
    "\n",
    "This means that your generator will generate an entire batch of images and receive the discriminator's feedback on each before updating the model. The same goes for the discriminator, it will calculate its loss on the entire batch of generated images as well as on the reals before the model is updated."
   ]
  },
  {
   "cell_type": "code",
   "execution_count": 1,
   "metadata": {},
   "outputs": [
    {
     "name": "stdout",
     "output_type": "stream",
     "text": [
      "2.0.1\n",
      "GPU is not available.\n"
     ]
    }
   ],
   "source": [
    "import torch\n",
    "\n",
    "print(torch.__version__)\n",
    "\n",
    "if torch.cuda.is_available():\n",
    "    print(\"GPU is available.\")\n",
    "else:\n",
    "    print(\"GPU is not available.\")\n"
   ]
  },
  {
   "cell_type": "markdown",
   "metadata": {
    "colab_type": "text",
    "id": "wU8DDM6l9rZb"
   },
   "source": [
    "# Tutorial (10 points)\n",
    "\n",
    "You will begin by importing some useful packages and the dataset you will use to build and train your GAN."
   ]
  },
  {
   "cell_type": "code",
   "execution_count": 2,
   "metadata": {
    "colab": {},
    "colab_type": "code",
    "id": "JfkorNJrnmNO"
   },
   "outputs": [
    {
     "name": "stderr",
     "output_type": "stream",
     "text": [
      "/Library/Frameworks/Python.framework/Versions/3.11/lib/python3.11/site-packages/tqdm/auto.py:21: TqdmWarning: IProgress not found. Please update jupyter and ipywidgets. See https://ipywidgets.readthedocs.io/en/stable/user_install.html\n",
      "  from .autonotebook import tqdm as notebook_tqdm\n"
     ]
    }
   ],
   "source": [
    "import torch\n",
    "from torch import nn\n",
    "from tqdm.auto import tqdm\n",
    "from torchvision import transforms\n",
    "from torchvision.datasets import MNIST # Training dataset\n",
    "from torchvision.utils import make_grid\n",
    "from torch.utils.data import DataLoader\n",
    "import matplotlib.pyplot as plt\n",
    "torch.manual_seed(0) # Set for testing purposes, please do not change!\n",
    "\n",
    "def show_tensor_images(image_tensor, num_images=25, size=(1, 28, 28)):\n",
    "    '''\n",
    "    Function for visualizing images: Given a tensor of images, number of images, and\n",
    "    size per image, plots and prints the images in a uniform grid.\n",
    "    '''\n",
    "    image_unflat = image_tensor.view(-1, *size).detach()#.cpu()\n",
    "    image_grid = make_grid(image_unflat[:num_images], nrow=5)\n",
    "    plt.imshow(image_grid.permute(1, 2, 0).squeeze())\n",
    "    plt.show()"
   ]
  },
  {
   "cell_type": "markdown",
   "metadata": {
    "colab_type": "text",
    "id": "P1A1M6kpnfxw"
   },
   "source": [
    "## Generator\n",
    "The first step is to build the generator component.\n",
    "\n",
    "You will start by creating a function to make a single layer/block for the generator's neural network. Each block should include a [linear transformation](https://pytorch.org/docs/stable/generated/torch.nn.Linear.html) to map to another shape, a [batch normalization](https://pytorch.org/docs/stable/generated/torch.nn.BatchNorm1d.html) for stabilization, and finally a non-linear activation function (you use a [ReLU here](https://pytorch.org/docs/master/generated/torch.nn.ReLU.html)) so the output can be transformed in complex ways."
   ]
  },
  {
   "cell_type": "code",
   "execution_count": 3,
   "metadata": {
    "colab": {},
    "colab_type": "code",
    "id": "bZbqdw21hK5i"
   },
   "outputs": [],
   "source": [
    "def get_generator_block(input_dim, output_dim):\n",
    "    '''\n",
    "    Function for returning a block of the generator's neural network\n",
    "    given input and output dimensions.\n",
    "    Parameters:\n",
    "        input_dim: the dimension of the input vector, a scalar\n",
    "        output_dim: the dimension of the output vector, a scalar\n",
    "    Returns:\n",
    "        a generator neural network layer, with a linear transformation \n",
    "          followed by a batch normalization and then a relu activation\n",
    "    '''\n",
    "    return nn.Sequential(\n",
    "        nn.Linear(input_dim, output_dim),\n",
    "        nn.BatchNorm1d(output_dim),\n",
    "        nn.ReLU(inplace=True),\n",
    "    )"
   ]
  },
  {
   "cell_type": "code",
   "execution_count": 4,
   "metadata": {
    "colab": {},
    "colab_type": "code",
    "id": "GSggwl1J-XBt"
   },
   "outputs": [
    {
     "name": "stdout",
     "output_type": "stream",
     "text": [
      "Success!\n"
     ]
    }
   ],
   "source": [
    "# Verify the generator block function\n",
    "def test_gen_block(in_features, out_features, num_test=1000):\n",
    "    block = get_generator_block(in_features, out_features)\n",
    "\n",
    "    # Check the three parts\n",
    "    assert len(block) == 3\n",
    "    assert type(block[0]) == nn.Linear\n",
    "    assert type(block[1]) == nn.BatchNorm1d\n",
    "    assert type(block[2]) == nn.ReLU\n",
    "    \n",
    "    # Check the output shape\n",
    "    test_input = torch.randn(num_test, in_features)\n",
    "    test_output = block(test_input)\n",
    "    assert tuple(test_output.shape) == (num_test, out_features)\n",
    "    assert test_output.std() > 0.55\n",
    "    assert test_output.std() < 0.65\n",
    "\n",
    "test_gen_block(25, 12)\n",
    "test_gen_block(15, 28)\n",
    "print(\"Success!\")"
   ]
  },
  {
   "cell_type": "markdown",
   "metadata": {
    "colab_type": "text",
    "id": "nEihsdhOrU0m"
   },
   "source": [
    "Now you can build the generator class. It will take 3 values:\n",
    "\n",
    "*   The noise vector dimension\n",
    "*   The image dimension\n",
    "*   The initial hidden dimension\n",
    "\n",
    "Using these values, the generator will build a neural network with 5 layers/blocks. Beginning with the noise vector, the generator will apply non-linear transformations via the block function until the tensor is mapped to the size of the image to be outputted (the same size as the real images from MNIST). You will need to fill in the code for final layer since it is different than the others. The final layer does not need a normalization or activation function, but does need to be scaled with a [sigmoid function](https://pytorch.org/docs/master/generated/torch.nn.Sigmoid.html). \n",
    "\n",
    "Finally, you are given a forward pass function that takes in a noise vector and generates an image of the output dimension using your neural network.\n",
    "\n",
    "<details>\n",
    "\n",
    "<summary>\n",
    "<font size=\"3\" color=\"green\">\n",
    "<b>Optional hints for <code><font size=\"4\">Generator</font></code></b>\n",
    "</font>\n",
    "</summary>\n",
    "\n",
    "1. The output size of the final linear transformation should be im_dim, but remember you need to scale the outputs between 0 and 1 using the sigmoid function.\n",
    "2. [nn.Linear](https://pytorch.org/docs/master/generated/torch.nn.Linear.html) and [nn.Sigmoid](https://pytorch.org/docs/master/generated/torch.nn.Sigmoid.html) will be useful here. \n",
    "</details>\n"
   ]
  },
  {
   "cell_type": "code",
   "execution_count": 5,
   "metadata": {
    "colab": {},
    "colab_type": "code",
    "id": "EvO7h0LYnEJZ"
   },
   "outputs": [],
   "source": [
    "class Generator(nn.Module):\n",
    "    '''\n",
    "    Generator Class\n",
    "    Values:\n",
    "        z_dim: the dimension of the noise vector, a scalar\n",
    "        im_dim: the dimension of the images, fitted for the dataset used, a scalar\n",
    "          (MNIST images are 28 x 28 = 784 so that is your default)\n",
    "        hidden_dim: the inner dimension, a scalar\n",
    "    '''\n",
    "    def __init__(self, z_dim=10, im_dim=784, hidden_dim=128):\n",
    "        super(Generator, self).__init__()\n",
    "        # Build the neural network\n",
    "        self.gen = nn.Sequential(\n",
    "            get_generator_block(z_dim, hidden_dim),\n",
    "            get_generator_block(hidden_dim, hidden_dim * 2),\n",
    "            get_generator_block(hidden_dim * 2, hidden_dim * 4),\n",
    "            get_generator_block(hidden_dim * 4, hidden_dim * 8),\n",
    "            \n",
    "            nn.Linear(hidden_dim * 8, im_dim),\n",
    "            nn.Sigmoid()\n",
    "        )\n",
    "    def forward(self, noise):\n",
    "        '''\n",
    "        Function for completing a forward pass of the generator: Given a noise tensor, \n",
    "        returns generated images.\n",
    "        Parameters:\n",
    "            noise: a noise tensor with dimensions (n_samples, z_dim)\n",
    "        '''\n",
    "        return self.gen(noise)\n",
    "    \n",
    "    def get_gen(self):\n",
    "        '''\n",
    "        Returns:\n",
    "            the sequential model\n",
    "        '''\n",
    "        return self.gen"
   ]
  },
  {
   "cell_type": "code",
   "execution_count": 6,
   "metadata": {
    "colab": {},
    "colab_type": "code",
    "id": "i0UW5DetBIY8"
   },
   "outputs": [
    {
     "name": "stdout",
     "output_type": "stream",
     "text": [
      "Success!\n"
     ]
    }
   ],
   "source": [
    "# Verify the generator class\n",
    "def test_generator(z_dim, im_dim, hidden_dim, num_test=10000):\n",
    "    gen = Generator(z_dim, im_dim, hidden_dim).get_gen()\n",
    "    \n",
    "    # Check there are six modules in the sequential part\n",
    "    assert len(gen) == 6\n",
    "    test_input = torch.randn(num_test, z_dim)\n",
    "    test_output = gen(test_input)\n",
    "\n",
    "    # Check that the output shape is correct\n",
    "    assert tuple(test_output.shape) == (num_test, im_dim)\n",
    "    assert test_output.max() < 1, \"Make sure to use a sigmoid\"\n",
    "    assert test_output.min() > 0, \"Make sure to use a sigmoid\"\n",
    "    assert test_output.std() > 0.05, \"Don't use batchnorm here\"\n",
    "    assert test_output.std() < 0.15, \"Don't use batchnorm here\"\n",
    "\n",
    "test_generator(5, 10, 20)\n",
    "test_generator(20, 8, 24)\n",
    "print(\"Success!\")"
   ]
  },
  {
   "cell_type": "markdown",
   "metadata": {
    "colab_type": "text",
    "id": "6FLX69EaqRjn"
   },
   "source": [
    "## Noise\n",
    "To be able to use your generator, you will need to be able to create noise vectors. The noise vector z has the important role of making sure the images generated from the same class don't all look the same -- think of it as a random seed. You will generate it randomly using PyTorch by sampling random numbers from the normal distribution. Since multiple images will be processed per pass, you will generate all the noise vectors at once.\n",
    "\n",
    "Note that whenever you create a new tensor using torch.ones, torch.zeros, or torch.randn, you either need to create it on the target device, e.g. `torch.ones(3, 3, device=device)`, or move it onto the target device using `torch.ones(3, 3).to(device)`. You do not need to do this if you're creating a tensor by manipulating another tensor or by using a variation that defaults the device to the input, such as `torch.ones_like`. In general, use `torch.ones_like` and `torch.zeros_like` instead of `torch.ones` or `torch.zeros` where possible.\n",
    "\n",
    "<details>\n",
    "\n",
    "<summary>\n",
    "<font size=\"3\" color=\"green\">\n",
    "<b>Optional hint for <code><font size=\"4\">get_noise</font></code></b>\n",
    "</font>\n",
    "</summary>\n",
    "\n",
    "1. \n",
    "You will probably find [torch.randn](https://pytorch.org/docs/master/generated/torch.randn.html) useful here.\n",
    "</details>"
   ]
  },
  {
   "cell_type": "code",
   "execution_count": 7,
   "metadata": {
    "colab": {},
    "colab_type": "code",
    "id": "8COwJ9PkqUyd"
   },
   "outputs": [],
   "source": [
    "def get_noise(n_samples, z_dim, device='cpu'):\n",
    "    '''\n",
    "    Function for creating noise vectors: Given the dimensions (n_samples, z_dim),\n",
    "    creates a tensor of that shape filled with random numbers from the normal distribution.\n",
    "    Parameters:\n",
    "        n_samples: the number of samples to generate, a scalar\n",
    "        z_dim: the dimension of the noise vector, a scalar\n",
    "        device: the device type\n",
    "    '''\n",
    "    # NOTE: To use this on GPU with device='cuda', make sure to pass the device \n",
    "    # argument to the function you use to generate the noise.\n",
    "    return torch.randn(n_samples, z_dim, device=device)"
   ]
  },
  {
   "cell_type": "code",
   "execution_count": 8,
   "metadata": {
    "colab": {
     "base_uri": "https://localhost:8080/",
     "height": 34
    },
    "colab_type": "code",
    "id": "PgWdQK-7P3qN",
    "outputId": "f4040a6f-1bfb-4af9-f04f-a7ede3ac16f0"
   },
   "outputs": [
    {
     "name": "stdout",
     "output_type": "stream",
     "text": [
      "Success!\n"
     ]
    }
   ],
   "source": [
    "# Verify the noise vector function\n",
    "def test_get_noise(n_samples, z_dim, device='cpu'):\n",
    "    noise = get_noise(n_samples, z_dim, device)\n",
    "    \n",
    "    # Make sure a normal distribution was used\n",
    "    assert tuple(noise.shape) == (n_samples, z_dim)\n",
    "    assert torch.abs(noise.std() - torch.tensor(1.0)) < 0.01\n",
    "    assert str(noise.device).startswith(device)\n",
    "\n",
    "test_get_noise(1000, 100, 'cpu')\n",
    "if torch.cuda.is_available():\n",
    "    test_get_noise(1000, 32, 'cuda')\n",
    "    print(\"Success on gpu!\")\n",
    "else:\n",
    "    print(\"Success!\")"
   ]
  },
  {
   "cell_type": "markdown",
   "metadata": {
    "colab_type": "text",
    "id": "r9fScH98nkYH"
   },
   "source": [
    "## Discriminator\n",
    "The second component that you need to construct is the discriminator. As with the generator component, you will start by creating a function that builds a neural network block for the discriminator.\n",
    "\n",
    "*Note: You use leaky ReLUs to prevent the \"dying ReLU\" problem, which refers to the phenomenon where the parameters stop changing due to consistently negative values passed to a ReLU, which result in a zero gradient. You will learn more about this in the following lectures!* "
   ]
  },
  {
   "cell_type": "code",
   "execution_count": 9,
   "metadata": {
    "colab": {},
    "colab_type": "code",
    "id": "sYi8YFcseYFK"
   },
   "outputs": [],
   "source": [
    "def get_discriminator_block(input_dim, output_dim):\n",
    "    '''\n",
    "    Discriminator Block\n",
    "    Function for returning a neural network of the discriminator given input and output dimensions.\n",
    "    Parameters:\n",
    "        input_dim: the dimension of the input vector, a scalar\n",
    "        output_dim: the dimension of the output vector, a scalar\n",
    "    Returns:\n",
    "        a discriminator neural network layer, with a linear transformation \n",
    "          followed by an nn.LeakyReLU activation with negative slope of 0.2 \n",
    "          (https://pytorch.org/docs/master/generated/torch.nn.LeakyReLU.html)\n",
    "    '''\n",
    "    return nn.Sequential(\n",
    "        nn.Linear(input_dim, output_dim),\n",
    "        nn.LeakyReLU(0.2, inplace=True)\n",
    "    )"
   ]
  },
  {
   "cell_type": "code",
   "execution_count": 10,
   "metadata": {
    "colab": {},
    "colab_type": "code",
    "id": "2r7Uh_GnCnAb"
   },
   "outputs": [
    {
     "name": "stdout",
     "output_type": "stream",
     "text": [
      "Success!\n"
     ]
    }
   ],
   "source": [
    "# Verify the discriminator block function\n",
    "def test_disc_block(in_features, out_features, num_test=10000):\n",
    "    block = get_discriminator_block(in_features, out_features)\n",
    "\n",
    "    # Check there are two parts\n",
    "    assert len(block) == 2\n",
    "    test_input = torch.randn(num_test, in_features)\n",
    "    test_output = block(test_input)\n",
    "\n",
    "    # Check that the shape is right\n",
    "    assert tuple(test_output.shape) == (num_test, out_features)\n",
    "    \n",
    "    # Check that the LeakyReLU slope is about 0.2\n",
    "    assert -test_output.min() / test_output.max() > 0.1\n",
    "    assert -test_output.min() / test_output.max() < 0.3\n",
    "    assert test_output.std() > 0.3\n",
    "    assert test_output.std() < 0.5\n",
    "\n",
    "test_disc_block(25, 12)\n",
    "test_disc_block(15, 28)\n",
    "print(\"Success!\")"
   ]
  },
  {
   "cell_type": "markdown",
   "metadata": {
    "colab_type": "text",
    "id": "-tco9ffKnaNS"
   },
   "source": [
    "Now you can use these blocks to make a discriminator! The discriminator class holds 2 values:\n",
    "\n",
    "*   The image dimension\n",
    "*   The hidden dimension\n",
    "\n",
    "The discriminator will build a neural network with 4 layers. It will start with the image tensor and transform it until it returns a single number (1-dimension tensor) output. This output classifies whether an image is fake or real. Note that you do not need a sigmoid after the output layer since it is included in the loss function. Finally, to use your discrimator's neural network you are given a forward pass function that takes in an image tensor to be classified.\n"
   ]
  },
  {
   "cell_type": "code",
   "execution_count": 11,
   "metadata": {
    "colab": {},
    "colab_type": "code",
    "id": "aA4AxGnmpuPq"
   },
   "outputs": [],
   "source": [
    "class Discriminator(nn.Module):\n",
    "    '''\n",
    "    Discriminator Class\n",
    "    Values:\n",
    "        im_dim: the dimension of the images, fitted for the dataset used, a scalar\n",
    "            (MNIST images are 28x28 = 784 so that is your default)\n",
    "        hidden_dim: the inner dimension, a scalar\n",
    "    '''\n",
    "    def __init__(self, im_dim=784, hidden_dim=128):\n",
    "        super(Discriminator, self).__init__()\n",
    "        self.disc = nn.Sequential(\n",
    "            get_discriminator_block(im_dim, hidden_dim * 4),\n",
    "            get_discriminator_block(hidden_dim * 4, hidden_dim * 2),\n",
    "            get_discriminator_block(hidden_dim * 2, hidden_dim),\n",
    "            # Hint: You want to transform the final output into a single value,\n",
    "            #       so add one more linear map.\n",
    "            nn.Linear(hidden_dim, 1)\n",
    "        )\n",
    "\n",
    "    def forward(self, image):\n",
    "        '''\n",
    "        Function for completing a forward pass of the discriminator: Given an image tensor, \n",
    "        returns a 1-dimension tensor representing fake/real.\n",
    "        Parameters:\n",
    "            image: a flattened image tensor with dimension (im_dim)\n",
    "        '''\n",
    "        return self.disc(image)\n",
    "    \n",
    "    # Needed for grading\n",
    "    def get_disc(self):\n",
    "        '''\n",
    "        Returns:\n",
    "            the sequential model\n",
    "        '''\n",
    "        return self.disc"
   ]
  },
  {
   "cell_type": "code",
   "execution_count": 12,
   "metadata": {},
   "outputs": [
    {
     "name": "stdout",
     "output_type": "stream",
     "text": [
      "Success!\n"
     ]
    }
   ],
   "source": [
    "# Verify the discriminator class\n",
    "def test_discriminator(z_dim, hidden_dim, num_test=100):\n",
    "    \n",
    "    disc = Discriminator(z_dim, hidden_dim).get_disc()\n",
    "\n",
    "    # Check there are three parts\n",
    "    assert len(disc) == 4\n",
    "\n",
    "    # Check the linear layer is correct\n",
    "    test_input = torch.randn(num_test, z_dim)\n",
    "    test_output = disc(test_input)\n",
    "    assert tuple(test_output.shape) == (num_test, 1)\n",
    "    \n",
    "    # Make sure there's no sigmoid\n",
    "    assert test_input.max() > 1\n",
    "    assert test_input.min() < -1\n",
    "\n",
    "test_discriminator(5, 10)\n",
    "test_discriminator(20, 8)\n",
    "print(\"Success!\")"
   ]
  },
  {
   "cell_type": "markdown",
   "metadata": {
    "colab_type": "text",
    "id": "qRk_8azSq3tF"
   },
   "source": [
    "# (60 points) Complete the missing code\n",
    "# (30 points) Turning hyperparameters to get a great performance (with lower printed loss).\n",
    "\n",
    "Now you can put it all together!\n",
    "First, you will set your parameters:\n",
    "  *   criterion: the loss function\n",
    "  *   n_epochs: the number of times you iterate through the entire dataset when training\n",
    "  *   z_dim: the dimension of the noise vector\n",
    "  *   display_step: how often to display/visualize the images\n",
    "  *   batch_size: the number of images per forward/backward pass\n",
    "  *   lr: the learning rate\n",
    "  *   device: the device type, here using a GPU (which runs CUDA), not CPU\n",
    "\n",
    "Next, you will load the MNIST dataset as tensors using a dataloader."
   ]
  },
  {
   "cell_type": "code",
   "execution_count": 13,
   "metadata": {},
   "outputs": [],
   "source": [
    "# Set your parameters\n",
    "criterion = nn.BCEWithLogitsLoss()\n",
    "n_epochs = 100\n",
    "z_dim = 64\n",
    "display_step = 500\n",
    "batch_size = 128\n",
    "lr = 0.00001"
   ]
  },
  {
   "cell_type": "code",
   "execution_count": 14,
   "metadata": {
    "colab": {
     "base_uri": "https://localhost:8080/",
     "height": 356,
     "referenced_widgets": [
      "791aedb58fb54771a08f96b47b26d7ca",
      "867756ae36e148bebdfae863cd8bea78",
      "6d5079e5fc004921935be00b8ef0e73c",
      "b678b1e6ac9445e1bba0dfba02ff6838",
      "ff768e3eb4494343bbf05ac9c8536f5c",
      "efd48396f02d470eb8f94e83102a97dc",
      "1e2b39fe404341a4b866a54e4196b447",
      "c436056304df43d888975a16877d0e2b",
      "7f785f474591493ea48c41fc3c8fb6a4",
      "f4acb82569474ed588e72657b7d61f13",
      "9b08f4d7f68a48698a30af50d978be18",
      "94eeb6dd98a3468c814fca2b17cc906d",
      "ac66fb3a3e8d4aed9d968e84c897fda4",
      "5f8684679588469f85d86b048889387e",
      "de3e18d80f1f4456842b66443b4fd9b7",
      "428037c978c04996aa56db81ee78ce2d",
      "f872d3f827994ea8906aa099a6e8700c",
      "a36ea3adaed746e8a451a80ed8aead03",
      "5d89702ec9374bf3aac8578f054a82f5",
      "31dff524ad6b460cae8d9a3551f1e760",
      "a86e0520284b4aa19275c34285c7fb5f",
      "759c15230b394b658c44dc1e07beb3aa",
      "523435d58a2e43ecb3f7f8000596ca00",
      "9faf93e4798849d0bb2bc7e139727a5c",
      "73d88a452b9e42b4a0b8b65a12eb1434",
      "4acd094e38964d92853ec2c1be206601",
      "fe3d17d3edd747958139d93df703115e",
      "954c2a0b14674a9dbc6c12e6bef4ae26",
      "c1c7ab8fb8684b428e1a126535aaaff2",
      "3c1313fa41c64640b481590c79771343",
      "c1c31dce322e449bbecb8b82b87145ab",
      "a31698d216f44a2898c42baa759b6bbc"
     ]
    },
    "colab_type": "code",
    "id": "IFLQ039u-qdu",
    "outputId": "7213a396-8f84-4fe0-ad5e-9d5748a5750d"
   },
   "outputs": [],
   "source": [
    "# Load MNIST dataset as tensors\n",
    "dataloader = DataLoader(\n",
    "    MNIST('.', download=True, transform=transforms.ToTensor()),\n",
    "    batch_size=batch_size,\n",
    "    shuffle=True)\n",
    "\n",
    "device = 'cpu' # or 'cuda'"
   ]
  },
  {
   "cell_type": "markdown",
   "metadata": {
    "colab_type": "text",
    "id": "24Var22i_Ccs"
   },
   "source": [
    "Now, you can initialize your generator, discriminator, and optimizers. Note that each optimizer only takes the parameters of one particular model, since we want each optimizer to optimize only one of the models."
   ]
  },
  {
   "cell_type": "code",
   "execution_count": 15,
   "metadata": {
    "colab": {},
    "colab_type": "code",
    "id": "sDFRZ8tg_Y57",
    "scrolled": true
   },
   "outputs": [],
   "source": [
    "gen = Generator(z_dim).to(device)\n",
    "gen_opt = torch.optim.Adam(gen.parameters(), lr=lr)\n",
    "disc = Discriminator().to(device) \n",
    "disc_opt = torch.optim.Adam(disc.parameters(), lr=lr)"
   ]
  },
  {
   "cell_type": "markdown",
   "metadata": {
    "colab_type": "text",
    "id": "7iCTg3w4_Zw6"
   },
   "source": [
    "Before you train your GAN, you will need to create functions to calculate the discriminator's loss and the generator's loss. This is how the discriminator and generator will know how they are doing and improve themselves. Since the generator is needed when calculating the discriminator's loss, you will need to call .detach() on the generator result to ensure that only the discriminator is updated!\n",
    "\n",
    "Remember that you have already defined a loss function earlier (`criterion`) and you are encouraged to use `torch.ones_like` and `torch.zeros_like` instead of `torch.ones` or `torch.zeros` to set the labels. If you use `torch.ones` or `torch.zeros`, you'll need to pass `device=device` to them."
   ]
  },
  {
   "cell_type": "code",
   "execution_count": 16,
   "metadata": {
    "colab": {},
    "colab_type": "code",
    "id": "CYzBtiYyz8IJ"
   },
   "outputs": [],
   "source": [
    "def get_disc_loss(gen, disc, criterion, real, num_images, z_dim, device):\n",
    "    '''\n",
    "    Return the loss of the discriminator given inputs.\n",
    "    Parameters:\n",
    "        gen: the generator model, which returns an image given z-dimensional noise\n",
    "        disc: the discriminator model, which returns a single-dimensional prediction of real/fake\n",
    "        criterion: the loss function, which should be used to compare \n",
    "               the discriminator's predictions to the ground truth reality of the images \n",
    "               (e.g. fake = 0, real = 1)\n",
    "        real: a batch of real images\n",
    "        num_images: the number of images the generator should produce, \n",
    "                which is also the length of the real images\n",
    "        z_dim: the dimension of the noise vector, a scalar\n",
    "        device: the device type\n",
    "    Returns:\n",
    "        disc_loss: a torch scalar loss value for the current batch\n",
    "    '''\n",
    "    #     These are the steps you will need to complete:\n",
    "    #       1) Create noise vectors and generate a batch (num_images) of fake images. \n",
    "    #            Make sure to pass the device argument to the noise.\n",
    "    #       2) Get the discriminator's prediction of the fake image \n",
    "    #            and calculate the loss. Don't forget to detach the generator!\n",
    "    #            (Remember the loss function you set earlier -- criterion. You need a \n",
    "    #            'ground truth' tensor in order to calculate the loss. \n",
    "    #            For example, a ground truth tensor for a fake image is all zeros.)\n",
    "    #       3) Get the discriminator's prediction of the real image and calculate the loss.\n",
    "    #       4) Calculate the discriminator's loss by averaging the real and fake loss\n",
    "    #            and set it to disc_loss.\n",
    "    #     Note: Please do not use concatenation in your solution. The tests are being updated to \n",
    "    #           support this, but for now, average the two losses as described in step (4).\n",
    "    #     *Important*: You should NOT write your own loss function here - use criterion(pred, true)!\n",
    "    #### START CODE HERE ####\n",
    "    noise = get_noise(num_images, z_dim, device)\n",
    "    fake_image_gen = gen(noise).detach()  # Detach the generator to prevent gradients from flowing back.\n",
    "    fake_image_pred = disc(fake_image_gen)\n",
    "    fake_image_loss = criterion(fake_image_pred, torch.zeros_like(fake_image_pred))\n",
    "    real_image_pred = disc(real)\n",
    "    real_image_loss = criterion(real_image_pred, torch.ones_like(real_image_pred))\n",
    "    disc_loss = (fake_image_loss + real_image_loss) / 2\n",
    "    #### END CODE HERE ####\n",
    "    return disc_loss"
   ]
  },
  {
   "cell_type": "code",
   "execution_count": 17,
   "metadata": {
    "colab": {},
    "colab_type": "code",
    "id": "zV_8i6y30nTE"
   },
   "outputs": [],
   "source": [
    "def get_gen_loss(gen, disc, criterion, num_images, z_dim, device):\n",
    "    '''\n",
    "    Return the loss of the generator given inputs.\n",
    "    Parameters:\n",
    "        gen: the generator model, which returns an image given z-dimensional noise\n",
    "        disc: the discriminator model, which returns a single-dimensional prediction of real/fake\n",
    "        criterion: the loss function, which should be used to compare \n",
    "               the discriminator's predictions to the ground truth reality of the images \n",
    "               (e.g. fake = 0, real = 1)\n",
    "        num_images: the number of images the generator should produce, \n",
    "                which is also the length of the real images\n",
    "        z_dim: the dimension of the noise vector, a scalar\n",
    "        device: the device type\n",
    "    Returns:\n",
    "        gen_loss: a torch scalar loss value for the current batch\n",
    "    '''\n",
    "    #     These are the steps you will need to complete:\n",
    "    #       1) Create noise vectors and generate a batch of fake images. \n",
    "    #           Remember to pass the device argument to the get_noise function.\n",
    "    #       2) Get the discriminator's prediction of the fake image.\n",
    "    #       3) Calculate the generator's loss. Remember the generator wants\n",
    "    #          the discriminator to think that its fake images are real\n",
    "    #     *Important*: You should NOT write your own loss function here - use criterion(pred, true)!\n",
    "\n",
    "    #### START CODE HERE ####\n",
    "    noise = get_noise(num_images, z_dim, device)\n",
    "    fake_image_gen = gen(noise)\n",
    "    fake_image_pred = disc(fake_image_gen)\n",
    "    gen_loss = criterion(fake_image_pred, torch.ones_like(fake_image_pred))\n",
    "    #### END CODE HERE ####\n",
    "    return gen_loss"
   ]
  },
  {
   "cell_type": "markdown",
   "metadata": {
    "colab_type": "text",
    "id": "Vua5_hRMRb60"
   },
   "source": [
    "Finally, you can put everything together! For each epoch, you will process the entire dataset in batches. For every batch, you will need to update the discriminator and generator using their loss. Note that you may see a loss to be greater than 1, this is okay since binary cross entropy loss can be any positive number for a sufficiently confident wrong guess. \n",
    "\n",
    "It’s also often the case that the discriminator will outperform the generator, especially at the start, because its job is easier. It's important that neither one gets too good (that is, near-perfect accuracy), which would cause the entire model to stop learning. Balancing the two models is actually remarkably hard to do in a standard GAN.\n",
    "\n",
    "In addition, be warned that this runs very slowly on a CPU. One way to run this more quickly is to use Google Colab: \n",
    "\n",
    "1.   Download the .ipynb\n",
    "2.   Upload it to Google Drive and open it with Google Colab\n",
    "3.   Make the runtime type GPU (under “Runtime” -> “Change runtime type” -> Select “GPU” from the dropdown)\n",
    "4.   Replace `device = \"cpu\"` with `device = \"cuda\"`\n",
    "5.   Make sure your `get_noise` function uses the right device -->"
   ]
  },
  {
   "cell_type": "code",
   "execution_count": 18,
   "metadata": {},
   "outputs": [
    {
     "name": "stderr",
     "output_type": "stream",
     "text": [
      "100%|██████████| 469/469 [00:07<00:00, 58.77it/s]\n",
      "  9%|▉         | 42/469 [00:00<00:07, 59.28it/s]"
     ]
    },
    {
     "name": "stdout",
     "output_type": "stream",
     "text": [
      "Epoch 1, step 500: Generator loss: 1.3942078813314447, discriminator loss: 0.41791092991828965\n"
     ]
    },
    {
     "name": "stderr",
     "output_type": "stream",
     "text": [
      "100%|██████████| 469/469 [00:07<00:00, 59.94it/s]\n",
      " 16%|█▌        | 74/469 [00:01<00:06, 60.14it/s]"
     ]
    },
    {
     "name": "stdout",
     "output_type": "stream",
     "text": [
      "Epoch 2, step 1000: Generator loss: 1.7532655124664298, discriminator loss: 0.2792234902083876\n"
     ]
    },
    {
     "name": "stderr",
     "output_type": "stream",
     "text": [
      "100%|██████████| 469/469 [00:07<00:00, 60.01it/s]\n",
      " 22%|██▏       | 102/469 [00:01<00:06, 59.83it/s]"
     ]
    },
    {
     "name": "stdout",
     "output_type": "stream",
     "text": [
      "Epoch 3, step 1500: Generator loss: 2.0555106122493743, discriminator loss: 0.15968645717203653\n"
     ]
    },
    {
     "name": "stderr",
     "output_type": "stream",
     "text": [
      "100%|██████████| 469/469 [00:07<00:00, 60.01it/s]\n",
      " 28%|██▊       | 132/469 [00:02<00:05, 60.31it/s]"
     ]
    },
    {
     "name": "stdout",
     "output_type": "stream",
     "text": [
      "Epoch 4, step 2000: Generator loss: 1.6733324699401857, discriminator loss: 0.22424733498692515\n"
     ]
    },
    {
     "name": "stderr",
     "output_type": "stream",
     "text": [
      "100%|██████████| 469/469 [00:07<00:00, 60.34it/s]\n",
      " 34%|███▍      | 161/469 [00:02<00:05, 60.16it/s]"
     ]
    },
    {
     "name": "stdout",
     "output_type": "stream",
     "text": [
      "Epoch 5, step 2500: Generator loss: 1.6636602492332448, discriminator loss: 0.2058824480473995\n"
     ]
    },
    {
     "name": "stderr",
     "output_type": "stream",
     "text": [
      "100%|██████████| 469/469 [00:07<00:00, 60.18it/s]\n",
      " 42%|████▏     | 197/469 [00:03<00:04, 60.01it/s]"
     ]
    },
    {
     "name": "stdout",
     "output_type": "stream",
     "text": [
      "Epoch 6, step 3000: Generator loss: 1.8726836125850694, discriminator loss: 0.17903065048158176\n"
     ]
    },
    {
     "name": "stderr",
     "output_type": "stream",
     "text": [
      "100%|██████████| 469/469 [00:07<00:00, 60.01it/s]\n",
      " 49%|████▉     | 230/469 [00:03<00:03, 60.04it/s]"
     ]
    },
    {
     "name": "stdout",
     "output_type": "stream",
     "text": [
      "Epoch 7, step 3500: Generator loss: 2.2688328075408926, discriminator loss: 0.14247156985104095\n"
     ]
    },
    {
     "name": "stderr",
     "output_type": "stream",
     "text": [
      "100%|██████████| 469/469 [00:07<00:00, 59.97it/s]\n",
      " 55%|█████▍    | 256/469 [00:04<00:03, 59.32it/s]"
     ]
    },
    {
     "name": "stdout",
     "output_type": "stream",
     "text": [
      "Epoch 8, step 4000: Generator loss: 2.7299520969390865, discriminator loss: 0.10963865458965309\n"
     ]
    },
    {
     "name": "stderr",
     "output_type": "stream",
     "text": [
      "100%|██████████| 469/469 [00:07<00:00, 59.80it/s]\n",
      " 62%|██████▏   | 292/469 [00:04<00:02, 60.38it/s]"
     ]
    },
    {
     "name": "stdout",
     "output_type": "stream",
     "text": [
      "Epoch 9, step 4500: Generator loss: 3.189104283332823, discriminator loss: 0.08299161335825918\n"
     ]
    },
    {
     "name": "stderr",
     "output_type": "stream",
     "text": [
      "100%|██████████| 469/469 [00:07<00:00, 60.52it/s]\n",
      " 69%|██████▊   | 322/469 [00:05<00:02, 60.26it/s]"
     ]
    },
    {
     "name": "stdout",
     "output_type": "stream",
     "text": [
      "Epoch 10, step 5000: Generator loss: 3.4841944766044635, discriminator loss: 0.06248122102022173\n"
     ]
    },
    {
     "name": "stderr",
     "output_type": "stream",
     "text": [
      "100%|██████████| 469/469 [00:07<00:00, 60.35it/s]\n",
      " 74%|███████▍  | 348/469 [00:05<00:02, 59.96it/s]"
     ]
    },
    {
     "name": "stdout",
     "output_type": "stream",
     "text": [
      "Epoch 11, step 5500: Generator loss: 3.8134627804756156, discriminator loss: 0.0544912044927478\n"
     ]
    },
    {
     "name": "stderr",
     "output_type": "stream",
     "text": [
      "100%|██████████| 469/469 [00:07<00:00, 60.21it/s]\n",
      " 82%|████████▏ | 384/469 [00:06<00:01, 60.21it/s]"
     ]
    },
    {
     "name": "stdout",
     "output_type": "stream",
     "text": [
      "Epoch 12, step 6000: Generator loss: 4.011730115413666, discriminator loss: 0.051426865760236924\n"
     ]
    },
    {
     "name": "stderr",
     "output_type": "stream",
     "text": [
      "100%|██████████| 469/469 [00:07<00:00, 60.36it/s]\n",
      " 89%|████████▊ | 416/469 [00:06<00:00, 60.14it/s]"
     ]
    },
    {
     "name": "stdout",
     "output_type": "stream",
     "text": [
      "Epoch 13, step 6500: Generator loss: 4.019046807765962, discriminator loss: 0.0524230872616172\n"
     ]
    },
    {
     "name": "stderr",
     "output_type": "stream",
     "text": [
      "100%|██████████| 469/469 [00:07<00:00, 60.01it/s]\n",
      " 95%|█████████▍| 445/469 [00:07<00:00, 59.94it/s]"
     ]
    },
    {
     "name": "stdout",
     "output_type": "stream",
     "text": [
      "Epoch 14, step 7000: Generator loss: 4.200726171970367, discriminator loss: 0.04792031931504609\n"
     ]
    },
    {
     "name": "stderr",
     "output_type": "stream",
     "text": [
      "100%|██████████| 469/469 [00:07<00:00, 59.81it/s]\n",
      "100%|██████████| 469/469 [00:07<00:00, 59.91it/s]\n"
     ]
    },
    {
     "name": "stdout",
     "output_type": "stream",
     "text": [
      "Epoch 15, step 7500: Generator loss: 4.348814183712009, discriminator loss: 0.04412775199115273\n"
     ]
    },
    {
     "name": "stderr",
     "output_type": "stream",
     "text": [
      "100%|██████████| 469/469 [00:07<00:00, 60.39it/s]\n",
      "  7%|▋         | 33/469 [00:00<00:07, 60.01it/s]"
     ]
    },
    {
     "name": "stdout",
     "output_type": "stream",
     "text": [
      "Epoch 17, step 8000: Generator loss: 4.239063484191893, discriminator loss: 0.04808595069870354\n"
     ]
    },
    {
     "name": "stderr",
     "output_type": "stream",
     "text": [
      "100%|██████████| 469/469 [00:07<00:00, 59.79it/s]\n",
      " 14%|█▍        | 66/469 [00:01<00:06, 59.84it/s]"
     ]
    },
    {
     "name": "stdout",
     "output_type": "stream",
     "text": [
      "Epoch 18, step 8500: Generator loss: 4.339566953659061, discriminator loss: 0.04814837749674919\n"
     ]
    },
    {
     "name": "stderr",
     "output_type": "stream",
     "text": [
      "100%|██████████| 469/469 [00:07<00:00, 60.00it/s]\n",
      " 20%|██        | 96/469 [00:01<00:06, 59.85it/s]"
     ]
    },
    {
     "name": "stdout",
     "output_type": "stream",
     "text": [
      "Epoch 19, step 9000: Generator loss: 4.400783679008483, discriminator loss: 0.0467272925525904\n"
     ]
    },
    {
     "name": "stderr",
     "output_type": "stream",
     "text": [
      "100%|██████████| 469/469 [00:07<00:00, 59.76it/s]\n",
      " 28%|██▊       | 131/469 [00:02<00:05, 59.35it/s]"
     ]
    },
    {
     "name": "stdout",
     "output_type": "stream",
     "text": [
      "Epoch 20, step 9500: Generator loss: 4.415727526664737, discriminator loss: 0.04847750394791367\n"
     ]
    },
    {
     "name": "stderr",
     "output_type": "stream",
     "text": [
      "100%|██████████| 469/469 [00:07<00:00, 59.75it/s]\n",
      " 34%|███▍      | 159/469 [00:02<00:05, 59.93it/s]"
     ]
    },
    {
     "name": "stdout",
     "output_type": "stream",
     "text": [
      "Epoch 21, step 10000: Generator loss: 4.435936894893648, discriminator loss: 0.053228576950728905\n"
     ]
    },
    {
     "name": "stderr",
     "output_type": "stream",
     "text": [
      "100%|██████████| 469/469 [00:07<00:00, 59.84it/s]\n",
      " 41%|████      | 192/469 [00:03<00:04, 59.72it/s]"
     ]
    },
    {
     "name": "stdout",
     "output_type": "stream",
     "text": [
      "Epoch 22, step 10500: Generator loss: 4.280707921981811, discriminator loss: 0.055528685819357666\n"
     ]
    },
    {
     "name": "stderr",
     "output_type": "stream",
     "text": [
      "100%|██████████| 469/469 [00:07<00:00, 60.07it/s]\n",
      " 47%|████▋     | 222/469 [00:03<00:04, 59.75it/s]"
     ]
    },
    {
     "name": "stdout",
     "output_type": "stream",
     "text": [
      "Epoch 23, step 11000: Generator loss: 4.214595856189725, discriminator loss: 0.051613027479499536\n"
     ]
    },
    {
     "name": "stderr",
     "output_type": "stream",
     "text": [
      "100%|██████████| 469/469 [00:07<00:00, 59.99it/s]\n",
      " 54%|█████▍    | 255/469 [00:04<00:03, 59.80it/s]"
     ]
    },
    {
     "name": "stdout",
     "output_type": "stream",
     "text": [
      "Epoch 24, step 11500: Generator loss: 4.391411306858063, discriminator loss: 0.052832775872200755\n"
     ]
    },
    {
     "name": "stderr",
     "output_type": "stream",
     "text": [
      "100%|██████████| 469/469 [00:07<00:00, 60.00it/s]\n",
      " 61%|██████    | 284/469 [00:04<00:03, 59.88it/s]"
     ]
    },
    {
     "name": "stdout",
     "output_type": "stream",
     "text": [
      "Epoch 25, step 12000: Generator loss: 4.42424913644791, discriminator loss: 0.06193533832207317\n"
     ]
    },
    {
     "name": "stderr",
     "output_type": "stream",
     "text": [
      "100%|██████████| 469/469 [00:07<00:00, 60.27it/s]\n",
      " 67%|██████▋   | 315/469 [00:05<00:02, 60.40it/s]"
     ]
    },
    {
     "name": "stdout",
     "output_type": "stream",
     "text": [
      "Epoch 26, step 12500: Generator loss: 4.3117985935211225, discriminator loss: 0.06314622694253925\n"
     ]
    },
    {
     "name": "stderr",
     "output_type": "stream",
     "text": [
      "100%|██████████| 469/469 [00:07<00:00, 60.51it/s]\n",
      " 74%|███████▍  | 347/469 [00:05<00:02, 59.78it/s]"
     ]
    },
    {
     "name": "stdout",
     "output_type": "stream",
     "text": [
      "Epoch 27, step 13000: Generator loss: 4.264585650920868, discriminator loss: 0.07354471890628342\n"
     ]
    },
    {
     "name": "stderr",
     "output_type": "stream",
     "text": [
      "100%|██████████| 469/469 [00:07<00:00, 60.02it/s]\n",
      " 80%|███████▉  | 375/469 [00:06<00:01, 60.09it/s]"
     ]
    },
    {
     "name": "stdout",
     "output_type": "stream",
     "text": [
      "Epoch 28, step 13500: Generator loss: 4.296729060173035, discriminator loss: 0.07435051199048753\n"
     ]
    },
    {
     "name": "stderr",
     "output_type": "stream",
     "text": [
      "100%|██████████| 469/469 [00:07<00:00, 59.87it/s]\n",
      " 88%|████████▊ | 411/469 [00:06<00:00, 59.97it/s]"
     ]
    },
    {
     "name": "stdout",
     "output_type": "stream",
     "text": [
      "Epoch 29, step 14000: Generator loss: 4.028951553344724, discriminator loss: 0.09140192994475368\n"
     ]
    },
    {
     "name": "stderr",
     "output_type": "stream",
     "text": [
      "100%|██████████| 469/469 [00:07<00:00, 59.95it/s]\n",
      " 94%|█████████▍| 440/469 [00:07<00:00, 59.69it/s]"
     ]
    },
    {
     "name": "stdout",
     "output_type": "stream",
     "text": [
      "Epoch 30, step 14500: Generator loss: 4.009481885433198, discriminator loss: 0.09193060712516309\n"
     ]
    },
    {
     "name": "stderr",
     "output_type": "stream",
     "text": [
      "100%|██████████| 469/469 [00:07<00:00, 59.59it/s]\n",
      "100%|██████████| 469/469 [00:07<00:00, 59.95it/s]\n"
     ]
    },
    {
     "name": "stdout",
     "output_type": "stream",
     "text": [
      "Epoch 31, step 15000: Generator loss: 3.837575290679926, discriminator loss: 0.11208559791743747\n"
     ]
    },
    {
     "name": "stderr",
     "output_type": "stream",
     "text": [
      "100%|██████████| 469/469 [00:07<00:00, 59.76it/s]\n",
      "  7%|▋         | 35/469 [00:00<00:07, 60.05it/s]"
     ]
    },
    {
     "name": "stdout",
     "output_type": "stream",
     "text": [
      "Epoch 33, step 15500: Generator loss: 3.8783479971885666, discriminator loss: 0.11157724343985315\n"
     ]
    },
    {
     "name": "stderr",
     "output_type": "stream",
     "text": [
      "100%|██████████| 469/469 [00:07<00:00, 60.14it/s]\n",
      " 13%|█▎        | 62/469 [00:01<00:06, 60.06it/s]"
     ]
    },
    {
     "name": "stdout",
     "output_type": "stream",
     "text": [
      "Epoch 34, step 16000: Generator loss: 3.702113706588747, discriminator loss: 0.11184030628204347\n"
     ]
    },
    {
     "name": "stderr",
     "output_type": "stream",
     "text": [
      "100%|██████████| 469/469 [00:07<00:00, 60.22it/s]\n",
      " 21%|██        | 98/469 [00:01<00:06, 59.77it/s]"
     ]
    },
    {
     "name": "stdout",
     "output_type": "stream",
     "text": [
      "Epoch 35, step 16500: Generator loss: 3.5589240636825576, discriminator loss: 0.11925994147360316\n"
     ]
    },
    {
     "name": "stderr",
     "output_type": "stream",
     "text": [
      "100%|██████████| 469/469 [00:07<00:00, 59.92it/s]\n",
      " 27%|██▋       | 125/469 [00:02<00:05, 59.96it/s]"
     ]
    },
    {
     "name": "stdout",
     "output_type": "stream",
     "text": [
      "Epoch 36, step 17000: Generator loss: 3.5979305677413933, discriminator loss: 0.12408932627737516\n"
     ]
    },
    {
     "name": "stderr",
     "output_type": "stream",
     "text": [
      "100%|██████████| 469/469 [00:07<00:00, 60.52it/s]\n",
      " 34%|███▍      | 159/469 [00:02<00:05, 59.73it/s]"
     ]
    },
    {
     "name": "stdout",
     "output_type": "stream",
     "text": [
      "Epoch 37, step 17500: Generator loss: 3.718208510875701, discriminator loss: 0.11082521460205312\n"
     ]
    },
    {
     "name": "stderr",
     "output_type": "stream",
     "text": [
      "100%|██████████| 469/469 [00:08<00:00, 57.16it/s]\n",
      " 40%|███▉      | 187/469 [00:03<00:04, 58.74it/s]"
     ]
    },
    {
     "name": "stdout",
     "output_type": "stream",
     "text": [
      "Epoch 38, step 18000: Generator loss: 3.600820557594298, discriminator loss: 0.11529750125110147\n"
     ]
    },
    {
     "name": "stderr",
     "output_type": "stream",
     "text": [
      "100%|██████████| 469/469 [00:07<00:00, 58.91it/s]\n",
      " 47%|████▋     | 221/469 [00:03<00:04, 59.37it/s]"
     ]
    },
    {
     "name": "stdout",
     "output_type": "stream",
     "text": [
      "Epoch 39, step 18500: Generator loss: 3.3714035792350763, discriminator loss: 0.1401249276921155\n"
     ]
    },
    {
     "name": "stderr",
     "output_type": "stream",
     "text": [
      "100%|██████████| 469/469 [00:07<00:00, 59.11it/s]\n",
      " 54%|█████▎    | 252/469 [00:04<00:03, 57.95it/s]"
     ]
    },
    {
     "name": "stdout",
     "output_type": "stream",
     "text": [
      "Epoch 40, step 19000: Generator loss: 3.4770980463027965, discriminator loss: 0.12556942790746692\n"
     ]
    },
    {
     "name": "stderr",
     "output_type": "stream",
     "text": [
      "100%|██████████| 469/469 [00:08<00:00, 58.44it/s]\n",
      " 60%|██████    | 282/469 [00:04<00:03, 58.16it/s]"
     ]
    },
    {
     "name": "stdout",
     "output_type": "stream",
     "text": [
      "Epoch 41, step 19500: Generator loss: 3.35346399402618, discriminator loss: 0.13607299523055558\n"
     ]
    },
    {
     "name": "stderr",
     "output_type": "stream",
     "text": [
      "100%|██████████| 469/469 [00:08<00:00, 58.37it/s]\n",
      " 67%|██████▋   | 313/469 [00:05<00:02, 58.59it/s]"
     ]
    },
    {
     "name": "stdout",
     "output_type": "stream",
     "text": [
      "Epoch 42, step 20000: Generator loss: 3.4287463736534103, discriminator loss: 0.1277728933095932\n"
     ]
    },
    {
     "name": "stderr",
     "output_type": "stream",
     "text": [
      "100%|██████████| 469/469 [00:08<00:00, 58.11it/s]\n",
      " 73%|███████▎  | 344/469 [00:05<00:02, 58.73it/s]"
     ]
    },
    {
     "name": "stdout",
     "output_type": "stream",
     "text": [
      "Epoch 43, step 20500: Generator loss: 3.3376622548103345, discriminator loss: 0.1646734500974416\n"
     ]
    },
    {
     "name": "stderr",
     "output_type": "stream",
     "text": [
      "100%|██████████| 469/469 [00:07<00:00, 58.77it/s]\n",
      " 79%|███████▉  | 372/469 [00:06<00:01, 58.21it/s]"
     ]
    },
    {
     "name": "stdout",
     "output_type": "stream",
     "text": [
      "Epoch 44, step 21000: Generator loss: 3.0536202721595798, discriminator loss: 0.17974800772964947\n"
     ]
    },
    {
     "name": "stderr",
     "output_type": "stream",
     "text": [
      "100%|██████████| 469/469 [00:08<00:00, 57.83it/s]\n",
      " 86%|████████▌ | 402/469 [00:06<00:01, 57.69it/s]"
     ]
    },
    {
     "name": "stdout",
     "output_type": "stream",
     "text": [
      "Epoch 45, step 21500: Generator loss: 2.9767531337738014, discriminator loss: 0.1658187492340803\n"
     ]
    },
    {
     "name": "stderr",
     "output_type": "stream",
     "text": [
      "100%|██████████| 469/469 [00:08<00:00, 57.77it/s]\n",
      " 93%|█████████▎| 438/469 [00:07<00:00, 57.58it/s]"
     ]
    },
    {
     "name": "stdout",
     "output_type": "stream",
     "text": [
      "Epoch 46, step 22000: Generator loss: 2.9832598576545744, discriminator loss: 0.17321132174134235\n"
     ]
    },
    {
     "name": "stderr",
     "output_type": "stream",
     "text": [
      "100%|██████████| 469/469 [00:08<00:00, 58.14it/s]\n",
      "100%|██████████| 469/469 [00:08<00:00, 58.15it/s]\n"
     ]
    },
    {
     "name": "stdout",
     "output_type": "stream",
     "text": [
      "Epoch 47, step 22500: Generator loss: 2.9296983394622775, discriminator loss: 0.17767711482942114\n"
     ]
    },
    {
     "name": "stderr",
     "output_type": "stream",
     "text": [
      "100%|██████████| 469/469 [00:07<00:00, 59.47it/s]\n",
      "  6%|▋         | 30/469 [00:00<00:07, 57.21it/s]"
     ]
    },
    {
     "name": "stdout",
     "output_type": "stream",
     "text": [
      "Epoch 49, step 23000: Generator loss: 3.0026160464286837, discriminator loss: 0.1823326362669467\n"
     ]
    },
    {
     "name": "stderr",
     "output_type": "stream",
     "text": [
      "100%|██████████| 469/469 [00:08<00:00, 58.42it/s]\n",
      " 13%|█▎        | 60/469 [00:01<00:07, 58.07it/s]"
     ]
    },
    {
     "name": "stdout",
     "output_type": "stream",
     "text": [
      "Epoch 50, step 23500: Generator loss: 2.9405900797843945, discriminator loss: 0.1711726385802031\n"
     ]
    },
    {
     "name": "stderr",
     "output_type": "stream",
     "text": [
      "100%|██████████| 469/469 [00:08<00:00, 58.32it/s]\n",
      " 19%|█▉        | 90/469 [00:01<00:06, 58.09it/s]"
     ]
    },
    {
     "name": "stdout",
     "output_type": "stream",
     "text": [
      "Epoch 51, step 24000: Generator loss: 3.067168562889103, discriminator loss: 0.1635888774245979\n"
     ]
    },
    {
     "name": "stderr",
     "output_type": "stream",
     "text": [
      "100%|██████████| 469/469 [00:08<00:00, 58.28it/s]\n",
      " 26%|██▌       | 120/469 [00:02<00:06, 55.98it/s]"
     ]
    },
    {
     "name": "stdout",
     "output_type": "stream",
     "text": [
      "Epoch 52, step 24500: Generator loss: 2.914091007232668, discriminator loss: 0.19002858272194842\n"
     ]
    },
    {
     "name": "stderr",
     "output_type": "stream",
     "text": [
      "100%|██████████| 469/469 [00:08<00:00, 57.94it/s]\n",
      " 32%|███▏      | 150/469 [00:02<00:05, 57.88it/s]"
     ]
    },
    {
     "name": "stdout",
     "output_type": "stream",
     "text": [
      "Epoch 53, step 25000: Generator loss: 2.8147337675094577, discriminator loss: 0.20144448004663007\n"
     ]
    },
    {
     "name": "stderr",
     "output_type": "stream",
     "text": [
      "100%|██████████| 469/469 [00:08<00:00, 58.13it/s]\n",
      " 39%|███▉      | 182/469 [00:03<00:04, 58.51it/s]"
     ]
    },
    {
     "name": "stdout",
     "output_type": "stream",
     "text": [
      "Epoch 54, step 25500: Generator loss: 2.6943363442420956, discriminator loss: 0.21822099174559115\n"
     ]
    },
    {
     "name": "stderr",
     "output_type": "stream",
     "text": [
      "100%|██████████| 469/469 [00:08<00:00, 58.28it/s]\n",
      " 46%|████▌     | 216/469 [00:03<00:04, 58.25it/s]"
     ]
    },
    {
     "name": "stdout",
     "output_type": "stream",
     "text": [
      "Epoch 55, step 26000: Generator loss: 2.747587305545804, discriminator loss: 0.20164527621865264\n"
     ]
    },
    {
     "name": "stderr",
     "output_type": "stream",
     "text": [
      "100%|██████████| 469/469 [00:08<00:00, 58.15it/s]\n",
      " 52%|█████▏    | 246/469 [00:04<00:03, 57.89it/s]"
     ]
    },
    {
     "name": "stdout",
     "output_type": "stream",
     "text": [
      "Epoch 56, step 26500: Generator loss: 2.8120518484115604, discriminator loss: 0.20697264574468133\n"
     ]
    },
    {
     "name": "stderr",
     "output_type": "stream",
     "text": [
      "100%|██████████| 469/469 [00:08<00:00, 58.22it/s]\n",
      " 59%|█████▉    | 277/469 [00:04<00:03, 57.59it/s]"
     ]
    },
    {
     "name": "stdout",
     "output_type": "stream",
     "text": [
      "Epoch 57, step 27000: Generator loss: 2.7220159282684344, discriminator loss: 0.22129471117258065\n"
     ]
    },
    {
     "name": "stderr",
     "output_type": "stream",
     "text": [
      "100%|██████████| 469/469 [00:08<00:00, 57.59it/s]\n",
      " 65%|██████▌   | 307/469 [00:05<00:02, 58.31it/s]"
     ]
    },
    {
     "name": "stdout",
     "output_type": "stream",
     "text": [
      "Epoch 58, step 27500: Generator loss: 2.775271331310271, discriminator loss: 0.1963649645000697\n"
     ]
    },
    {
     "name": "stderr",
     "output_type": "stream",
     "text": [
      "100%|██████████| 469/469 [00:08<00:00, 57.84it/s]\n",
      " 72%|███████▏  | 336/469 [00:05<00:02, 57.71it/s]"
     ]
    },
    {
     "name": "stdout",
     "output_type": "stream",
     "text": [
      "Epoch 59, step 28000: Generator loss: 2.6063719258308407, discriminator loss: 0.22341769620776175\n"
     ]
    },
    {
     "name": "stderr",
     "output_type": "stream",
     "text": [
      "100%|██████████| 469/469 [00:08<00:00, 58.22it/s]\n",
      " 78%|███████▊  | 367/469 [00:06<00:01, 58.08it/s]"
     ]
    },
    {
     "name": "stdout",
     "output_type": "stream",
     "text": [
      "Epoch 60, step 28500: Generator loss: 2.6407914481163037, discriminator loss: 0.2293421267867089\n"
     ]
    },
    {
     "name": "stderr",
     "output_type": "stream",
     "text": [
      "100%|██████████| 469/469 [00:08<00:00, 58.30it/s]\n",
      " 86%|████████▌ | 403/469 [00:06<00:01, 58.21it/s]"
     ]
    },
    {
     "name": "stdout",
     "output_type": "stream",
     "text": [
      "Epoch 61, step 29000: Generator loss: 2.7257519879341108, discriminator loss: 0.20633242806792243\n"
     ]
    },
    {
     "name": "stderr",
     "output_type": "stream",
     "text": [
      "100%|██████████| 469/469 [00:08<00:00, 58.20it/s]\n",
      " 92%|█████████▏| 432/469 [00:07<00:00, 58.31it/s]"
     ]
    },
    {
     "name": "stdout",
     "output_type": "stream",
     "text": [
      "Epoch 62, step 29500: Generator loss: 2.7053086133003226, discriminator loss: 0.21667335635423646\n"
     ]
    },
    {
     "name": "stderr",
     "output_type": "stream",
     "text": [
      "100%|██████████| 469/469 [00:08<00:00, 58.44it/s]\n",
      " 99%|█████████▊| 463/469 [00:07<00:00, 57.94it/s]"
     ]
    },
    {
     "name": "stdout",
     "output_type": "stream",
     "text": [
      "Epoch 63, step 30000: Generator loss: 2.5720834193229676, discriminator loss: 0.21870360541343684\n"
     ]
    },
    {
     "name": "stderr",
     "output_type": "stream",
     "text": [
      "100%|██████████| 469/469 [00:08<00:00, 58.24it/s]\n",
      "100%|██████████| 469/469 [00:08<00:00, 57.86it/s]\n",
      "  5%|▌         | 24/469 [00:00<00:07, 57.95it/s]"
     ]
    },
    {
     "name": "stdout",
     "output_type": "stream",
     "text": [
      "Epoch 65, step 30500: Generator loss: 2.5563562502861004, discriminator loss: 0.23899668806791288\n"
     ]
    },
    {
     "name": "stderr",
     "output_type": "stream",
     "text": [
      "100%|██████████| 469/469 [00:07<00:00, 59.07it/s]\n",
      " 12%|█▏        | 54/469 [00:00<00:07, 58.59it/s]"
     ]
    },
    {
     "name": "stdout",
     "output_type": "stream",
     "text": [
      "Epoch 66, step 31000: Generator loss: 2.5986077079772927, discriminator loss: 0.22824306717515006\n"
     ]
    },
    {
     "name": "stderr",
     "output_type": "stream",
     "text": [
      "100%|██████████| 469/469 [00:08<00:00, 57.88it/s]\n",
      " 18%|█▊        | 84/469 [00:01<00:06, 57.70it/s]"
     ]
    },
    {
     "name": "stdout",
     "output_type": "stream",
     "text": [
      "Epoch 67, step 31500: Generator loss: 2.475912790775301, discriminator loss: 0.24734264642000195\n"
     ]
    },
    {
     "name": "stderr",
     "output_type": "stream",
     "text": [
      "100%|██████████| 469/469 [00:08<00:00, 58.40it/s]\n",
      " 26%|██▌       | 120/469 [00:02<00:06, 57.87it/s]"
     ]
    },
    {
     "name": "stdout",
     "output_type": "stream",
     "text": [
      "Epoch 68, step 32000: Generator loss: 2.4967944316864017, discriminator loss: 0.23109670063853271\n"
     ]
    },
    {
     "name": "stderr",
     "output_type": "stream",
     "text": [
      "100%|██████████| 469/469 [00:08<00:00, 57.83it/s]\n",
      " 32%|███▏      | 150/469 [00:02<00:05, 57.90it/s]"
     ]
    },
    {
     "name": "stdout",
     "output_type": "stream",
     "text": [
      "Epoch 69, step 32500: Generator loss: 2.3035200669765477, discriminator loss: 0.2624541502594948\n"
     ]
    },
    {
     "name": "stderr",
     "output_type": "stream",
     "text": [
      "100%|██████████| 469/469 [00:08<00:00, 57.93it/s]\n",
      " 38%|███▊      | 180/469 [00:03<00:04, 57.97it/s]"
     ]
    },
    {
     "name": "stdout",
     "output_type": "stream",
     "text": [
      "Epoch 70, step 33000: Generator loss: 2.453752518177031, discriminator loss: 0.2288592593669892\n"
     ]
    },
    {
     "name": "stderr",
     "output_type": "stream",
     "text": [
      "100%|██████████| 469/469 [00:08<00:00, 57.83it/s]\n",
      " 45%|████▍     | 210/469 [00:03<00:04, 58.08it/s]"
     ]
    },
    {
     "name": "stdout",
     "output_type": "stream",
     "text": [
      "Epoch 71, step 33500: Generator loss: 2.366647706747057, discriminator loss: 0.23962293994426725\n"
     ]
    },
    {
     "name": "stderr",
     "output_type": "stream",
     "text": [
      "100%|██████████| 469/469 [00:08<00:00, 58.37it/s]\n",
      " 52%|█████▏    | 243/469 [00:04<00:03, 58.82it/s]"
     ]
    },
    {
     "name": "stdout",
     "output_type": "stream",
     "text": [
      "Epoch 72, step 34000: Generator loss: 2.5721290578842164, discriminator loss: 0.2224805582761764\n"
     ]
    },
    {
     "name": "stderr",
     "output_type": "stream",
     "text": [
      "100%|██████████| 469/469 [00:07<00:00, 58.70it/s]\n",
      " 58%|█████▊    | 270/469 [00:04<00:03, 58.77it/s]"
     ]
    },
    {
     "name": "stdout",
     "output_type": "stream",
     "text": [
      "Epoch 73, step 34500: Generator loss: 2.4642733373641925, discriminator loss: 0.23664365318417532\n"
     ]
    },
    {
     "name": "stderr",
     "output_type": "stream",
     "text": [
      "100%|██████████| 469/469 [00:08<00:00, 58.45it/s]\n",
      " 64%|██████▍   | 300/469 [00:05<00:02, 58.23it/s]"
     ]
    },
    {
     "name": "stdout",
     "output_type": "stream",
     "text": [
      "Epoch 74, step 35000: Generator loss: 2.400178111791611, discriminator loss: 0.24047869727015495\n"
     ]
    },
    {
     "name": "stderr",
     "output_type": "stream",
     "text": [
      "100%|██████████| 469/469 [00:07<00:00, 58.64it/s]\n",
      " 71%|███████   | 334/469 [00:05<00:02, 59.73it/s]"
     ]
    },
    {
     "name": "stdout",
     "output_type": "stream",
     "text": [
      "Epoch 75, step 35500: Generator loss: 2.3453865120410935, discriminator loss: 0.25403783753514253\n"
     ]
    },
    {
     "name": "stderr",
     "output_type": "stream",
     "text": [
      "100%|██████████| 469/469 [00:08<00:00, 58.55it/s]\n",
      " 78%|███████▊  | 367/469 [00:06<00:01, 58.13it/s]"
     ]
    },
    {
     "name": "stdout",
     "output_type": "stream",
     "text": [
      "Epoch 76, step 36000: Generator loss: 2.3656769449710833, discriminator loss: 0.24074568328261375\n"
     ]
    },
    {
     "name": "stderr",
     "output_type": "stream",
     "text": [
      "100%|██████████| 469/469 [00:08<00:00, 57.98it/s]\n",
      " 84%|████████▍ | 396/469 [00:06<00:01, 57.54it/s]"
     ]
    },
    {
     "name": "stdout",
     "output_type": "stream",
     "text": [
      "Epoch 77, step 36500: Generator loss: 2.205502091169357, discriminator loss: 0.28823417118191685\n"
     ]
    },
    {
     "name": "stderr",
     "output_type": "stream",
     "text": [
      "100%|██████████| 469/469 [00:08<00:00, 57.75it/s]\n",
      " 91%|█████████ | 426/469 [00:07<00:00, 57.59it/s]"
     ]
    },
    {
     "name": "stdout",
     "output_type": "stream",
     "text": [
      "Epoch 78, step 37000: Generator loss: 2.3128911523818956, discriminator loss: 0.26204832884669266\n"
     ]
    },
    {
     "name": "stderr",
     "output_type": "stream",
     "text": [
      "100%|██████████| 469/469 [00:08<00:00, 57.75it/s]\n",
      " 98%|█████████▊| 458/469 [00:07<00:00, 58.59it/s]"
     ]
    },
    {
     "name": "stdout",
     "output_type": "stream",
     "text": [
      "Epoch 79, step 37500: Generator loss: 2.4357968211174, discriminator loss: 0.23075832355022435\n"
     ]
    },
    {
     "name": "stderr",
     "output_type": "stream",
     "text": [
      "100%|██████████| 469/469 [00:08<00:00, 58.26it/s]\n",
      "100%|██████████| 469/469 [00:08<00:00, 57.97it/s]\n",
      "  4%|▍         | 18/469 [00:00<00:07, 57.93it/s]"
     ]
    },
    {
     "name": "stdout",
     "output_type": "stream",
     "text": [
      "Epoch 81, step 38000: Generator loss: 2.3129216346740686, discriminator loss: 0.26328273966908455\n"
     ]
    },
    {
     "name": "stderr",
     "output_type": "stream",
     "text": [
      "100%|██████████| 469/469 [00:08<00:00, 58.56it/s]\n",
      " 12%|█▏        | 54/469 [00:00<00:07, 58.63it/s]"
     ]
    },
    {
     "name": "stdout",
     "output_type": "stream",
     "text": [
      "Epoch 82, step 38500: Generator loss: 2.2548007993698116, discriminator loss: 0.2747210665047167\n"
     ]
    },
    {
     "name": "stderr",
     "output_type": "stream",
     "text": [
      "100%|██████████| 469/469 [00:08<00:00, 58.56it/s]\n",
      " 18%|█▊        | 85/469 [00:01<00:06, 58.19it/s]"
     ]
    },
    {
     "name": "stdout",
     "output_type": "stream",
     "text": [
      "Epoch 83, step 39000: Generator loss: 2.241731971502305, discriminator loss: 0.2703691499233247\n"
     ]
    },
    {
     "name": "stderr",
     "output_type": "stream",
     "text": [
      "100%|██████████| 469/469 [00:08<00:00, 57.89it/s]\n",
      " 24%|██▍       | 114/469 [00:01<00:06, 57.68it/s]"
     ]
    },
    {
     "name": "stdout",
     "output_type": "stream",
     "text": [
      "Epoch 84, step 39500: Generator loss: 2.2352906727790844, discriminator loss: 0.28185012167692164\n"
     ]
    },
    {
     "name": "stderr",
     "output_type": "stream",
     "text": [
      "100%|██████████| 469/469 [00:08<00:00, 57.75it/s]\n",
      " 31%|███       | 144/469 [00:02<00:05, 57.64it/s]"
     ]
    },
    {
     "name": "stdout",
     "output_type": "stream",
     "text": [
      "Epoch 85, step 40000: Generator loss: 2.283400178194044, discriminator loss: 0.26779691791534427\n"
     ]
    },
    {
     "name": "stderr",
     "output_type": "stream",
     "text": [
      "100%|██████████| 469/469 [00:08<00:00, 57.92it/s]\n",
      " 37%|███▋      | 174/469 [00:02<00:05, 57.83it/s]"
     ]
    },
    {
     "name": "stdout",
     "output_type": "stream",
     "text": [
      "Epoch 86, step 40500: Generator loss: 2.208195971727371, discriminator loss: 0.2852229144573212\n"
     ]
    },
    {
     "name": "stderr",
     "output_type": "stream",
     "text": [
      "100%|██████████| 469/469 [00:08<00:00, 57.90it/s]\n",
      " 43%|████▎     | 204/469 [00:03<00:04, 58.00it/s]"
     ]
    },
    {
     "name": "stdout",
     "output_type": "stream",
     "text": [
      "Epoch 87, step 41000: Generator loss: 2.232149735212325, discriminator loss: 0.25926067709922795\n"
     ]
    },
    {
     "name": "stderr",
     "output_type": "stream",
     "text": [
      "100%|██████████| 469/469 [00:08<00:00, 58.51it/s]\n",
      " 51%|█████     | 237/469 [00:04<00:03, 58.42it/s]"
     ]
    },
    {
     "name": "stdout",
     "output_type": "stream",
     "text": [
      "Epoch 88, step 41500: Generator loss: 2.2421170961856807, discriminator loss: 0.28371696567535426\n"
     ]
    },
    {
     "name": "stderr",
     "output_type": "stream",
     "text": [
      "100%|██████████| 469/469 [00:08<00:00, 58.56it/s]\n",
      " 58%|█████▊    | 271/469 [00:04<00:03, 58.16it/s]"
     ]
    },
    {
     "name": "stdout",
     "output_type": "stream",
     "text": [
      "Epoch 89, step 42000: Generator loss: 2.114679725885391, discriminator loss: 0.29948222213983533\n"
     ]
    },
    {
     "name": "stderr",
     "output_type": "stream",
     "text": [
      "100%|██████████| 469/469 [00:08<00:00, 58.30it/s]\n",
      " 64%|██████▍   | 300/469 [00:05<00:02, 58.11it/s]"
     ]
    },
    {
     "name": "stdout",
     "output_type": "stream",
     "text": [
      "Epoch 90, step 42500: Generator loss: 2.185013520479202, discriminator loss: 0.28177990379929535\n"
     ]
    },
    {
     "name": "stderr",
     "output_type": "stream",
     "text": [
      "100%|██████████| 469/469 [00:08<00:00, 58.19it/s]\n",
      " 70%|███████   | 330/469 [00:05<00:02, 58.88it/s]"
     ]
    },
    {
     "name": "stdout",
     "output_type": "stream",
     "text": [
      "Epoch 91, step 43000: Generator loss: 1.9980086479187025, discriminator loss: 0.33208808323740946\n"
     ]
    },
    {
     "name": "stderr",
     "output_type": "stream",
     "text": [
      "100%|██████████| 469/469 [00:08<00:00, 58.50it/s]\n",
      " 77%|███████▋  | 360/469 [00:06<00:01, 58.64it/s]"
     ]
    },
    {
     "name": "stdout",
     "output_type": "stream",
     "text": [
      "Epoch 92, step 43500: Generator loss: 1.8991193466186516, discriminator loss: 0.3334958994686604\n"
     ]
    },
    {
     "name": "stderr",
     "output_type": "stream",
     "text": [
      "100%|██████████| 469/469 [00:08<00:00, 58.45it/s]\n",
      " 83%|████████▎ | 391/469 [00:06<00:01, 57.96it/s]"
     ]
    },
    {
     "name": "stdout",
     "output_type": "stream",
     "text": [
      "Epoch 93, step 44000: Generator loss: 1.9589461576938623, discriminator loss: 0.3156707166135314\n"
     ]
    },
    {
     "name": "stderr",
     "output_type": "stream",
     "text": [
      "100%|██████████| 469/469 [00:08<00:00, 58.13it/s]\n",
      " 90%|█████████ | 423/469 [00:07<00:00, 58.81it/s]"
     ]
    },
    {
     "name": "stdout",
     "output_type": "stream",
     "text": [
      "Epoch 94, step 44500: Generator loss: 2.0766145379543293, discriminator loss: 0.2867585603296759\n"
     ]
    },
    {
     "name": "stderr",
     "output_type": "stream",
     "text": [
      "100%|██████████| 469/469 [00:08<00:00, 58.48it/s]\n",
      " 97%|█████████▋| 453/469 [00:07<00:00, 56.90it/s]"
     ]
    },
    {
     "name": "stdout",
     "output_type": "stream",
     "text": [
      "Epoch 95, step 45000: Generator loss: 2.1095434682369243, discriminator loss: 0.29165066778659815\n"
     ]
    },
    {
     "name": "stderr",
     "output_type": "stream",
     "text": [
      "100%|██████████| 469/469 [00:08<00:00, 58.35it/s]\n",
      "100%|██████████| 469/469 [00:08<00:00, 58.23it/s]\n",
      "  4%|▍         | 18/469 [00:00<00:07, 57.85it/s]"
     ]
    },
    {
     "name": "stdout",
     "output_type": "stream",
     "text": [
      "Epoch 97, step 45500: Generator loss: 2.0686471273899096, discriminator loss: 0.29158375960588473\n"
     ]
    },
    {
     "name": "stderr",
     "output_type": "stream",
     "text": [
      "100%|██████████| 469/469 [00:07<00:00, 58.63it/s]\n",
      " 10%|█         | 49/469 [00:00<00:07, 58.41it/s]"
     ]
    },
    {
     "name": "stdout",
     "output_type": "stream",
     "text": [
      "Epoch 98, step 46000: Generator loss: 1.9646357102394092, discriminator loss: 0.31785580441355715\n"
     ]
    },
    {
     "name": "stderr",
     "output_type": "stream",
     "text": [
      "100%|██████████| 469/469 [00:08<00:00, 58.62it/s]\n",
      " 17%|█▋        | 79/469 [00:01<00:06, 59.14it/s]"
     ]
    },
    {
     "name": "stdout",
     "output_type": "stream",
     "text": [
      "Epoch 99, step 46500: Generator loss: 1.9618738436698915, discriminator loss: 0.3097116082012652\n"
     ]
    },
    {
     "name": "stderr",
     "output_type": "stream",
     "text": [
      "100%|██████████| 469/469 [00:08<00:00, 58.48it/s]\n"
     ]
    }
   ],
   "source": [
    "cur_step = 0\n",
    "mean_generator_loss = 0\n",
    "mean_discriminator_loss = 0\n",
    "gen_loss = False\n",
    "error = False\n",
    "\n",
    "for epoch in range(n_epochs):\n",
    "    # Dataloader returns the batches\n",
    "    for real, _ in tqdm(dataloader):\n",
    "        cur_batch_size = len(real)\n",
    "\n",
    "        # Flatten the batch of real images from the dataset\n",
    "        real = real.view(cur_batch_size, -1).to(device)\n",
    "\n",
    "        ### Update discriminator ###\n",
    "        # Zero out the gradients before backpropagation\n",
    "        disc_opt.zero_grad()\n",
    "\n",
    "        # Calculate discriminator loss\n",
    "        disc_loss = get_disc_loss(gen, disc, criterion, real, cur_batch_size, z_dim, device)\n",
    "\n",
    "        # Update gradients\n",
    "        disc_loss.backward(retain_graph=True)\n",
    "\n",
    "        # Update optimizer\n",
    "        disc_opt.step()\n",
    "\n",
    "        ### Update generator ###\n",
    "        #     Hint: This code will look a lot like the discriminator updates!\n",
    "        #     These are the steps you will need to complete:\n",
    "        #       1) Zero out the gradients.\n",
    "        #       2) Calculate the generator loss, assigning it to gen_loss.\n",
    "        #       3) Backprop through the generator: update the gradients and optimizer.\n",
    "        #### START CODE HERE ####\n",
    "        # Zero out the gradients.\n",
    "        gen_opt.zero_grad()\n",
    "\n",
    "        # Calculate the generator loss\n",
    "        gen_loss = get_gen_loss(gen, disc, criterion, cur_batch_size, z_dim, device)\n",
    "\n",
    "        # Backprop through the generator and update the gradients and optimizer.\n",
    "        gen_loss.backward()\n",
    "        gen_opt.step()\n",
    "        #### END CODE HERE ####\n",
    "\n",
    "        # Keep track of the average discriminator loss\n",
    "        mean_discriminator_loss += disc_loss.item() / display_step\n",
    "\n",
    "        # Keep track of the average generator loss\n",
    "        mean_generator_loss += gen_loss.item() / display_step\n",
    "\n",
    "        ### Visualization code ###\n",
    "        if cur_step % display_step == 0 and cur_step > 0:\n",
    "            print(f\"Epoch {epoch}, step {cur_step}: Generator loss: {mean_generator_loss}, discriminator loss: {mean_discriminator_loss}\")\n",
    "\n",
    "            # Generate fake images for visualization\n",
    "            fake_noise = get_noise(cur_batch_size, z_dim, device=device)\n",
    "            fake = gen(fake_noise)\n",
    "            # You can display the generated images here using 'show_tensor_images(fake)' and 'show_tensor_images(real)'.\n",
    "\n",
    "            # Reset the mean loss values\n",
    "            mean_generator_loss = 0\n",
    "            mean_discriminator_loss = 0\n",
    "\n",
    "        cur_step += 1"
   ]
  },
  {
   "cell_type": "markdown",
   "metadata": {},
   "source": [
    "Tuning Hyperparameters"
   ]
  },
  {
   "cell_type": "code",
   "execution_count": 19,
   "metadata": {},
   "outputs": [],
   "source": [
    "# Set your parameters\n",
    "criterion = nn.BCEWithLogitsLoss()\n",
    "n_epochs = 100\n",
    "z_dim = 64\n",
    "display_step = 500\n",
    "batch_size = 64\n",
    "lr = 0.0002"
   ]
  },
  {
   "cell_type": "code",
   "execution_count": 20,
   "metadata": {},
   "outputs": [
    {
     "name": "stderr",
     "output_type": "stream",
     "text": [
      "100%|██████████| 469/469 [00:07<00:00, 59.79it/s]\n",
      "  8%|▊         | 38/469 [00:00<00:07, 59.17it/s]"
     ]
    },
    {
     "name": "stdout",
     "output_type": "stream",
     "text": [
      "Epoch 1, step 500: Generator loss: 1.9790336453914643, discriminator loss: 0.3127773903012278\n"
     ]
    },
    {
     "name": "stderr",
     "output_type": "stream",
     "text": [
      "100%|██████████| 469/469 [00:07<00:00, 59.24it/s]\n",
      " 16%|█▌        | 74/469 [00:01<00:06, 59.10it/s]"
     ]
    },
    {
     "name": "stdout",
     "output_type": "stream",
     "text": [
      "Epoch 2, step 1000: Generator loss: 1.9874166448116308, discriminator loss: 0.30615846979618067\n"
     ]
    },
    {
     "name": "stderr",
     "output_type": "stream",
     "text": [
      "100%|██████████| 469/469 [00:07<00:00, 59.74it/s]\n",
      " 21%|██▏       | 100/469 [00:01<00:06, 60.20it/s]"
     ]
    },
    {
     "name": "stdout",
     "output_type": "stream",
     "text": [
      "Epoch 3, step 1500: Generator loss: 1.9672996695041671, discriminator loss: 0.3028367560207845\n"
     ]
    },
    {
     "name": "stderr",
     "output_type": "stream",
     "text": [
      "100%|██████████| 469/469 [00:07<00:00, 60.17it/s]\n",
      " 29%|██▉       | 136/469 [00:02<00:05, 60.46it/s]"
     ]
    },
    {
     "name": "stdout",
     "output_type": "stream",
     "text": [
      "Epoch 4, step 2000: Generator loss: 2.125830997467042, discriminator loss: 0.28101168280839917\n"
     ]
    },
    {
     "name": "stderr",
     "output_type": "stream",
     "text": [
      "100%|██████████| 469/469 [00:07<00:00, 60.33it/s]\n",
      " 35%|███▌      | 165/469 [00:02<00:05, 60.39it/s]"
     ]
    },
    {
     "name": "stdout",
     "output_type": "stream",
     "text": [
      "Epoch 5, step 2500: Generator loss: 1.9308413310050965, discriminator loss: 0.32499813565611824\n"
     ]
    },
    {
     "name": "stderr",
     "output_type": "stream",
     "text": [
      "100%|██████████| 469/469 [00:07<00:00, 60.32it/s]\n",
      " 41%|████▏     | 194/469 [00:03<00:04, 55.17it/s]"
     ]
    },
    {
     "name": "stdout",
     "output_type": "stream",
     "text": [
      "Epoch 6, step 3000: Generator loss: 1.8727563815116874, discriminator loss: 0.3375176734924315\n"
     ]
    },
    {
     "name": "stderr",
     "output_type": "stream",
     "text": [
      "100%|██████████| 469/469 [00:08<00:00, 58.02it/s]\n",
      " 49%|████▊     | 228/469 [00:04<00:04, 54.63it/s]"
     ]
    },
    {
     "name": "stdout",
     "output_type": "stream",
     "text": [
      "Epoch 7, step 3500: Generator loss: 1.8572544255256638, discriminator loss: 0.33433329761028296\n"
     ]
    },
    {
     "name": "stderr",
     "output_type": "stream",
     "text": [
      "100%|██████████| 469/469 [00:08<00:00, 55.77it/s]\n",
      " 55%|█████▌    | 258/469 [00:04<00:03, 55.24it/s]"
     ]
    },
    {
     "name": "stdout",
     "output_type": "stream",
     "text": [
      "Epoch 8, step 4000: Generator loss: 1.8135746021270769, discriminator loss: 0.33347583630681027\n"
     ]
    },
    {
     "name": "stderr",
     "output_type": "stream",
     "text": [
      "100%|██████████| 469/469 [00:08<00:00, 56.12it/s]\n",
      " 62%|██████▏   | 291/469 [00:04<00:03, 58.29it/s]"
     ]
    },
    {
     "name": "stdout",
     "output_type": "stream",
     "text": [
      "Epoch 9, step 4500: Generator loss: 1.9111542162895199, discriminator loss: 0.32189000526070577\n"
     ]
    },
    {
     "name": "stderr",
     "output_type": "stream",
     "text": [
      "100%|██████████| 469/469 [00:08<00:00, 58.44it/s]\n",
      " 68%|██████▊   | 318/469 [00:05<00:02, 58.09it/s]"
     ]
    },
    {
     "name": "stdout",
     "output_type": "stream",
     "text": [
      "Epoch 10, step 5000: Generator loss: 1.8447313029766081, discriminator loss: 0.33801164796948435\n"
     ]
    },
    {
     "name": "stderr",
     "output_type": "stream",
     "text": [
      "100%|██████████| 469/469 [00:08<00:00, 58.40it/s]\n",
      " 75%|███████▌  | 352/469 [00:06<00:02, 58.39it/s]"
     ]
    },
    {
     "name": "stdout",
     "output_type": "stream",
     "text": [
      "Epoch 11, step 5500: Generator loss: 1.9364835929870596, discriminator loss: 0.31115618479251844\n"
     ]
    },
    {
     "name": "stderr",
     "output_type": "stream",
     "text": [
      "100%|██████████| 469/469 [00:08<00:00, 58.46it/s]\n",
      " 81%|████████  | 379/469 [00:06<00:01, 58.36it/s]"
     ]
    },
    {
     "name": "stdout",
     "output_type": "stream",
     "text": [
      "Epoch 12, step 6000: Generator loss: 1.937139004230497, discriminator loss: 0.31491297975182536\n"
     ]
    },
    {
     "name": "stderr",
     "output_type": "stream",
     "text": [
      "100%|██████████| 469/469 [00:08<00:00, 58.16it/s]\n",
      " 88%|████████▊ | 414/469 [00:07<00:00, 58.26it/s]"
     ]
    },
    {
     "name": "stdout",
     "output_type": "stream",
     "text": [
      "Epoch 13, step 6500: Generator loss: 2.001153722763062, discriminator loss: 0.30024346432089816\n"
     ]
    },
    {
     "name": "stderr",
     "output_type": "stream",
     "text": [
      "100%|██████████| 469/469 [00:08<00:00, 57.89it/s]\n",
      " 95%|█████████▍| 444/469 [00:07<00:00, 58.53it/s]"
     ]
    },
    {
     "name": "stdout",
     "output_type": "stream",
     "text": [
      "Epoch 14, step 7000: Generator loss: 1.896509397983552, discriminator loss: 0.32326552429795263\n"
     ]
    },
    {
     "name": "stderr",
     "output_type": "stream",
     "text": [
      "100%|██████████| 469/469 [00:07<00:00, 58.73it/s]\n",
      "100%|██████████| 469/469 [00:08<00:00, 58.16it/s]\n"
     ]
    },
    {
     "name": "stdout",
     "output_type": "stream",
     "text": [
      "Epoch 15, step 7500: Generator loss: 1.7301996662616725, discriminator loss: 0.37102960538864116\n"
     ]
    },
    {
     "name": "stderr",
     "output_type": "stream",
     "text": [
      "100%|██████████| 469/469 [00:08<00:00, 57.95it/s]\n",
      "  8%|▊         | 36/469 [00:00<00:07, 57.54it/s]"
     ]
    },
    {
     "name": "stdout",
     "output_type": "stream",
     "text": [
      "Epoch 17, step 8000: Generator loss: 1.775928490877152, discriminator loss: 0.3478870198726655\n"
     ]
    },
    {
     "name": "stderr",
     "output_type": "stream",
     "text": [
      "100%|██████████| 469/469 [00:08<00:00, 58.20it/s]\n",
      " 14%|█▍        | 66/469 [00:01<00:06, 58.11it/s]"
     ]
    },
    {
     "name": "stdout",
     "output_type": "stream",
     "text": [
      "Epoch 18, step 8500: Generator loss: 1.8013720133304598, discriminator loss: 0.34162305849790586\n"
     ]
    },
    {
     "name": "stderr",
     "output_type": "stream",
     "text": [
      "100%|██████████| 469/469 [00:07<00:00, 58.66it/s]\n",
      " 20%|██        | 96/469 [00:01<00:06, 58.49it/s]"
     ]
    },
    {
     "name": "stdout",
     "output_type": "stream",
     "text": [
      "Epoch 19, step 9000: Generator loss: 1.8283893129825577, discriminator loss: 0.33225237756967513\n"
     ]
    },
    {
     "name": "stderr",
     "output_type": "stream",
     "text": [
      "100%|██████████| 469/469 [00:08<00:00, 58.23it/s]\n",
      " 28%|██▊       | 132/469 [00:02<00:05, 58.18it/s]"
     ]
    },
    {
     "name": "stdout",
     "output_type": "stream",
     "text": [
      "Epoch 20, step 9500: Generator loss: 1.8297752141952492, discriminator loss: 0.3346563547849657\n"
     ]
    },
    {
     "name": "stderr",
     "output_type": "stream",
     "text": [
      "100%|██████████| 469/469 [00:08<00:00, 58.11it/s]\n",
      " 35%|███▍      | 162/469 [00:02<00:05, 58.42it/s]"
     ]
    },
    {
     "name": "stdout",
     "output_type": "stream",
     "text": [
      "Epoch 21, step 10000: Generator loss: 1.762882526159286, discriminator loss: 0.34930628168582867\n"
     ]
    },
    {
     "name": "stderr",
     "output_type": "stream",
     "text": [
      "100%|██████████| 469/469 [00:08<00:00, 58.21it/s]\n",
      " 41%|████      | 192/469 [00:03<00:04, 57.89it/s]"
     ]
    },
    {
     "name": "stdout",
     "output_type": "stream",
     "text": [
      "Epoch 22, step 10500: Generator loss: 1.6848373870849596, discriminator loss: 0.3650973277688024\n"
     ]
    },
    {
     "name": "stderr",
     "output_type": "stream",
     "text": [
      "100%|██████████| 469/469 [00:08<00:00, 58.48it/s]\n",
      " 48%|████▊     | 223/469 [00:03<00:04, 58.52it/s]"
     ]
    },
    {
     "name": "stdout",
     "output_type": "stream",
     "text": [
      "Epoch 23, step 11000: Generator loss: 1.6822933018207555, discriminator loss: 0.3651943826675415\n"
     ]
    },
    {
     "name": "stderr",
     "output_type": "stream",
     "text": [
      "100%|██████████| 469/469 [00:08<00:00, 58.04it/s]\n",
      " 54%|█████▎    | 252/469 [00:04<00:03, 58.23it/s]"
     ]
    },
    {
     "name": "stdout",
     "output_type": "stream",
     "text": [
      "Epoch 24, step 11500: Generator loss: 1.7356686341762542, discriminator loss: 0.3665433906912804\n"
     ]
    },
    {
     "name": "stderr",
     "output_type": "stream",
     "text": [
      "100%|██████████| 469/469 [00:08<00:00, 58.18it/s]\n",
      " 60%|██████    | 282/469 [00:04<00:03, 58.15it/s]"
     ]
    },
    {
     "name": "stdout",
     "output_type": "stream",
     "text": [
      "Epoch 25, step 12000: Generator loss: 1.7105997185707096, discriminator loss: 0.3711550772786142\n"
     ]
    },
    {
     "name": "stderr",
     "output_type": "stream",
     "text": [
      "100%|██████████| 469/469 [00:08<00:00, 58.49it/s]\n",
      " 67%|██████▋   | 314/469 [00:05<00:02, 59.50it/s]"
     ]
    },
    {
     "name": "stdout",
     "output_type": "stream",
     "text": [
      "Epoch 26, step 12500: Generator loss: 1.771575906515121, discriminator loss: 0.3426092804968356\n"
     ]
    },
    {
     "name": "stderr",
     "output_type": "stream",
     "text": [
      "100%|██████████| 469/469 [00:07<00:00, 59.01it/s]\n",
      " 74%|███████▎  | 345/469 [00:05<00:02, 58.43it/s]"
     ]
    },
    {
     "name": "stdout",
     "output_type": "stream",
     "text": [
      "Epoch 27, step 13000: Generator loss: 1.7413611824512478, discriminator loss: 0.35506904894113545\n"
     ]
    },
    {
     "name": "stderr",
     "output_type": "stream",
     "text": [
      "100%|██████████| 469/469 [00:08<00:00, 58.52it/s]\n",
      " 80%|███████▉  | 375/469 [00:06<00:01, 58.57it/s]"
     ]
    },
    {
     "name": "stdout",
     "output_type": "stream",
     "text": [
      "Epoch 28, step 13500: Generator loss: 1.703806354761125, discriminator loss: 0.36232500660419453\n"
     ]
    },
    {
     "name": "stderr",
     "output_type": "stream",
     "text": [
      "100%|██████████| 469/469 [00:07<00:00, 58.74it/s]\n",
      " 87%|████████▋ | 409/469 [00:06<00:01, 58.21it/s]"
     ]
    },
    {
     "name": "stdout",
     "output_type": "stream",
     "text": [
      "Epoch 29, step 14000: Generator loss: 1.7822247915267944, discriminator loss: 0.3384001784324644\n"
     ]
    },
    {
     "name": "stderr",
     "output_type": "stream",
     "text": [
      "100%|██████████| 469/469 [00:08<00:00, 58.45it/s]\n",
      " 94%|█████████▍| 442/469 [00:07<00:00, 56.90it/s]"
     ]
    },
    {
     "name": "stdout",
     "output_type": "stream",
     "text": [
      "Epoch 30, step 14500: Generator loss: 1.7631702659130095, discriminator loss: 0.34251142007112484\n"
     ]
    },
    {
     "name": "stderr",
     "output_type": "stream",
     "text": [
      "100%|██████████| 469/469 [00:08<00:00, 58.49it/s]\n",
      "100%|██████████| 469/469 [00:08<00:00, 58.23it/s]\n"
     ]
    },
    {
     "name": "stdout",
     "output_type": "stream",
     "text": [
      "Epoch 31, step 15000: Generator loss: 1.8607504158020007, discriminator loss: 0.32774255117774\n"
     ]
    },
    {
     "name": "stderr",
     "output_type": "stream",
     "text": [
      "100%|██████████| 469/469 [00:08<00:00, 58.35it/s]\n",
      "  6%|▋         | 30/469 [00:00<00:07, 57.54it/s]"
     ]
    },
    {
     "name": "stdout",
     "output_type": "stream",
     "text": [
      "Epoch 33, step 15500: Generator loss: 1.7387535898685453, discriminator loss: 0.3553470794558529\n"
     ]
    },
    {
     "name": "stderr",
     "output_type": "stream",
     "text": [
      "100%|██████████| 469/469 [00:08<00:00, 58.33it/s]\n",
      " 14%|█▍        | 66/469 [00:01<00:06, 58.63it/s]"
     ]
    },
    {
     "name": "stdout",
     "output_type": "stream",
     "text": [
      "Epoch 34, step 16000: Generator loss: 1.7421159024238582, discriminator loss: 0.36131349682807884\n"
     ]
    },
    {
     "name": "stderr",
     "output_type": "stream",
     "text": [
      "100%|██████████| 469/469 [00:08<00:00, 58.44it/s]\n",
      " 20%|██        | 96/469 [00:01<00:06, 57.91it/s]"
     ]
    },
    {
     "name": "stdout",
     "output_type": "stream",
     "text": [
      "Epoch 35, step 16500: Generator loss: 1.734297807455064, discriminator loss: 0.3458325729370119\n"
     ]
    },
    {
     "name": "stderr",
     "output_type": "stream",
     "text": [
      "100%|██████████| 469/469 [00:08<00:00, 58.05it/s]\n",
      " 27%|██▋       | 126/469 [00:02<00:05, 58.57it/s]"
     ]
    },
    {
     "name": "stdout",
     "output_type": "stream",
     "text": [
      "Epoch 36, step 17000: Generator loss: 1.5803801896572105, discriminator loss: 0.40859213709831227\n"
     ]
    },
    {
     "name": "stderr",
     "output_type": "stream",
     "text": [
      "100%|██████████| 469/469 [00:08<00:00, 58.62it/s]\n",
      " 34%|███▍      | 159/469 [00:02<00:05, 58.04it/s]"
     ]
    },
    {
     "name": "stdout",
     "output_type": "stream",
     "text": [
      "Epoch 37, step 17500: Generator loss: 1.5631846690177928, discriminator loss: 0.39239273297786703\n"
     ]
    },
    {
     "name": "stderr",
     "output_type": "stream",
     "text": [
      "100%|██████████| 469/469 [00:08<00:00, 58.50it/s]\n",
      " 40%|███▉      | 186/469 [00:03<00:04, 58.46it/s]"
     ]
    },
    {
     "name": "stdout",
     "output_type": "stream",
     "text": [
      "Epoch 38, step 18000: Generator loss: 1.6743447861671452, discriminator loss: 0.36413999801874153\n"
     ]
    },
    {
     "name": "stderr",
     "output_type": "stream",
     "text": [
      "100%|██████████| 469/469 [00:08<00:00, 58.15it/s]\n",
      " 46%|████▌     | 216/469 [00:03<00:04, 58.48it/s]"
     ]
    },
    {
     "name": "stdout",
     "output_type": "stream",
     "text": [
      "Epoch 39, step 18500: Generator loss: 1.696662154436112, discriminator loss: 0.37327309209108356\n"
     ]
    },
    {
     "name": "stderr",
     "output_type": "stream",
     "text": [
      "100%|██████████| 469/469 [00:08<00:00, 58.48it/s]\n",
      " 54%|█████▎    | 252/469 [00:04<00:03, 56.47it/s]"
     ]
    },
    {
     "name": "stdout",
     "output_type": "stream",
     "text": [
      "Epoch 40, step 19000: Generator loss: 1.7010119922161102, discriminator loss: 0.366470615625381\n"
     ]
    },
    {
     "name": "stderr",
     "output_type": "stream",
     "text": [
      "100%|██████████| 469/469 [00:08<00:00, 55.85it/s]\n",
      " 60%|██████    | 283/469 [00:04<00:03, 58.27it/s]"
     ]
    },
    {
     "name": "stdout",
     "output_type": "stream",
     "text": [
      "Epoch 41, step 19500: Generator loss: 1.6727599413394934, discriminator loss: 0.3788628803491594\n"
     ]
    },
    {
     "name": "stderr",
     "output_type": "stream",
     "text": [
      "100%|██████████| 469/469 [00:08<00:00, 58.25it/s]\n",
      " 67%|██████▋   | 312/469 [00:05<00:02, 58.27it/s]"
     ]
    },
    {
     "name": "stdout",
     "output_type": "stream",
     "text": [
      "Epoch 42, step 20000: Generator loss: 1.6593665852546713, discriminator loss: 0.37363124543428405\n"
     ]
    },
    {
     "name": "stderr",
     "output_type": "stream",
     "text": [
      "100%|██████████| 469/469 [00:08<00:00, 58.07it/s]\n",
      " 73%|███████▎  | 343/469 [00:05<00:02, 58.62it/s]"
     ]
    },
    {
     "name": "stdout",
     "output_type": "stream",
     "text": [
      "Epoch 43, step 20500: Generator loss: 1.6633546288013454, discriminator loss: 0.3642607588171962\n"
     ]
    },
    {
     "name": "stderr",
     "output_type": "stream",
     "text": [
      "100%|██████████| 469/469 [00:07<00:00, 58.72it/s]\n",
      " 80%|███████▉  | 374/469 [00:06<00:01, 58.90it/s]"
     ]
    },
    {
     "name": "stdout",
     "output_type": "stream",
     "text": [
      "Epoch 44, step 21000: Generator loss: 1.6326684989929208, discriminator loss: 0.37762532866001053\n"
     ]
    },
    {
     "name": "stderr",
     "output_type": "stream",
     "text": [
      "100%|██████████| 469/469 [00:07<00:00, 59.01it/s]\n",
      " 86%|████████▌ | 402/469 [00:06<00:01, 57.95it/s]"
     ]
    },
    {
     "name": "stdout",
     "output_type": "stream",
     "text": [
      "Epoch 45, step 21500: Generator loss: 1.7340701627731325, discriminator loss: 0.3417727158963676\n"
     ]
    },
    {
     "name": "stderr",
     "output_type": "stream",
     "text": [
      "100%|██████████| 469/469 [00:08<00:00, 57.84it/s]\n",
      " 93%|█████████▎| 438/469 [00:07<00:00, 57.69it/s]"
     ]
    },
    {
     "name": "stdout",
     "output_type": "stream",
     "text": [
      "Epoch 46, step 22000: Generator loss: 1.6583529324531552, discriminator loss: 0.38468736940622345\n"
     ]
    },
    {
     "name": "stderr",
     "output_type": "stream",
     "text": [
      "100%|██████████| 469/469 [00:08<00:00, 57.43it/s]\n",
      "100%|██████████| 469/469 [00:08<00:00, 57.86it/s]\n"
     ]
    },
    {
     "name": "stdout",
     "output_type": "stream",
     "text": [
      "Epoch 47, step 22500: Generator loss: 1.6357002360820754, discriminator loss: 0.3771586527228357\n"
     ]
    },
    {
     "name": "stderr",
     "output_type": "stream",
     "text": [
      "100%|██████████| 469/469 [00:08<00:00, 57.85it/s]\n",
      "  6%|▋         | 30/469 [00:00<00:07, 57.94it/s]"
     ]
    },
    {
     "name": "stdout",
     "output_type": "stream",
     "text": [
      "Epoch 49, step 23000: Generator loss: 1.5847948057651513, discriminator loss: 0.3938114143610003\n"
     ]
    },
    {
     "name": "stderr",
     "output_type": "stream",
     "text": [
      "100%|██████████| 469/469 [00:08<00:00, 58.14it/s]\n",
      " 13%|█▎        | 60/469 [00:01<00:07, 57.89it/s]"
     ]
    },
    {
     "name": "stdout",
     "output_type": "stream",
     "text": [
      "Epoch 50, step 23500: Generator loss: 1.6260124902725224, discriminator loss: 0.37353168725967417\n"
     ]
    },
    {
     "name": "stderr",
     "output_type": "stream",
     "text": [
      "100%|██████████| 469/469 [00:08<00:00, 58.15it/s]\n",
      " 19%|█▉        | 90/469 [00:01<00:06, 56.82it/s]"
     ]
    },
    {
     "name": "stdout",
     "output_type": "stream",
     "text": [
      "Epoch 51, step 24000: Generator loss: 1.5716057708263382, discriminator loss: 0.38645101082325006\n"
     ]
    },
    {
     "name": "stderr",
     "output_type": "stream",
     "text": [
      "100%|██████████| 469/469 [00:08<00:00, 57.71it/s]\n",
      " 26%|██▌       | 120/469 [00:02<00:06, 58.09it/s]"
     ]
    },
    {
     "name": "stdout",
     "output_type": "stream",
     "text": [
      "Epoch 52, step 24500: Generator loss: 1.5707303359508518, discriminator loss: 0.38634838426113155\n"
     ]
    },
    {
     "name": "stderr",
     "output_type": "stream",
     "text": [
      "100%|██████████| 469/469 [00:08<00:00, 58.53it/s]\n",
      " 32%|███▏      | 152/469 [00:02<00:05, 54.87it/s]"
     ]
    },
    {
     "name": "stdout",
     "output_type": "stream",
     "text": [
      "Epoch 53, step 25000: Generator loss: 1.580783944606783, discriminator loss: 0.38316503280401265\n"
     ]
    },
    {
     "name": "stderr",
     "output_type": "stream",
     "text": [
      "100%|██████████| 469/469 [00:08<00:00, 57.13it/s]\n",
      " 38%|███▊      | 180/469 [00:03<00:05, 54.27it/s]"
     ]
    },
    {
     "name": "stdout",
     "output_type": "stream",
     "text": [
      "Epoch 54, step 25500: Generator loss: 1.5434854702949536, discriminator loss: 0.40061258232593605\n"
     ]
    },
    {
     "name": "stderr",
     "output_type": "stream",
     "text": [
      "100%|██████████| 469/469 [00:08<00:00, 56.11it/s]\n",
      " 46%|████▌     | 215/469 [00:03<00:04, 59.35it/s]"
     ]
    },
    {
     "name": "stdout",
     "output_type": "stream",
     "text": [
      "Epoch 55, step 26000: Generator loss: 1.5299535887241378, discriminator loss: 0.4066583515405654\n"
     ]
    },
    {
     "name": "stderr",
     "output_type": "stream",
     "text": [
      "100%|██████████| 469/469 [00:07<00:00, 59.30it/s]\n",
      " 52%|█████▏    | 245/469 [00:04<00:03, 57.49it/s]"
     ]
    },
    {
     "name": "stdout",
     "output_type": "stream",
     "text": [
      "Epoch 56, step 26500: Generator loss: 1.4735528676509848, discriminator loss: 0.4146890388131143\n"
     ]
    },
    {
     "name": "stderr",
     "output_type": "stream",
     "text": [
      "100%|██████████| 469/469 [00:07<00:00, 60.06it/s]\n",
      " 59%|█████▉    | 279/469 [00:04<00:03, 59.96it/s]"
     ]
    },
    {
     "name": "stdout",
     "output_type": "stream",
     "text": [
      "Epoch 57, step 27000: Generator loss: 1.5245599427223209, discriminator loss: 0.39939943027496366\n"
     ]
    },
    {
     "name": "stderr",
     "output_type": "stream",
     "text": [
      "100%|██████████| 469/469 [00:07<00:00, 59.96it/s]\n",
      " 66%|██████▌   | 308/469 [00:05<00:02, 59.93it/s]"
     ]
    },
    {
     "name": "stdout",
     "output_type": "stream",
     "text": [
      "Epoch 58, step 27500: Generator loss: 1.4744651894569407, discriminator loss: 0.4291537930965422\n"
     ]
    },
    {
     "name": "stderr",
     "output_type": "stream",
     "text": [
      "100%|██████████| 469/469 [00:07<00:00, 59.93it/s]\n",
      " 72%|███████▏  | 340/469 [00:05<00:02, 59.82it/s]"
     ]
    },
    {
     "name": "stdout",
     "output_type": "stream",
     "text": [
      "Epoch 59, step 28000: Generator loss: 1.4267918720245385, discriminator loss: 0.44310220730304783\n"
     ]
    },
    {
     "name": "stderr",
     "output_type": "stream",
     "text": [
      "100%|██████████| 469/469 [00:07<00:00, 60.27it/s]\n",
      " 79%|███████▊  | 369/469 [00:06<00:01, 60.51it/s]"
     ]
    },
    {
     "name": "stdout",
     "output_type": "stream",
     "text": [
      "Epoch 60, step 28500: Generator loss: 1.4149145765304563, discriminator loss: 0.4435834370851523\n"
     ]
    },
    {
     "name": "stderr",
     "output_type": "stream",
     "text": [
      "100%|██████████| 469/469 [00:07<00:00, 60.32it/s]\n",
      " 85%|████████▌ | 400/469 [00:06<00:01, 59.93it/s]"
     ]
    },
    {
     "name": "stdout",
     "output_type": "stream",
     "text": [
      "Epoch 61, step 29000: Generator loss: 1.4353604159355156, discriminator loss: 0.4365555022358892\n"
     ]
    },
    {
     "name": "stderr",
     "output_type": "stream",
     "text": [
      "100%|██████████| 469/469 [00:07<00:00, 60.15it/s]\n",
      " 92%|█████████▏| 433/469 [00:07<00:00, 59.93it/s]"
     ]
    },
    {
     "name": "stdout",
     "output_type": "stream",
     "text": [
      "Epoch 62, step 29500: Generator loss: 1.444420660972596, discriminator loss: 0.4195818862318993\n"
     ]
    },
    {
     "name": "stderr",
     "output_type": "stream",
     "text": [
      "100%|██████████| 469/469 [00:07<00:00, 59.96it/s]\n",
      " 99%|█████████▉| 465/469 [00:07<00:00, 60.04it/s]"
     ]
    },
    {
     "name": "stdout",
     "output_type": "stream",
     "text": [
      "Epoch 63, step 30000: Generator loss: 1.4622198424339283, discriminator loss: 0.4275713218450544\n"
     ]
    },
    {
     "name": "stderr",
     "output_type": "stream",
     "text": [
      "100%|██████████| 469/469 [00:07<00:00, 59.65it/s]\n",
      "100%|██████████| 469/469 [00:07<00:00, 60.04it/s]\n",
      "  5%|▌         | 25/469 [00:00<00:07, 60.15it/s]"
     ]
    },
    {
     "name": "stdout",
     "output_type": "stream",
     "text": [
      "Epoch 65, step 30500: Generator loss: 1.629588960647583, discriminator loss: 0.37472623199224425\n"
     ]
    },
    {
     "name": "stderr",
     "output_type": "stream",
     "text": [
      "100%|██████████| 469/469 [00:07<00:00, 60.60it/s]\n",
      " 12%|█▏        | 56/469 [00:00<00:06, 59.93it/s]"
     ]
    },
    {
     "name": "stdout",
     "output_type": "stream",
     "text": [
      "Epoch 66, step 31000: Generator loss: 1.4939263172149657, discriminator loss: 0.4156937547922134\n"
     ]
    },
    {
     "name": "stderr",
     "output_type": "stream",
     "text": [
      "100%|██████████| 469/469 [00:07<00:00, 59.78it/s]\n",
      " 18%|█▊        | 85/469 [00:01<00:06, 59.37it/s]"
     ]
    },
    {
     "name": "stdout",
     "output_type": "stream",
     "text": [
      "Epoch 67, step 31500: Generator loss: 1.4053115718364726, discriminator loss: 0.44769784605503077\n"
     ]
    },
    {
     "name": "stderr",
     "output_type": "stream",
     "text": [
      "100%|██████████| 469/469 [00:07<00:00, 59.37it/s]\n",
      " 25%|██▍       | 116/469 [00:01<00:05, 59.69it/s]"
     ]
    },
    {
     "name": "stdout",
     "output_type": "stream",
     "text": [
      "Epoch 68, step 32000: Generator loss: 1.4111106460094451, discriminator loss: 0.4178995424509048\n"
     ]
    },
    {
     "name": "stderr",
     "output_type": "stream",
     "text": [
      "100%|██████████| 469/469 [00:07<00:00, 60.12it/s]\n",
      " 31%|███▏      | 147/469 [00:02<00:05, 59.87it/s]"
     ]
    },
    {
     "name": "stdout",
     "output_type": "stream",
     "text": [
      "Epoch 69, step 32500: Generator loss: 1.4373353877067567, discriminator loss: 0.42381445717811594\n"
     ]
    },
    {
     "name": "stderr",
     "output_type": "stream",
     "text": [
      "100%|██████████| 469/469 [00:07<00:00, 59.91it/s]\n",
      " 38%|███▊      | 179/469 [00:03<00:04, 58.80it/s]"
     ]
    },
    {
     "name": "stdout",
     "output_type": "stream",
     "text": [
      "Epoch 70, step 33000: Generator loss: 1.435197462081909, discriminator loss: 0.4185414252281186\n"
     ]
    },
    {
     "name": "stderr",
     "output_type": "stream",
     "text": [
      "100%|██████████| 469/469 [00:07<00:00, 59.63it/s]\n",
      " 44%|████▍     | 208/469 [00:03<00:04, 56.37it/s]"
     ]
    },
    {
     "name": "stdout",
     "output_type": "stream",
     "text": [
      "Epoch 71, step 33500: Generator loss: 1.4932956376075726, discriminator loss: 0.41152186208963387\n"
     ]
    },
    {
     "name": "stderr",
     "output_type": "stream",
     "text": [
      "100%|██████████| 469/469 [00:07<00:00, 59.50it/s]\n",
      " 52%|█████▏    | 243/469 [00:04<00:03, 59.44it/s]"
     ]
    },
    {
     "name": "stdout",
     "output_type": "stream",
     "text": [
      "Epoch 72, step 34000: Generator loss: 1.3995902173519132, discriminator loss: 0.43652826684713364\n"
     ]
    },
    {
     "name": "stderr",
     "output_type": "stream",
     "text": [
      "100%|██████████| 469/469 [00:07<00:00, 59.75it/s]\n",
      " 58%|█████▊    | 273/469 [00:04<00:03, 59.56it/s]"
     ]
    },
    {
     "name": "stdout",
     "output_type": "stream",
     "text": [
      "Epoch 73, step 34500: Generator loss: 1.3663673505783085, discriminator loss: 0.4432771552205084\n"
     ]
    },
    {
     "name": "stderr",
     "output_type": "stream",
     "text": [
      "100%|██████████| 469/469 [00:07<00:00, 60.00it/s]\n",
      " 65%|██████▌   | 307/469 [00:05<00:02, 60.02it/s]"
     ]
    },
    {
     "name": "stdout",
     "output_type": "stream",
     "text": [
      "Epoch 74, step 35000: Generator loss: 1.4190758585929861, discriminator loss: 0.43203737550973925\n"
     ]
    },
    {
     "name": "stderr",
     "output_type": "stream",
     "text": [
      "100%|██████████| 469/469 [00:07<00:00, 59.88it/s]\n",
      " 70%|███████   | 329/469 [00:05<00:02, 47.09it/s]"
     ]
    },
    {
     "name": "stdout",
     "output_type": "stream",
     "text": [
      "Epoch 75, step 35500: Generator loss: 1.3283512544631948, discriminator loss: 0.4617076231241227\n"
     ]
    },
    {
     "name": "stderr",
     "output_type": "stream",
     "text": [
      "100%|██████████| 469/469 [00:08<00:00, 55.85it/s]\n",
      " 78%|███████▊  | 366/469 [00:06<00:01, 57.96it/s]"
     ]
    },
    {
     "name": "stdout",
     "output_type": "stream",
     "text": [
      "Epoch 76, step 36000: Generator loss: 1.3634894134998323, discriminator loss: 0.4511306073665612\n"
     ]
    },
    {
     "name": "stderr",
     "output_type": "stream",
     "text": [
      "100%|██████████| 469/469 [00:08<00:00, 58.10it/s]\n",
      " 85%|████████▌ | 400/469 [00:06<00:01, 59.27it/s]"
     ]
    },
    {
     "name": "stdout",
     "output_type": "stream",
     "text": [
      "Epoch 77, step 36500: Generator loss: 1.2561180365085596, discriminator loss: 0.4855002630949016\n"
     ]
    },
    {
     "name": "stderr",
     "output_type": "stream",
     "text": [
      "100%|██████████| 469/469 [00:07<00:00, 58.79it/s]\n",
      " 91%|█████████ | 426/469 [00:07<00:00, 58.23it/s]"
     ]
    },
    {
     "name": "stdout",
     "output_type": "stream",
     "text": [
      "Epoch 78, step 37000: Generator loss: 1.2467225239276882, discriminator loss: 0.4770323262810708\n"
     ]
    },
    {
     "name": "stderr",
     "output_type": "stream",
     "text": [
      "100%|██████████| 469/469 [00:08<00:00, 58.37it/s]\n",
      " 97%|█████████▋| 456/469 [00:07<00:00, 57.48it/s]"
     ]
    },
    {
     "name": "stdout",
     "output_type": "stream",
     "text": [
      "Epoch 79, step 37500: Generator loss: 1.3122984895706185, discriminator loss: 0.4444166247844697\n"
     ]
    },
    {
     "name": "stderr",
     "output_type": "stream",
     "text": [
      "100%|██████████| 469/469 [00:08<00:00, 57.76it/s]\n",
      "100%|██████████| 469/469 [00:08<00:00, 58.06it/s]\n",
      "  4%|▍         | 18/469 [00:00<00:07, 57.56it/s]"
     ]
    },
    {
     "name": "stdout",
     "output_type": "stream",
     "text": [
      "Epoch 81, step 38000: Generator loss: 1.4037064867019649, discriminator loss: 0.4380939025878909\n"
     ]
    },
    {
     "name": "stderr",
     "output_type": "stream",
     "text": [
      "100%|██████████| 469/469 [00:07<00:00, 58.73it/s]\n",
      " 12%|█▏        | 54/469 [00:00<00:07, 58.12it/s]"
     ]
    },
    {
     "name": "stdout",
     "output_type": "stream",
     "text": [
      "Epoch 82, step 38500: Generator loss: 1.2079922654628756, discriminator loss: 0.49456791347265244\n"
     ]
    },
    {
     "name": "stderr",
     "output_type": "stream",
     "text": [
      "100%|██████████| 469/469 [00:08<00:00, 57.76it/s]\n",
      " 18%|█▊        | 84/469 [00:01<00:06, 57.98it/s]"
     ]
    },
    {
     "name": "stdout",
     "output_type": "stream",
     "text": [
      "Epoch 83, step 39000: Generator loss: 1.2697071614265432, discriminator loss: 0.46878039938211474\n"
     ]
    },
    {
     "name": "stderr",
     "output_type": "stream",
     "text": [
      "100%|██████████| 469/469 [00:08<00:00, 58.29it/s]\n",
      " 24%|██▍       | 114/469 [00:01<00:06, 57.95it/s]"
     ]
    },
    {
     "name": "stdout",
     "output_type": "stream",
     "text": [
      "Epoch 84, step 39500: Generator loss: 1.3021696491241452, discriminator loss: 0.4668513119816783\n"
     ]
    },
    {
     "name": "stderr",
     "output_type": "stream",
     "text": [
      "100%|██████████| 469/469 [00:08<00:00, 57.57it/s]\n",
      " 31%|███       | 144/469 [00:02<00:05, 58.14it/s]"
     ]
    },
    {
     "name": "stdout",
     "output_type": "stream",
     "text": [
      "Epoch 85, step 40000: Generator loss: 1.2340185952186589, discriminator loss: 0.4809737775325776\n"
     ]
    },
    {
     "name": "stderr",
     "output_type": "stream",
     "text": [
      "100%|██████████| 469/469 [00:08<00:00, 58.10it/s]\n",
      " 37%|███▋      | 174/469 [00:02<00:05, 57.89it/s]"
     ]
    },
    {
     "name": "stdout",
     "output_type": "stream",
     "text": [
      "Epoch 86, step 40500: Generator loss: 1.3419654397964467, discriminator loss: 0.45151708549261077\n"
     ]
    },
    {
     "name": "stderr",
     "output_type": "stream",
     "text": [
      "100%|██████████| 469/469 [00:08<00:00, 58.17it/s]\n",
      " 43%|████▎     | 204/469 [00:03<00:04, 57.96it/s]"
     ]
    },
    {
     "name": "stdout",
     "output_type": "stream",
     "text": [
      "Epoch 87, step 41000: Generator loss: 1.3240193247795102, discriminator loss: 0.45328116858005496\n"
     ]
    },
    {
     "name": "stderr",
     "output_type": "stream",
     "text": [
      "100%|██████████| 469/469 [00:08<00:00, 58.14it/s]\n",
      " 50%|█████     | 236/469 [00:04<00:03, 58.59it/s]"
     ]
    },
    {
     "name": "stdout",
     "output_type": "stream",
     "text": [
      "Epoch 88, step 41500: Generator loss: 1.2981211106777202, discriminator loss: 0.464518377959728\n"
     ]
    },
    {
     "name": "stderr",
     "output_type": "stream",
     "text": [
      "100%|██████████| 469/469 [00:08<00:00, 58.34it/s]\n",
      " 57%|█████▋    | 267/469 [00:04<00:03, 58.85it/s]"
     ]
    },
    {
     "name": "stdout",
     "output_type": "stream",
     "text": [
      "Epoch 89, step 42000: Generator loss: 1.254763558149338, discriminator loss: 0.48071186542510946\n"
     ]
    },
    {
     "name": "stderr",
     "output_type": "stream",
     "text": [
      "100%|██████████| 469/469 [00:07<00:00, 58.64it/s]\n",
      " 64%|██████▍   | 301/469 [00:05<00:02, 58.13it/s]"
     ]
    },
    {
     "name": "stdout",
     "output_type": "stream",
     "text": [
      "Epoch 90, step 42500: Generator loss: 1.1786672487258907, discriminator loss: 0.5039933343529703\n"
     ]
    },
    {
     "name": "stderr",
     "output_type": "stream",
     "text": [
      "100%|██████████| 469/469 [00:08<00:00, 58.32it/s]\n",
      " 71%|███████   | 332/469 [00:05<00:02, 58.69it/s]"
     ]
    },
    {
     "name": "stdout",
     "output_type": "stream",
     "text": [
      "Epoch 91, step 43000: Generator loss: 1.2351271028518669, discriminator loss: 0.470829385995865\n"
     ]
    },
    {
     "name": "stderr",
     "output_type": "stream",
     "text": [
      "100%|██████████| 469/469 [00:08<00:00, 58.33it/s]\n",
      " 77%|███████▋  | 362/469 [00:06<00:01, 58.59it/s]"
     ]
    },
    {
     "name": "stdout",
     "output_type": "stream",
     "text": [
      "Epoch 92, step 43500: Generator loss: 1.2313168716430667, discriminator loss: 0.47604545003175724\n"
     ]
    },
    {
     "name": "stderr",
     "output_type": "stream",
     "text": [
      "100%|██████████| 469/469 [00:08<00:00, 58.20it/s]\n",
      " 83%|████████▎ | 390/469 [00:06<00:01, 58.09it/s]"
     ]
    },
    {
     "name": "stdout",
     "output_type": "stream",
     "text": [
      "Epoch 93, step 44000: Generator loss: 1.296855087518693, discriminator loss: 0.47109794753789835\n"
     ]
    },
    {
     "name": "stderr",
     "output_type": "stream",
     "text": [
      "100%|██████████| 469/469 [00:08<00:00, 58.19it/s]\n",
      " 90%|█████████ | 423/469 [00:07<00:00, 58.03it/s]"
     ]
    },
    {
     "name": "stdout",
     "output_type": "stream",
     "text": [
      "Epoch 94, step 44500: Generator loss: 1.3013077554702754, discriminator loss: 0.4551173366904259\n"
     ]
    },
    {
     "name": "stderr",
     "output_type": "stream",
     "text": [
      "100%|██████████| 469/469 [00:08<00:00, 58.36it/s]\n",
      " 97%|█████████▋| 456/469 [00:07<00:00, 58.16it/s]"
     ]
    },
    {
     "name": "stdout",
     "output_type": "stream",
     "text": [
      "Epoch 95, step 45000: Generator loss: 1.3516459882259368, discriminator loss: 0.4576940926909447\n"
     ]
    },
    {
     "name": "stderr",
     "output_type": "stream",
     "text": [
      "100%|██████████| 469/469 [00:08<00:00, 58.04it/s]\n",
      "100%|██████████| 469/469 [00:08<00:00, 58.39it/s]\n",
      "  4%|▍         | 18/469 [00:00<00:07, 57.73it/s]"
     ]
    },
    {
     "name": "stdout",
     "output_type": "stream",
     "text": [
      "Epoch 97, step 45500: Generator loss: 1.252145257949829, discriminator loss: 0.47604799991846103\n"
     ]
    },
    {
     "name": "stderr",
     "output_type": "stream",
     "text": [
      "100%|██████████| 469/469 [00:08<00:00, 58.47it/s]\n",
      " 10%|█         | 49/469 [00:00<00:07, 59.04it/s]"
     ]
    },
    {
     "name": "stdout",
     "output_type": "stream",
     "text": [
      "Epoch 98, step 46000: Generator loss: 1.189287846565246, discriminator loss: 0.49443673473596594\n"
     ]
    },
    {
     "name": "stderr",
     "output_type": "stream",
     "text": [
      "100%|██████████| 469/469 [00:07<00:00, 58.91it/s]\n",
      " 16%|█▋        | 77/469 [00:01<00:06, 56.19it/s]"
     ]
    },
    {
     "name": "stdout",
     "output_type": "stream",
     "text": [
      "Epoch 99, step 46500: Generator loss: 1.2540588521957403, discriminator loss: 0.47353887957334523\n"
     ]
    },
    {
     "name": "stderr",
     "output_type": "stream",
     "text": [
      "100%|██████████| 469/469 [00:08<00:00, 57.77it/s]\n"
     ]
    }
   ],
   "source": [
    "cur_step = 0\n",
    "mean_generator_loss = 0\n",
    "mean_discriminator_loss = 0\n",
    "gen_loss = False\n",
    "error = False\n",
    "\n",
    "for epoch in range(n_epochs):\n",
    "    # Dataloader returns the batches\n",
    "    for real, _ in tqdm(dataloader):\n",
    "        cur_batch_size = len(real)\n",
    "\n",
    "        # Flatten the batch of real images from the dataset\n",
    "        real = real.view(cur_batch_size, -1).to(device)\n",
    "\n",
    "        ### Update discriminator ###\n",
    "        # Zero out the gradients before backpropagation\n",
    "        disc_opt.zero_grad()\n",
    "\n",
    "        # Calculate discriminator loss\n",
    "        disc_loss = get_disc_loss(gen, disc, criterion, real, cur_batch_size, z_dim, device)\n",
    "\n",
    "        # Update gradients\n",
    "        disc_loss.backward(retain_graph=True)\n",
    "\n",
    "        # Update optimizer\n",
    "        disc_opt.step()\n",
    "\n",
    "        ### Update generator ###\n",
    "        #     Hint: This code will look a lot like the discriminator updates!\n",
    "        #     These are the steps you will need to complete:\n",
    "        #       1) Zero out the gradients.\n",
    "        #       2) Calculate the generator loss, assigning it to gen_loss.\n",
    "        #       3) Backprop through the generator: update the gradients and optimizer.\n",
    "        #### START CODE HERE ####\n",
    "        # Zero out the gradients.\n",
    "        gen_opt.zero_grad()\n",
    "\n",
    "        # Calculate the generator loss\n",
    "        gen_loss = get_gen_loss(gen, disc, criterion, cur_batch_size, z_dim, device)\n",
    "\n",
    "        # Backprop through the generator and update the gradients and optimizer.\n",
    "        gen_loss.backward()\n",
    "        gen_opt.step()\n",
    "        #### END CODE HERE ####\n",
    "\n",
    "        # Keep track of the average discriminator loss\n",
    "        mean_discriminator_loss += disc_loss.item() / display_step\n",
    "\n",
    "        # Keep track of the average generator loss\n",
    "        mean_generator_loss += gen_loss.item() / display_step\n",
    "\n",
    "        ### Visualization code ###\n",
    "        if cur_step % display_step == 0 and cur_step > 0:\n",
    "            print(f\"Epoch {epoch}, step {cur_step}: Generator loss: {mean_generator_loss}, discriminator loss: {mean_discriminator_loss}\")\n",
    "\n",
    "            # Generate fake images for visualization\n",
    "            fake_noise = get_noise(cur_batch_size, z_dim, device=device)\n",
    "            fake = gen(fake_noise)\n",
    "            # You can display the generated images here using 'show_tensor_images(fake)' and 'show_tensor_images(real)'.\n",
    "\n",
    "            # Reset the mean loss values\n",
    "            mean_generator_loss = 0\n",
    "            mean_discriminator_loss = 0\n",
    "\n",
    "        cur_step += 1"
   ]
  },
  {
   "cell_type": "code",
   "execution_count": 21,
   "metadata": {},
   "outputs": [
    {
     "name": "stderr",
     "output_type": "stream",
     "text": [
      "100%|██████████| 469/469 [00:07<00:00, 60.96it/s]\n",
      "100%|██████████| 469/469 [00:07<00:00, 59.71it/s]\n",
      "100%|██████████| 469/469 [00:07<00:00, 59.99it/s]\n",
      "100%|██████████| 469/469 [00:08<00:00, 58.08it/s]\n",
      "100%|██████████| 469/469 [00:08<00:00, 55.36it/s]\n",
      "100%|██████████| 469/469 [00:07<00:00, 59.30it/s]\n",
      "100%|██████████| 469/469 [00:07<00:00, 59.32it/s]\n",
      "100%|██████████| 469/469 [00:07<00:00, 58.82it/s]\n",
      "100%|██████████| 469/469 [00:08<00:00, 58.20it/s]\n",
      "100%|██████████| 469/469 [00:07<00:00, 59.06it/s]\n",
      "100%|██████████| 469/469 [00:08<00:00, 58.56it/s]\n",
      "100%|██████████| 469/469 [00:08<00:00, 58.47it/s]\n",
      "100%|██████████| 469/469 [00:08<00:00, 58.53it/s]\n",
      "100%|██████████| 469/469 [00:07<00:00, 59.12it/s]\n",
      "100%|██████████| 469/469 [00:08<00:00, 58.20it/s]\n",
      "100%|██████████| 469/469 [00:08<00:00, 58.17it/s]\n",
      "100%|██████████| 469/469 [00:07<00:00, 58.72it/s]\n",
      "100%|██████████| 469/469 [00:08<00:00, 58.59it/s]\n",
      "100%|██████████| 469/469 [00:08<00:00, 58.50it/s]\n",
      "100%|██████████| 469/469 [00:08<00:00, 58.34it/s]\n",
      "100%|██████████| 469/469 [00:07<00:00, 59.21it/s]\n",
      "100%|██████████| 469/469 [00:07<00:00, 58.99it/s]\n",
      "100%|██████████| 469/469 [00:08<00:00, 58.15it/s]\n",
      "100%|██████████| 469/469 [00:07<00:00, 59.00it/s]\n",
      "100%|██████████| 469/469 [00:08<00:00, 58.46it/s]\n",
      "100%|██████████| 469/469 [00:07<00:00, 59.47it/s]\n",
      "100%|██████████| 469/469 [00:08<00:00, 58.47it/s]\n",
      "100%|██████████| 469/469 [00:08<00:00, 58.49it/s]\n",
      "100%|██████████| 469/469 [00:08<00:00, 58.32it/s]\n",
      "100%|██████████| 469/469 [00:07<00:00, 58.69it/s]\n",
      "100%|██████████| 469/469 [00:07<00:00, 58.68it/s]\n",
      "100%|██████████| 469/469 [00:07<00:00, 58.63it/s]\n",
      "100%|██████████| 469/469 [00:08<00:00, 58.36it/s]\n",
      "100%|██████████| 469/469 [00:07<00:00, 58.76it/s]\n",
      "100%|██████████| 469/469 [00:07<00:00, 58.72it/s]\n",
      "100%|██████████| 469/469 [00:08<00:00, 58.36it/s]\n",
      "100%|██████████| 469/469 [00:08<00:00, 57.58it/s]\n",
      "100%|██████████| 469/469 [00:08<00:00, 58.47it/s]\n",
      "100%|██████████| 469/469 [00:08<00:00, 58.39it/s]\n",
      "100%|██████████| 469/469 [00:07<00:00, 59.36it/s]\n",
      "100%|██████████| 469/469 [00:08<00:00, 58.55it/s]\n",
      "100%|██████████| 469/469 [00:08<00:00, 57.90it/s]\n",
      "100%|██████████| 469/469 [00:08<00:00, 58.29it/s]\n",
      "100%|██████████| 469/469 [00:07<00:00, 58.66it/s]\n",
      "100%|██████████| 469/469 [00:08<00:00, 58.49it/s]\n",
      "100%|██████████| 469/469 [00:08<00:00, 57.02it/s]\n",
      "100%|██████████| 469/469 [00:08<00:00, 58.27it/s]\n",
      "100%|██████████| 469/469 [00:08<00:00, 58.06it/s]\n",
      "100%|██████████| 469/469 [00:08<00:00, 58.48it/s]\n",
      "100%|██████████| 469/469 [00:08<00:00, 57.97it/s]\n",
      "100%|██████████| 469/469 [00:08<00:00, 58.35it/s]\n",
      "100%|██████████| 469/469 [00:08<00:00, 58.29it/s]\n",
      "100%|██████████| 469/469 [00:07<00:00, 59.00it/s]\n",
      "100%|██████████| 469/469 [00:08<00:00, 58.15it/s]\n",
      "100%|██████████| 469/469 [00:08<00:00, 57.85it/s]\n",
      "100%|██████████| 469/469 [00:07<00:00, 59.12it/s]\n",
      "100%|██████████| 469/469 [00:08<00:00, 58.41it/s]\n",
      "100%|██████████| 469/469 [00:08<00:00, 58.15it/s]\n",
      "100%|██████████| 469/469 [00:08<00:00, 58.09it/s]\n",
      "100%|██████████| 469/469 [00:08<00:00, 58.31it/s]\n",
      "100%|██████████| 469/469 [00:07<00:00, 59.06it/s]\n",
      "100%|██████████| 469/469 [00:08<00:00, 58.33it/s]\n",
      "100%|██████████| 469/469 [00:07<00:00, 58.92it/s]\n",
      "100%|██████████| 469/469 [00:08<00:00, 58.37it/s]\n",
      "100%|██████████| 469/469 [00:08<00:00, 58.56it/s]\n",
      "100%|██████████| 469/469 [00:08<00:00, 58.41it/s]\n",
      "100%|██████████| 469/469 [00:08<00:00, 58.50it/s]\n",
      "100%|██████████| 469/469 [00:08<00:00, 58.15it/s]\n",
      "100%|██████████| 469/469 [00:08<00:00, 58.04it/s]\n",
      "100%|██████████| 469/469 [00:08<00:00, 58.29it/s]\n",
      "100%|██████████| 469/469 [00:08<00:00, 58.48it/s]\n",
      "100%|██████████| 469/469 [00:08<00:00, 58.05it/s]\n",
      "100%|██████████| 469/469 [00:08<00:00, 58.33it/s]\n",
      "100%|██████████| 469/469 [00:08<00:00, 58.16it/s]\n",
      "100%|██████████| 469/469 [00:08<00:00, 58.09it/s]\n",
      "100%|██████████| 469/469 [00:08<00:00, 57.95it/s]\n",
      "100%|██████████| 469/469 [00:08<00:00, 58.25it/s]\n",
      "100%|██████████| 469/469 [00:08<00:00, 58.03it/s]\n",
      "100%|██████████| 469/469 [00:08<00:00, 57.85it/s]\n",
      "100%|██████████| 469/469 [00:08<00:00, 58.00it/s]\n",
      "100%|██████████| 469/469 [00:07<00:00, 59.61it/s]\n",
      "100%|██████████| 469/469 [00:07<00:00, 59.30it/s]\n",
      "100%|██████████| 469/469 [00:07<00:00, 58.85it/s]\n",
      "100%|██████████| 469/469 [00:08<00:00, 56.09it/s]\n",
      "100%|██████████| 469/469 [00:08<00:00, 57.95it/s]\n",
      "100%|██████████| 469/469 [00:08<00:00, 57.29it/s]\n",
      "100%|██████████| 469/469 [00:08<00:00, 57.27it/s]\n",
      "100%|██████████| 469/469 [00:08<00:00, 55.99it/s]\n",
      "100%|██████████| 469/469 [00:08<00:00, 58.05it/s]\n",
      "100%|██████████| 469/469 [00:08<00:00, 58.44it/s]\n",
      "100%|██████████| 469/469 [00:07<00:00, 59.33it/s]\n",
      "100%|██████████| 469/469 [00:07<00:00, 60.01it/s]\n",
      "100%|██████████| 469/469 [00:07<00:00, 58.78it/s]\n",
      "100%|██████████| 469/469 [00:07<00:00, 59.49it/s]\n",
      "100%|██████████| 469/469 [00:07<00:00, 60.12it/s]\n",
      "100%|██████████| 469/469 [00:07<00:00, 59.92it/s]\n",
      "100%|██████████| 469/469 [00:07<00:00, 58.80it/s]\n",
      "100%|██████████| 469/469 [00:08<00:00, 58.49it/s]\n",
      "100%|██████████| 469/469 [00:07<00:00, 59.70it/s]\n",
      "100%|██████████| 469/469 [00:07<00:00, 60.61it/s]\n",
      "100%|██████████| 469/469 [00:07<00:00, 59.70it/s]\n",
      "100%|██████████| 469/469 [00:07<00:00, 59.87it/s]\n",
      "100%|██████████| 469/469 [00:08<00:00, 56.92it/s]\n",
      "100%|██████████| 469/469 [00:07<00:00, 59.30it/s]\n",
      "100%|██████████| 469/469 [00:07<00:00, 60.28it/s]\n",
      "100%|██████████| 469/469 [00:07<00:00, 59.87it/s]\n",
      "100%|██████████| 469/469 [00:07<00:00, 59.85it/s]\n",
      "100%|██████████| 469/469 [00:07<00:00, 60.35it/s]\n",
      "100%|██████████| 469/469 [00:07<00:00, 60.65it/s]\n",
      "100%|██████████| 469/469 [00:07<00:00, 59.84it/s]\n",
      "100%|██████████| 469/469 [00:08<00:00, 58.61it/s]\n",
      "100%|██████████| 469/469 [00:07<00:00, 60.15it/s]\n",
      "100%|██████████| 469/469 [00:07<00:00, 59.14it/s]\n",
      "100%|██████████| 469/469 [00:07<00:00, 60.07it/s]\n",
      "100%|██████████| 469/469 [00:07<00:00, 59.80it/s]\n",
      "100%|██████████| 469/469 [00:07<00:00, 60.56it/s]\n",
      "100%|██████████| 469/469 [00:07<00:00, 59.41it/s]\n",
      "100%|██████████| 469/469 [00:07<00:00, 59.84it/s]\n",
      "100%|██████████| 469/469 [00:07<00:00, 60.00it/s]\n",
      "100%|██████████| 469/469 [00:07<00:00, 60.03it/s]\n",
      "100%|██████████| 469/469 [00:07<00:00, 59.95it/s]\n",
      "100%|██████████| 469/469 [00:07<00:00, 59.96it/s]\n",
      "100%|██████████| 469/469 [00:07<00:00, 59.51it/s]\n",
      "100%|██████████| 469/469 [00:07<00:00, 59.63it/s]\n",
      "100%|██████████| 469/469 [00:07<00:00, 59.37it/s]\n",
      "100%|██████████| 469/469 [00:07<00:00, 60.63it/s]\n",
      "100%|██████████| 469/469 [00:08<00:00, 58.36it/s]\n",
      "100%|██████████| 469/469 [00:07<00:00, 58.99it/s]\n",
      "100%|██████████| 469/469 [00:07<00:00, 59.42it/s]\n",
      "100%|██████████| 469/469 [00:07<00:00, 60.02it/s]\n",
      "100%|██████████| 469/469 [00:07<00:00, 59.54it/s]\n",
      "100%|██████████| 469/469 [00:08<00:00, 58.46it/s]\n",
      "100%|██████████| 469/469 [00:07<00:00, 59.48it/s]\n",
      "100%|██████████| 469/469 [00:08<00:00, 57.17it/s]\n",
      "100%|██████████| 469/469 [00:08<00:00, 56.06it/s]\n",
      "100%|██████████| 469/469 [00:08<00:00, 58.33it/s]\n",
      "100%|██████████| 469/469 [00:08<00:00, 56.19it/s]\n",
      "100%|██████████| 469/469 [00:08<00:00, 58.35it/s]\n",
      "100%|██████████| 469/469 [00:07<00:00, 59.29it/s]\n",
      "100%|██████████| 469/469 [00:07<00:00, 58.70it/s]\n",
      "100%|██████████| 469/469 [00:07<00:00, 59.69it/s]\n",
      "100%|██████████| 469/469 [00:07<00:00, 59.02it/s]\n",
      "100%|██████████| 469/469 [00:08<00:00, 58.51it/s]\n",
      "100%|██████████| 469/469 [00:07<00:00, 58.84it/s]\n",
      "100%|██████████| 469/469 [00:08<00:00, 58.43it/s]\n",
      "100%|██████████| 469/469 [00:07<00:00, 58.64it/s]\n",
      "100%|██████████| 469/469 [00:08<00:00, 58.58it/s]\n",
      "100%|██████████| 469/469 [00:08<00:00, 58.32it/s]\n",
      "100%|██████████| 469/469 [00:07<00:00, 59.30it/s]\n",
      "100%|██████████| 469/469 [00:07<00:00, 58.66it/s]\n",
      "100%|██████████| 469/469 [00:07<00:00, 59.02it/s]\n",
      "100%|██████████| 469/469 [00:07<00:00, 59.10it/s]\n",
      "100%|██████████| 469/469 [00:07<00:00, 58.85it/s]\n",
      "100%|██████████| 469/469 [00:08<00:00, 58.34it/s]\n",
      "100%|██████████| 469/469 [00:08<00:00, 58.30it/s]\n",
      "100%|██████████| 469/469 [00:07<00:00, 58.89it/s]\n",
      "100%|██████████| 469/469 [00:07<00:00, 59.15it/s]\n",
      "100%|██████████| 469/469 [00:08<00:00, 56.07it/s]\n",
      "100%|██████████| 469/469 [00:08<00:00, 54.81it/s]\n",
      "100%|██████████| 469/469 [00:08<00:00, 57.74it/s]\n",
      "100%|██████████| 469/469 [00:07<00:00, 60.04it/s]\n",
      "100%|██████████| 469/469 [00:07<00:00, 60.17it/s]\n",
      "100%|██████████| 469/469 [00:07<00:00, 59.91it/s]\n",
      "100%|██████████| 469/469 [00:07<00:00, 60.06it/s]\n",
      "100%|██████████| 469/469 [00:08<00:00, 57.77it/s]\n",
      "100%|██████████| 469/469 [00:07<00:00, 59.96it/s]\n",
      "100%|██████████| 469/469 [00:07<00:00, 60.88it/s]\n",
      "100%|██████████| 469/469 [00:07<00:00, 60.92it/s]\n",
      "100%|██████████| 469/469 [00:07<00:00, 60.76it/s]\n",
      "100%|██████████| 469/469 [00:07<00:00, 61.13it/s]\n",
      "100%|██████████| 469/469 [00:07<00:00, 60.43it/s]\n",
      "100%|██████████| 469/469 [00:07<00:00, 60.41it/s]\n",
      "100%|██████████| 469/469 [00:07<00:00, 60.73it/s]\n",
      "100%|██████████| 469/469 [00:07<00:00, 60.82it/s]\n",
      "100%|██████████| 469/469 [00:07<00:00, 60.44it/s]\n",
      "100%|██████████| 469/469 [00:07<00:00, 61.53it/s]\n",
      "100%|██████████| 469/469 [00:07<00:00, 60.35it/s]\n",
      "100%|██████████| 469/469 [00:08<00:00, 58.07it/s]\n",
      "100%|██████████| 469/469 [00:08<00:00, 57.66it/s]\n",
      "100%|██████████| 469/469 [00:07<00:00, 60.52it/s]\n",
      "100%|██████████| 469/469 [00:07<00:00, 60.40it/s]\n",
      "100%|██████████| 469/469 [00:08<00:00, 58.14it/s]\n",
      "100%|██████████| 469/469 [00:08<00:00, 55.98it/s]\n",
      "100%|██████████| 469/469 [00:08<00:00, 57.57it/s]\n",
      "100%|██████████| 469/469 [00:08<00:00, 57.64it/s]\n",
      "100%|██████████| 469/469 [00:08<00:00, 57.32it/s]\n",
      "100%|██████████| 469/469 [00:08<00:00, 57.55it/s]\n",
      "100%|██████████| 469/469 [00:08<00:00, 57.58it/s]\n",
      "100%|██████████| 469/469 [00:08<00:00, 57.46it/s]\n",
      "100%|██████████| 469/469 [00:08<00:00, 57.71it/s]\n",
      "100%|██████████| 469/469 [00:08<00:00, 58.02it/s]\n",
      "100%|██████████| 469/469 [00:08<00:00, 58.14it/s]\n",
      "100%|██████████| 469/469 [00:08<00:00, 57.93it/s]\n",
      "100%|██████████| 469/469 [00:07<00:00, 59.49it/s]\n",
      "100%|██████████| 469/469 [00:07<00:00, 59.91it/s]\n",
      "100%|██████████| 469/469 [00:08<00:00, 58.62it/s]\n",
      "100%|██████████| 469/469 [00:08<00:00, 58.38it/s]\n",
      "100%|██████████| 469/469 [00:08<00:00, 58.21it/s]\n",
      "100%|██████████| 469/469 [00:08<00:00, 58.41it/s]\n",
      "100%|██████████| 469/469 [00:07<00:00, 59.26it/s]\n",
      "100%|██████████| 469/469 [00:07<00:00, 59.95it/s]\n",
      "100%|██████████| 469/469 [00:07<00:00, 58.73it/s]\n",
      "100%|██████████| 469/469 [00:08<00:00, 58.20it/s]\n",
      "100%|██████████| 469/469 [00:07<00:00, 58.77it/s]\n",
      "100%|██████████| 469/469 [00:08<00:00, 58.21it/s]\n",
      "100%|██████████| 469/469 [00:08<00:00, 57.97it/s]\n",
      "100%|██████████| 469/469 [00:08<00:00, 58.42it/s]\n",
      "100%|██████████| 469/469 [00:08<00:00, 58.45it/s]\n",
      "100%|██████████| 469/469 [00:08<00:00, 58.09it/s]\n",
      "100%|██████████| 469/469 [00:08<00:00, 58.04it/s]\n",
      "100%|██████████| 469/469 [00:08<00:00, 58.40it/s]\n",
      "100%|██████████| 469/469 [00:07<00:00, 59.07it/s]\n",
      "100%|██████████| 469/469 [00:08<00:00, 58.04it/s]\n",
      "100%|██████████| 469/469 [00:08<00:00, 58.02it/s]\n",
      "100%|██████████| 469/469 [00:08<00:00, 57.95it/s]\n",
      "100%|██████████| 469/469 [00:08<00:00, 58.47it/s]\n",
      "100%|██████████| 469/469 [00:08<00:00, 57.84it/s]\n",
      "100%|██████████| 469/469 [00:08<00:00, 56.29it/s]\n",
      "100%|██████████| 469/469 [00:08<00:00, 55.45it/s]\n",
      "100%|██████████| 469/469 [00:11<00:00, 39.10it/s]\n",
      "100%|██████████| 469/469 [00:08<00:00, 56.09it/s]\n",
      "100%|██████████| 469/469 [00:08<00:00, 55.80it/s]\n",
      "100%|██████████| 469/469 [00:08<00:00, 56.12it/s]\n",
      "100%|██████████| 469/469 [00:08<00:00, 56.86it/s]\n",
      "100%|██████████| 469/469 [00:08<00:00, 56.51it/s]\n",
      "100%|██████████| 469/469 [00:08<00:00, 58.38it/s]\n",
      "100%|██████████| 469/469 [00:07<00:00, 60.02it/s]\n",
      "100%|██████████| 469/469 [00:07<00:00, 60.38it/s]\n",
      "100%|██████████| 469/469 [00:07<00:00, 61.18it/s]\n",
      "100%|██████████| 469/469 [00:07<00:00, 60.13it/s]\n",
      "100%|██████████| 469/469 [00:07<00:00, 59.15it/s]\n",
      "100%|██████████| 469/469 [00:07<00:00, 59.88it/s]\n",
      "100%|██████████| 469/469 [00:07<00:00, 59.23it/s]\n",
      "100%|██████████| 469/469 [00:07<00:00, 58.89it/s]\n",
      "100%|██████████| 469/469 [00:08<00:00, 54.51it/s]\n",
      "100%|██████████| 469/469 [00:08<00:00, 57.19it/s]\n",
      "100%|██████████| 469/469 [00:07<00:00, 59.04it/s]\n",
      "100%|██████████| 469/469 [00:08<00:00, 58.55it/s]\n",
      "100%|██████████| 469/469 [00:08<00:00, 58.30it/s]\n",
      "100%|██████████| 469/469 [00:08<00:00, 58.48it/s]\n",
      "100%|██████████| 469/469 [00:07<00:00, 59.11it/s]\n",
      "100%|██████████| 469/469 [00:08<00:00, 58.39it/s]\n",
      "100%|██████████| 469/469 [00:08<00:00, 58.16it/s]\n",
      "100%|██████████| 469/469 [00:08<00:00, 58.06it/s]\n",
      "100%|██████████| 469/469 [00:07<00:00, 58.85it/s]\n",
      "100%|██████████| 469/469 [00:08<00:00, 56.51it/s]\n",
      "100%|██████████| 469/469 [00:08<00:00, 55.96it/s]\n",
      "100%|██████████| 469/469 [00:07<00:00, 59.51it/s]\n",
      "100%|██████████| 469/469 [00:07<00:00, 59.37it/s]\n",
      "100%|██████████| 469/469 [00:07<00:00, 59.02it/s]\n",
      "100%|██████████| 469/469 [00:07<00:00, 59.04it/s]\n",
      "100%|██████████| 469/469 [00:08<00:00, 57.33it/s]\n",
      "100%|██████████| 469/469 [00:08<00:00, 56.79it/s]\n",
      "100%|██████████| 469/469 [00:08<00:00, 57.87it/s]\n",
      "100%|██████████| 469/469 [00:07<00:00, 59.21it/s]\n",
      "100%|██████████| 469/469 [00:08<00:00, 57.91it/s]\n",
      "100%|██████████| 469/469 [00:07<00:00, 58.87it/s]\n",
      "100%|██████████| 469/469 [00:07<00:00, 59.32it/s]\n",
      "100%|██████████| 469/469 [00:08<00:00, 58.12it/s]\n",
      "100%|██████████| 469/469 [00:08<00:00, 58.02it/s]\n",
      "100%|██████████| 469/469 [00:07<00:00, 59.34it/s]\n",
      "100%|██████████| 469/469 [00:07<00:00, 59.49it/s]\n",
      "100%|██████████| 469/469 [00:07<00:00, 59.40it/s]\n",
      "100%|██████████| 469/469 [00:07<00:00, 59.58it/s]\n",
      "100%|██████████| 469/469 [00:07<00:00, 59.38it/s]\n",
      "100%|██████████| 469/469 [00:07<00:00, 59.38it/s]\n",
      "100%|██████████| 469/469 [00:07<00:00, 59.13it/s]\n",
      "100%|██████████| 469/469 [00:07<00:00, 59.37it/s]\n",
      "100%|██████████| 469/469 [00:07<00:00, 59.20it/s]\n",
      "100%|██████████| 469/469 [00:07<00:00, 59.11it/s]\n",
      "100%|██████████| 469/469 [00:07<00:00, 59.31it/s]\n",
      "100%|██████████| 469/469 [00:07<00:00, 59.48it/s]\n",
      "100%|██████████| 469/469 [00:07<00:00, 59.52it/s]\n",
      "100%|██████████| 469/469 [00:07<00:00, 59.74it/s]\n",
      "100%|██████████| 469/469 [00:07<00:00, 59.51it/s]\n",
      "100%|██████████| 469/469 [00:07<00:00, 59.17it/s]\n",
      "100%|██████████| 469/469 [00:07<00:00, 59.64it/s]\n",
      "100%|██████████| 469/469 [00:07<00:00, 59.62it/s]\n",
      "100%|██████████| 469/469 [00:07<00:00, 59.32it/s]\n",
      "100%|██████████| 469/469 [00:07<00:00, 59.21it/s]\n",
      "100%|██████████| 469/469 [00:08<00:00, 58.36it/s]\n",
      "100%|██████████| 469/469 [00:08<00:00, 54.67it/s]\n",
      "100%|██████████| 469/469 [00:08<00:00, 57.57it/s]\n",
      "100%|██████████| 469/469 [00:08<00:00, 57.87it/s]\n",
      "100%|██████████| 469/469 [00:07<00:00, 58.71it/s]\n",
      "100%|██████████| 469/469 [00:08<00:00, 58.16it/s]\n",
      "100%|██████████| 469/469 [00:08<00:00, 58.03it/s]\n",
      "100%|██████████| 469/469 [00:08<00:00, 58.40it/s]\n",
      "100%|██████████| 469/469 [00:08<00:00, 57.95it/s]\n",
      "100%|██████████| 469/469 [00:08<00:00, 57.50it/s]\n",
      "100%|██████████| 469/469 [00:08<00:00, 58.07it/s]\n",
      "100%|██████████| 469/469 [00:08<00:00, 58.14it/s]\n",
      "100%|██████████| 469/469 [00:08<00:00, 57.77it/s]\n",
      "100%|██████████| 469/469 [00:08<00:00, 57.68it/s]\n",
      "100%|██████████| 469/469 [00:08<00:00, 58.57it/s]\n",
      "100%|██████████| 469/469 [00:08<00:00, 57.51it/s]\n",
      "100%|██████████| 469/469 [00:08<00:00, 58.13it/s]\n",
      "100%|██████████| 469/469 [00:08<00:00, 57.79it/s]\n",
      "100%|██████████| 469/469 [00:08<00:00, 57.53it/s]\n",
      "100%|██████████| 469/469 [00:07<00:00, 59.19it/s]\n",
      "100%|██████████| 469/469 [00:07<00:00, 60.05it/s]\n",
      "100%|██████████| 469/469 [00:07<00:00, 59.33it/s]\n",
      "100%|██████████| 469/469 [00:07<00:00, 59.81it/s]\n",
      "100%|██████████| 469/469 [00:07<00:00, 58.96it/s]\n",
      "100%|██████████| 469/469 [00:07<00:00, 58.88it/s]\n",
      "100%|██████████| 469/469 [00:07<00:00, 59.41it/s]\n",
      "100%|██████████| 469/469 [00:07<00:00, 58.99it/s]\n",
      "100%|██████████| 469/469 [00:08<00:00, 58.59it/s]\n",
      "100%|██████████| 469/469 [00:08<00:00, 58.28it/s]\n",
      "100%|██████████| 469/469 [00:08<00:00, 57.19it/s]\n",
      "100%|██████████| 469/469 [00:08<00:00, 56.14it/s]\n",
      "100%|██████████| 469/469 [00:08<00:00, 57.98it/s]\n",
      "100%|██████████| 469/469 [00:08<00:00, 57.38it/s]\n",
      "100%|██████████| 469/469 [00:08<00:00, 57.57it/s]\n",
      "100%|██████████| 469/469 [00:08<00:00, 57.80it/s]\n",
      "100%|██████████| 469/469 [00:08<00:00, 57.38it/s]\n",
      "100%|██████████| 469/469 [00:08<00:00, 57.95it/s]\n",
      "100%|██████████| 469/469 [00:08<00:00, 58.09it/s]\n",
      "100%|██████████| 469/469 [00:08<00:00, 58.15it/s]\n",
      "100%|██████████| 469/469 [00:07<00:00, 58.78it/s]\n",
      "100%|██████████| 469/469 [00:08<00:00, 58.61it/s]\n",
      "100%|██████████| 469/469 [00:07<00:00, 58.63it/s]\n",
      "100%|██████████| 469/469 [00:08<00:00, 58.42it/s]\n",
      "100%|██████████| 469/469 [00:08<00:00, 58.10it/s]\n",
      "100%|██████████| 469/469 [00:08<00:00, 58.44it/s]\n",
      "100%|██████████| 469/469 [00:08<00:00, 58.01it/s]\n",
      "100%|██████████| 469/469 [00:08<00:00, 58.35it/s]\n",
      "100%|██████████| 469/469 [00:08<00:00, 58.30it/s]\n",
      "100%|██████████| 469/469 [00:08<00:00, 57.56it/s]\n",
      "100%|██████████| 469/469 [00:07<00:00, 58.80it/s]\n",
      "100%|██████████| 469/469 [00:07<00:00, 59.28it/s]\n",
      "100%|██████████| 469/469 [00:07<00:00, 58.68it/s]\n",
      "100%|██████████| 469/469 [00:07<00:00, 59.33it/s]\n",
      "100%|██████████| 469/469 [00:07<00:00, 59.75it/s]\n",
      "100%|██████████| 469/469 [00:07<00:00, 58.65it/s]\n",
      "100%|██████████| 469/469 [00:07<00:00, 59.27it/s]\n",
      "100%|██████████| 469/469 [00:07<00:00, 59.09it/s]\n",
      "100%|██████████| 469/469 [00:08<00:00, 58.56it/s]\n",
      "100%|██████████| 469/469 [00:08<00:00, 55.54it/s]\n",
      "100%|██████████| 469/469 [00:08<00:00, 57.42it/s]\n",
      "100%|██████████| 469/469 [00:08<00:00, 58.44it/s]\n",
      "100%|██████████| 469/469 [00:08<00:00, 56.02it/s]\n",
      "100%|██████████| 469/469 [00:08<00:00, 57.50it/s]\n",
      "100%|██████████| 469/469 [00:08<00:00, 57.25it/s]\n",
      "100%|██████████| 469/469 [00:08<00:00, 57.02it/s]\n",
      "100%|██████████| 469/469 [00:08<00:00, 56.22it/s]\n",
      "100%|██████████| 469/469 [00:08<00:00, 54.95it/s]\n",
      "100%|██████████| 469/469 [00:08<00:00, 57.29it/s]\n",
      "100%|██████████| 469/469 [00:08<00:00, 57.14it/s]\n",
      "100%|██████████| 469/469 [00:08<00:00, 56.75it/s]\n",
      "100%|██████████| 469/469 [00:08<00:00, 55.15it/s]\n",
      "100%|██████████| 469/469 [00:09<00:00, 51.21it/s]\n",
      "100%|██████████| 469/469 [00:08<00:00, 56.63it/s]\n",
      "100%|██████████| 469/469 [00:08<00:00, 55.35it/s]\n",
      "100%|██████████| 469/469 [00:08<00:00, 56.39it/s]\n",
      "100%|██████████| 469/469 [00:09<00:00, 51.35it/s]\n",
      "100%|██████████| 469/469 [00:08<00:00, 56.30it/s]\n",
      "100%|██████████| 469/469 [00:08<00:00, 57.31it/s]\n",
      "100%|██████████| 469/469 [00:08<00:00, 58.06it/s]\n",
      "100%|██████████| 469/469 [00:08<00:00, 57.38it/s]\n"
     ]
    }
   ],
   "source": [
    "import itertools\n",
    "import sys\n",
    "import torch\n",
    "import torch.nn as nn\n",
    "from tqdm import tqdm\n",
    "\n",
    "hyperparameter_values = {\n",
    "    'z_dim': [32, 64, 128],\n",
    "    'hidden_dim': [64, 128, 256],\n",
    "    'lr': [0.0002, 0.0001],\n",
    "}\n",
    "\n",
    "best_hyperparameters = None\n",
    "best_generator_loss = float('inf')\n",
    "\n",
    "original_stdout = sys.stdout\n",
    "with open('output.txt', 'w') as f:\n",
    "    sys.stdout = f\n",
    "\n",
    "    for z_dim, hidden_dim, lr in itertools.product(hyperparameter_values['z_dim'],\n",
    "                                                   hyperparameter_values['hidden_dim'],\n",
    "                                                   hyperparameter_values['lr']):\n",
    "        print(f\"Training with hyperparameters: z_dim={z_dim}, hidden_dim={hidden_dim}, lr={lr}\")\n",
    "\n",
    "        # Set your parameters\n",
    "        criterion = nn.BCEWithLogitsLoss()\n",
    "        n_epochs = 20\n",
    "        display_step = 500\n",
    "        batch_size = 128\n",
    "\n",
    "        cur_step = 0\n",
    "        mean_generator_loss = 0\n",
    "        mean_discriminator_loss = 0\n",
    "        gen_loss = False\n",
    "        error = False\n",
    "\n",
    "        # Initialize your model, optimizer, and dataloader with the current hyperparameters\n",
    "        gen = Generator(z_dim).to(device)  # Assuming 'device' is defined\n",
    "        gen_opt = torch.optim.Adam(gen.parameters(), lr=lr)\n",
    "        disc = Discriminator().to(device)  # Assuming 'device' is defined\n",
    "        disc_opt = torch.optim.Adam(disc.parameters(), lr=lr)\n",
    "\n",
    "        for epoch in range(n_epochs):\n",
    "            # Dataloader returns the batches\n",
    "            for real, _ in tqdm(dataloader):\n",
    "                cur_batch_size = len(real)\n",
    "\n",
    "                # Flatten the batch of real images from the dataset\n",
    "                real = real.view(cur_batch_size, -1).to(device)\n",
    "\n",
    "                ### Update discriminator ###\n",
    "                # Zero out the gradients before backpropagation\n",
    "                disc_opt.zero_grad()\n",
    "\n",
    "                # Calculate discriminator loss\n",
    "                disc_loss = get_disc_loss(gen, disc, criterion, real, cur_batch_size, z_dim, device)\n",
    "\n",
    "                # Update gradients\n",
    "                disc_loss.backward(retain_graph=True)\n",
    "\n",
    "                # Update optimizer\n",
    "                disc_opt.step()\n",
    "\n",
    "                ### Update generator ###\n",
    "                # Zero out the gradients.\n",
    "                gen_opt.zero_grad()\n",
    "\n",
    "                # Calculate the generator loss\n",
    "                gen_loss = get_gen_loss(gen, disc, criterion, cur_batch_size, z_dim, device)\n",
    "\n",
    "                # Backprop through the generator and update the gradients and optimizer.\n",
    "                gen_loss.backward()\n",
    "                gen_opt.step()\n",
    "\n",
    "                # Keep track of the average discriminator loss\n",
    "                mean_discriminator_loss += disc_loss.item() / display_step\n",
    "\n",
    "                # Keep track of the average generator loss\n",
    "                mean_generator_loss += gen_loss.item() / display_step\n",
    "\n",
    "                ### Visualization code ###\n",
    "                if cur_step % display_step == 0 and cur_step > 0:\n",
    "                    print(f\"Epoch {epoch}, step {cur_step}: Generator loss: {mean_generator_loss}, discriminator loss: {mean_discriminator_loss}\")\n",
    "\n",
    "                    # Generate fake images for visualization\n",
    "                    fake_noise = get_noise(cur_batch_size, z_dim, device=device)\n",
    "                    fake = gen(fake_noise)\n",
    "                    # You can display the generated images here using 'show_tensor_images(fake)' and 'show_tensor_images(real)'.\n",
    "\n",
    "                    # Reset the mean loss values\n",
    "                    mean_generator_loss = 0\n",
    "                    mean_discriminator_loss = 0\n",
    "\n",
    "                cur_step += 1\n",
    "\n",
    "        if mean_generator_loss < best_generator_loss:\n",
    "            best_generator_loss = mean_generator_loss\n",
    "            best_hyperparameters = {'z_dim': z_dim, 'hidden_dim': hidden_dim, 'lr': lr}\n",
    "\n",
    "    print(\"Best Hyperparameters:\", best_hyperparameters)\n",
    "\n",
    "sys.stdout = original_stdout"
   ]
  },
  {
   "cell_type": "markdown",
   "metadata": {},
   "source": [
    "Unfortunately, due to time, I was not able to finish training my Hyperparameter tuning iteration as it took longer to train than I had expected; however, if I were able to complete training it, I would be able to see the Generator Loss and Discriminator Loss for 100 Epochs of the 18 different combinations of Hyperparameters as well as which combination did the best. Unfortunately, my computer does not let me use my GPU, and I had issues with Google Colab. As a result of this time limit, I changed the number of Epochs from 100 to 20. I have included the code for the 100 Epochs below just to include it."
   ]
  },
  {
   "cell_type": "code",
   "execution_count": 22,
   "metadata": {},
   "outputs": [],
   "source": [
    "# import itertools\n",
    "\n",
    "# hyperparameter_values = {\n",
    "#     'z_dim': [32, 64, 128],\n",
    "#     'hidden_dim': [64, 128, 256],\n",
    "#     'lr': [0.0002, 0.0001],\n",
    "# }\n",
    "\n",
    "# best_hyperparameters = None\n",
    "# best_generator_loss = float('inf')\n",
    "\n",
    "# for z_dim, hidden_dim, lr in itertools.product(hyperparameter_values['z_dim'],\n",
    "#                                                hyperparameter_values['hidden_dim'],\n",
    "#                                                hyperparameter_values['lr']):\n",
    "#     print(f\"Training with hyperparameters: z_dim={z_dim}, hidden_dim={hidden_dim}, lr={lr}\")\n",
    "\n",
    "#     criterion = nn.BCEWithLogitsLoss()\n",
    "#     n_epochs = 100\n",
    "#     display_step = 500\n",
    "#     batch_size = 128\n",
    "\n",
    "#     cur_step = 0\n",
    "#     mean_generator_loss = 0\n",
    "#     mean_discriminator_loss = 0\n",
    "#     gen_loss = False\n",
    "#     error = False\n",
    "\n",
    "#     # Initialize your model, optimizer, and dataloader with the current hyperparameters\n",
    "#     gen = Generator(z_dim).to(device)\n",
    "#     gen_opt = torch.optim.Adam(gen.parameters(), lr=lr)\n",
    "#     disc = Discriminator().to(device) \n",
    "#     disc_opt = torch.optim.Adam(disc.parameters(), lr=lr)\n",
    "\n",
    "#     for epoch in range(n_epochs):\n",
    "#         # Dataloader returns the batches\n",
    "#         for real, _ in tqdm(dataloader):\n",
    "#             cur_batch_size = len(real)\n",
    "\n",
    "#             # Flatten the batch of real images from the dataset\n",
    "#             real = real.view(cur_batch_size, -1).to(device)\n",
    "\n",
    "#             ### Update discriminator ###\n",
    "#             # Zero out the gradients before backpropagation\n",
    "#             disc_opt.zero_grad()\n",
    "\n",
    "#             # Calculate discriminator loss\n",
    "#             disc_loss = get_disc_loss(gen, disc, criterion, real, cur_batch_size, z_dim, device)\n",
    "\n",
    "#             # Update gradients\n",
    "#             disc_loss.backward(retain_graph=True)\n",
    "\n",
    "#             # Update optimizer\n",
    "#             disc_opt.step()\n",
    "\n",
    "#             ### Update generator ###\n",
    "#             # Zero out the gradients.\n",
    "#             gen_opt.zero_grad()\n",
    "\n",
    "#             # Calculate the generator loss\n",
    "#             gen_loss = get_gen_loss(gen, disc, criterion, cur_batch_size, z_dim, device)\n",
    "\n",
    "#             # Backprop through the generator and update the gradients and optimizer.\n",
    "#             gen_loss.backward()\n",
    "#             gen_opt.step()\n",
    "\n",
    "#             # Keep track of the average discriminator loss\n",
    "#             mean_discriminator_loss += disc_loss.item() / display_step\n",
    "\n",
    "#             # Keep track of the average generator loss\n",
    "#             mean_generator_loss += gen_loss.item() / display_step\n",
    "\n",
    "#             ### Visualization code ###\n",
    "#             if cur_step % display_step == 0 and cur_step > 0:\n",
    "#                 print(f\"Epoch {epoch}, step {cur_step}: Generator loss: {mean_generator_loss}, discriminator loss: {mean_discriminator_loss}\")\n",
    "\n",
    "#                 # Generate fake images for visualization\n",
    "#                 fake_noise = get_noise(cur_batch_size, z_dim, device=device)\n",
    "#                 fake = gen(fake_noise)\n",
    "#                 # You can display the generated images here using 'show_tensor_images(fake)' and 'show_tensor_images(real)'.\n",
    "\n",
    "#                 # Reset the mean loss values\n",
    "#                 mean_generator_loss = 0\n",
    "#                 mean_discriminator_loss = 0\n",
    "\n",
    "#             cur_step += 1\n",
    "\n",
    "#     if mean_generator_loss < best_generator_loss:\n",
    "#         best_generator_loss = mean_generator_loss\n",
    "#         best_hyperparameters = {'z_dim': z_dim, 'hidden_dim': hidden_dim, 'lr': lr}\n",
    "\n",
    "# print(\"Best Hyperparameters:\", best_hyperparameters)"
   ]
  }
 ],
 "metadata": {
  "accelerator": "GPU",
  "colab": {
   "collapsed_sections": [
    "1KD3ZgLs80vY",
    "Mvjjan17qHjq"
   ],
   "name": "C1W1_9: Your First GAN (Student).ipynb",
   "provenance": []
  },
  "coursera": {
   "schema_names": [
    "GANSC1-1A"
   ]
  },
  "kernelspec": {
   "display_name": "Python 3 (ipykernel)",
   "language": "python",
   "name": "python3"
  },
  "language_info": {
   "codemirror_mode": {
    "name": "ipython",
    "version": 3
   },
   "file_extension": ".py",
   "mimetype": "text/x-python",
   "name": "python",
   "nbconvert_exporter": "python",
   "pygments_lexer": "ipython3",
   "version": "3.11.5"
  },
  "widgets": {
   "application/vnd.jupyter.widget-state+json": {
    "1e2b39fe404341a4b866a54e4196b447": {
     "model_module": "@jupyter-widgets/controls",
     "model_name": "DescriptionStyleModel",
     "state": {
      "_model_module": "@jupyter-widgets/controls",
      "_model_module_version": "1.5.0",
      "_model_name": "DescriptionStyleModel",
      "_view_count": null,
      "_view_module": "@jupyter-widgets/base",
      "_view_module_version": "1.2.0",
      "_view_name": "StyleView",
      "description_width": ""
     }
    },
    "31dff524ad6b460cae8d9a3551f1e760": {
     "model_module": "@jupyter-widgets/controls",
     "model_name": "HTMLModel",
     "state": {
      "_dom_classes": [],
      "_model_module": "@jupyter-widgets/controls",
      "_model_module_version": "1.5.0",
      "_model_name": "HTMLModel",
      "_view_count": null,
      "_view_module": "@jupyter-widgets/controls",
      "_view_module_version": "1.5.0",
      "_view_name": "HTMLView",
      "description": "",
      "description_tooltip": null,
      "layout": "IPY_MODEL_9faf93e4798849d0bb2bc7e139727a5c",
      "placeholder": "​",
      "style": "IPY_MODEL_523435d58a2e43ecb3f7f8000596ca00",
      "value": " 1654784/? [00:16&lt;00:00, 293528.49it/s]"
     }
    },
    "3c1313fa41c64640b481590c79771343": {
     "model_module": "@jupyter-widgets/base",
     "model_name": "LayoutModel",
     "state": {
      "_model_module": "@jupyter-widgets/base",
      "_model_module_version": "1.2.0",
      "_model_name": "LayoutModel",
      "_view_count": null,
      "_view_module": "@jupyter-widgets/base",
      "_view_module_version": "1.2.0",
      "_view_name": "LayoutView",
      "align_content": null,
      "align_items": null,
      "align_self": null,
      "border": null,
      "bottom": null,
      "display": null,
      "flex": null,
      "flex_flow": null,
      "grid_area": null,
      "grid_auto_columns": null,
      "grid_auto_flow": null,
      "grid_auto_rows": null,
      "grid_column": null,
      "grid_gap": null,
      "grid_row": null,
      "grid_template_areas": null,
      "grid_template_columns": null,
      "grid_template_rows": null,
      "height": null,
      "justify_content": null,
      "justify_items": null,
      "left": null,
      "margin": null,
      "max_height": null,
      "max_width": null,
      "min_height": null,
      "min_width": null,
      "object_fit": null,
      "object_position": null,
      "order": null,
      "overflow": null,
      "overflow_x": null,
      "overflow_y": null,
      "padding": null,
      "right": null,
      "top": null,
      "visibility": null,
      "width": null
     }
    },
    "428037c978c04996aa56db81ee78ce2d": {
     "model_module": "@jupyter-widgets/base",
     "model_name": "LayoutModel",
     "state": {
      "_model_module": "@jupyter-widgets/base",
      "_model_module_version": "1.2.0",
      "_model_name": "LayoutModel",
      "_view_count": null,
      "_view_module": "@jupyter-widgets/base",
      "_view_module_version": "1.2.0",
      "_view_name": "LayoutView",
      "align_content": null,
      "align_items": null,
      "align_self": null,
      "border": null,
      "bottom": null,
      "display": null,
      "flex": null,
      "flex_flow": null,
      "grid_area": null,
      "grid_auto_columns": null,
      "grid_auto_flow": null,
      "grid_auto_rows": null,
      "grid_column": null,
      "grid_gap": null,
      "grid_row": null,
      "grid_template_areas": null,
      "grid_template_columns": null,
      "grid_template_rows": null,
      "height": null,
      "justify_content": null,
      "justify_items": null,
      "left": null,
      "margin": null,
      "max_height": null,
      "max_width": null,
      "min_height": null,
      "min_width": null,
      "object_fit": null,
      "object_position": null,
      "order": null,
      "overflow": null,
      "overflow_x": null,
      "overflow_y": null,
      "padding": null,
      "right": null,
      "top": null,
      "visibility": null,
      "width": null
     }
    },
    "4acd094e38964d92853ec2c1be206601": {
     "model_module": "@jupyter-widgets/base",
     "model_name": "LayoutModel",
     "state": {
      "_model_module": "@jupyter-widgets/base",
      "_model_module_version": "1.2.0",
      "_model_name": "LayoutModel",
      "_view_count": null,
      "_view_module": "@jupyter-widgets/base",
      "_view_module_version": "1.2.0",
      "_view_name": "LayoutView",
      "align_content": null,
      "align_items": null,
      "align_self": null,
      "border": null,
      "bottom": null,
      "display": null,
      "flex": null,
      "flex_flow": null,
      "grid_area": null,
      "grid_auto_columns": null,
      "grid_auto_flow": null,
      "grid_auto_rows": null,
      "grid_column": null,
      "grid_gap": null,
      "grid_row": null,
      "grid_template_areas": null,
      "grid_template_columns": null,
      "grid_template_rows": null,
      "height": null,
      "justify_content": null,
      "justify_items": null,
      "left": null,
      "margin": null,
      "max_height": null,
      "max_width": null,
      "min_height": null,
      "min_width": null,
      "object_fit": null,
      "object_position": null,
      "order": null,
      "overflow": null,
      "overflow_x": null,
      "overflow_y": null,
      "padding": null,
      "right": null,
      "top": null,
      "visibility": null,
      "width": null
     }
    },
    "523435d58a2e43ecb3f7f8000596ca00": {
     "model_module": "@jupyter-widgets/controls",
     "model_name": "DescriptionStyleModel",
     "state": {
      "_model_module": "@jupyter-widgets/controls",
      "_model_module_version": "1.5.0",
      "_model_name": "DescriptionStyleModel",
      "_view_count": null,
      "_view_module": "@jupyter-widgets/base",
      "_view_module_version": "1.2.0",
      "_view_name": "StyleView",
      "description_width": ""
     }
    },
    "5d89702ec9374bf3aac8578f054a82f5": {
     "model_module": "@jupyter-widgets/controls",
     "model_name": "FloatProgressModel",
     "state": {
      "_dom_classes": [],
      "_model_module": "@jupyter-widgets/controls",
      "_model_module_version": "1.5.0",
      "_model_name": "FloatProgressModel",
      "_view_count": null,
      "_view_module": "@jupyter-widgets/controls",
      "_view_module_version": "1.5.0",
      "_view_name": "ProgressView",
      "bar_style": "info",
      "description": "",
      "description_tooltip": null,
      "layout": "IPY_MODEL_759c15230b394b658c44dc1e07beb3aa",
      "max": 1,
      "min": 0,
      "orientation": "horizontal",
      "style": "IPY_MODEL_a86e0520284b4aa19275c34285c7fb5f",
      "value": 1
     }
    },
    "5f8684679588469f85d86b048889387e": {
     "model_module": "@jupyter-widgets/base",
     "model_name": "LayoutModel",
     "state": {
      "_model_module": "@jupyter-widgets/base",
      "_model_module_version": "1.2.0",
      "_model_name": "LayoutModel",
      "_view_count": null,
      "_view_module": "@jupyter-widgets/base",
      "_view_module_version": "1.2.0",
      "_view_name": "LayoutView",
      "align_content": null,
      "align_items": null,
      "align_self": null,
      "border": null,
      "bottom": null,
      "display": null,
      "flex": null,
      "flex_flow": null,
      "grid_area": null,
      "grid_auto_columns": null,
      "grid_auto_flow": null,
      "grid_auto_rows": null,
      "grid_column": null,
      "grid_gap": null,
      "grid_row": null,
      "grid_template_areas": null,
      "grid_template_columns": null,
      "grid_template_rows": null,
      "height": null,
      "justify_content": null,
      "justify_items": null,
      "left": null,
      "margin": null,
      "max_height": null,
      "max_width": null,
      "min_height": null,
      "min_width": null,
      "object_fit": null,
      "object_position": null,
      "order": null,
      "overflow": null,
      "overflow_x": null,
      "overflow_y": null,
      "padding": null,
      "right": null,
      "top": null,
      "visibility": null,
      "width": null
     }
    },
    "6d5079e5fc004921935be00b8ef0e73c": {
     "model_module": "@jupyter-widgets/controls",
     "model_name": "FloatProgressModel",
     "state": {
      "_dom_classes": [],
      "_model_module": "@jupyter-widgets/controls",
      "_model_module_version": "1.5.0",
      "_model_name": "FloatProgressModel",
      "_view_count": null,
      "_view_module": "@jupyter-widgets/controls",
      "_view_module_version": "1.5.0",
      "_view_name": "ProgressView",
      "bar_style": "info",
      "description": "",
      "description_tooltip": null,
      "layout": "IPY_MODEL_efd48396f02d470eb8f94e83102a97dc",
      "max": 1,
      "min": 0,
      "orientation": "horizontal",
      "style": "IPY_MODEL_ff768e3eb4494343bbf05ac9c8536f5c",
      "value": 1
     }
    },
    "73d88a452b9e42b4a0b8b65a12eb1434": {
     "model_module": "@jupyter-widgets/controls",
     "model_name": "HBoxModel",
     "state": {
      "_dom_classes": [],
      "_model_module": "@jupyter-widgets/controls",
      "_model_module_version": "1.5.0",
      "_model_name": "HBoxModel",
      "_view_count": null,
      "_view_module": "@jupyter-widgets/controls",
      "_view_module_version": "1.5.0",
      "_view_name": "HBoxView",
      "box_style": "",
      "children": [
       "IPY_MODEL_fe3d17d3edd747958139d93df703115e",
       "IPY_MODEL_954c2a0b14674a9dbc6c12e6bef4ae26"
      ],
      "layout": "IPY_MODEL_4acd094e38964d92853ec2c1be206601"
     }
    },
    "759c15230b394b658c44dc1e07beb3aa": {
     "model_module": "@jupyter-widgets/base",
     "model_name": "LayoutModel",
     "state": {
      "_model_module": "@jupyter-widgets/base",
      "_model_module_version": "1.2.0",
      "_model_name": "LayoutModel",
      "_view_count": null,
      "_view_module": "@jupyter-widgets/base",
      "_view_module_version": "1.2.0",
      "_view_name": "LayoutView",
      "align_content": null,
      "align_items": null,
      "align_self": null,
      "border": null,
      "bottom": null,
      "display": null,
      "flex": null,
      "flex_flow": null,
      "grid_area": null,
      "grid_auto_columns": null,
      "grid_auto_flow": null,
      "grid_auto_rows": null,
      "grid_column": null,
      "grid_gap": null,
      "grid_row": null,
      "grid_template_areas": null,
      "grid_template_columns": null,
      "grid_template_rows": null,
      "height": null,
      "justify_content": null,
      "justify_items": null,
      "left": null,
      "margin": null,
      "max_height": null,
      "max_width": null,
      "min_height": null,
      "min_width": null,
      "object_fit": null,
      "object_position": null,
      "order": null,
      "overflow": null,
      "overflow_x": null,
      "overflow_y": null,
      "padding": null,
      "right": null,
      "top": null,
      "visibility": null,
      "width": null
     }
    },
    "791aedb58fb54771a08f96b47b26d7ca": {
     "model_module": "@jupyter-widgets/controls",
     "model_name": "HBoxModel",
     "state": {
      "_dom_classes": [],
      "_model_module": "@jupyter-widgets/controls",
      "_model_module_version": "1.5.0",
      "_model_name": "HBoxModel",
      "_view_count": null,
      "_view_module": "@jupyter-widgets/controls",
      "_view_module_version": "1.5.0",
      "_view_name": "HBoxView",
      "box_style": "",
      "children": [
       "IPY_MODEL_6d5079e5fc004921935be00b8ef0e73c",
       "IPY_MODEL_b678b1e6ac9445e1bba0dfba02ff6838"
      ],
      "layout": "IPY_MODEL_867756ae36e148bebdfae863cd8bea78"
     }
    },
    "7f785f474591493ea48c41fc3c8fb6a4": {
     "model_module": "@jupyter-widgets/controls",
     "model_name": "HBoxModel",
     "state": {
      "_dom_classes": [],
      "_model_module": "@jupyter-widgets/controls",
      "_model_module_version": "1.5.0",
      "_model_name": "HBoxModel",
      "_view_count": null,
      "_view_module": "@jupyter-widgets/controls",
      "_view_module_version": "1.5.0",
      "_view_name": "HBoxView",
      "box_style": "",
      "children": [
       "IPY_MODEL_9b08f4d7f68a48698a30af50d978be18",
       "IPY_MODEL_94eeb6dd98a3468c814fca2b17cc906d"
      ],
      "layout": "IPY_MODEL_f4acb82569474ed588e72657b7d61f13"
     }
    },
    "867756ae36e148bebdfae863cd8bea78": {
     "model_module": "@jupyter-widgets/base",
     "model_name": "LayoutModel",
     "state": {
      "_model_module": "@jupyter-widgets/base",
      "_model_module_version": "1.2.0",
      "_model_name": "LayoutModel",
      "_view_count": null,
      "_view_module": "@jupyter-widgets/base",
      "_view_module_version": "1.2.0",
      "_view_name": "LayoutView",
      "align_content": null,
      "align_items": null,
      "align_self": null,
      "border": null,
      "bottom": null,
      "display": null,
      "flex": null,
      "flex_flow": null,
      "grid_area": null,
      "grid_auto_columns": null,
      "grid_auto_flow": null,
      "grid_auto_rows": null,
      "grid_column": null,
      "grid_gap": null,
      "grid_row": null,
      "grid_template_areas": null,
      "grid_template_columns": null,
      "grid_template_rows": null,
      "height": null,
      "justify_content": null,
      "justify_items": null,
      "left": null,
      "margin": null,
      "max_height": null,
      "max_width": null,
      "min_height": null,
      "min_width": null,
      "object_fit": null,
      "object_position": null,
      "order": null,
      "overflow": null,
      "overflow_x": null,
      "overflow_y": null,
      "padding": null,
      "right": null,
      "top": null,
      "visibility": null,
      "width": null
     }
    },
    "94eeb6dd98a3468c814fca2b17cc906d": {
     "model_module": "@jupyter-widgets/controls",
     "model_name": "HTMLModel",
     "state": {
      "_dom_classes": [],
      "_model_module": "@jupyter-widgets/controls",
      "_model_module_version": "1.5.0",
      "_model_name": "HTMLModel",
      "_view_count": null,
      "_view_module": "@jupyter-widgets/controls",
      "_view_module_version": "1.5.0",
      "_view_name": "HTMLView",
      "description": "",
      "description_tooltip": null,
      "layout": "IPY_MODEL_428037c978c04996aa56db81ee78ce2d",
      "placeholder": "​",
      "style": "IPY_MODEL_de3e18d80f1f4456842b66443b4fd9b7",
      "value": " 32768/? [00:17&lt;00:00, 86439.38it/s]"
     }
    },
    "954c2a0b14674a9dbc6c12e6bef4ae26": {
     "model_module": "@jupyter-widgets/controls",
     "model_name": "HTMLModel",
     "state": {
      "_dom_classes": [],
      "_model_module": "@jupyter-widgets/controls",
      "_model_module_version": "1.5.0",
      "_model_name": "HTMLModel",
      "_view_count": null,
      "_view_module": "@jupyter-widgets/controls",
      "_view_module_version": "1.5.0",
      "_view_name": "HTMLView",
      "description": "",
      "description_tooltip": null,
      "layout": "IPY_MODEL_a31698d216f44a2898c42baa759b6bbc",
      "placeholder": "​",
      "style": "IPY_MODEL_c1c31dce322e449bbecb8b82b87145ab",
      "value": " 0/4542 [00:00&lt;?, ?it/s]"
     }
    },
    "9b08f4d7f68a48698a30af50d978be18": {
     "model_module": "@jupyter-widgets/controls",
     "model_name": "FloatProgressModel",
     "state": {
      "_dom_classes": [],
      "_model_module": "@jupyter-widgets/controls",
      "_model_module_version": "1.5.0",
      "_model_name": "FloatProgressModel",
      "_view_count": null,
      "_view_module": "@jupyter-widgets/controls",
      "_view_module_version": "1.5.0",
      "_view_name": "ProgressView",
      "bar_style": "info",
      "description": "",
      "description_tooltip": null,
      "layout": "IPY_MODEL_5f8684679588469f85d86b048889387e",
      "max": 1,
      "min": 0,
      "orientation": "horizontal",
      "style": "IPY_MODEL_ac66fb3a3e8d4aed9d968e84c897fda4",
      "value": 1
     }
    },
    "9faf93e4798849d0bb2bc7e139727a5c": {
     "model_module": "@jupyter-widgets/base",
     "model_name": "LayoutModel",
     "state": {
      "_model_module": "@jupyter-widgets/base",
      "_model_module_version": "1.2.0",
      "_model_name": "LayoutModel",
      "_view_count": null,
      "_view_module": "@jupyter-widgets/base",
      "_view_module_version": "1.2.0",
      "_view_name": "LayoutView",
      "align_content": null,
      "align_items": null,
      "align_self": null,
      "border": null,
      "bottom": null,
      "display": null,
      "flex": null,
      "flex_flow": null,
      "grid_area": null,
      "grid_auto_columns": null,
      "grid_auto_flow": null,
      "grid_auto_rows": null,
      "grid_column": null,
      "grid_gap": null,
      "grid_row": null,
      "grid_template_areas": null,
      "grid_template_columns": null,
      "grid_template_rows": null,
      "height": null,
      "justify_content": null,
      "justify_items": null,
      "left": null,
      "margin": null,
      "max_height": null,
      "max_width": null,
      "min_height": null,
      "min_width": null,
      "object_fit": null,
      "object_position": null,
      "order": null,
      "overflow": null,
      "overflow_x": null,
      "overflow_y": null,
      "padding": null,
      "right": null,
      "top": null,
      "visibility": null,
      "width": null
     }
    },
    "a31698d216f44a2898c42baa759b6bbc": {
     "model_module": "@jupyter-widgets/base",
     "model_name": "LayoutModel",
     "state": {
      "_model_module": "@jupyter-widgets/base",
      "_model_module_version": "1.2.0",
      "_model_name": "LayoutModel",
      "_view_count": null,
      "_view_module": "@jupyter-widgets/base",
      "_view_module_version": "1.2.0",
      "_view_name": "LayoutView",
      "align_content": null,
      "align_items": null,
      "align_self": null,
      "border": null,
      "bottom": null,
      "display": null,
      "flex": null,
      "flex_flow": null,
      "grid_area": null,
      "grid_auto_columns": null,
      "grid_auto_flow": null,
      "grid_auto_rows": null,
      "grid_column": null,
      "grid_gap": null,
      "grid_row": null,
      "grid_template_areas": null,
      "grid_template_columns": null,
      "grid_template_rows": null,
      "height": null,
      "justify_content": null,
      "justify_items": null,
      "left": null,
      "margin": null,
      "max_height": null,
      "max_width": null,
      "min_height": null,
      "min_width": null,
      "object_fit": null,
      "object_position": null,
      "order": null,
      "overflow": null,
      "overflow_x": null,
      "overflow_y": null,
      "padding": null,
      "right": null,
      "top": null,
      "visibility": null,
      "width": null
     }
    },
    "a36ea3adaed746e8a451a80ed8aead03": {
     "model_module": "@jupyter-widgets/base",
     "model_name": "LayoutModel",
     "state": {
      "_model_module": "@jupyter-widgets/base",
      "_model_module_version": "1.2.0",
      "_model_name": "LayoutModel",
      "_view_count": null,
      "_view_module": "@jupyter-widgets/base",
      "_view_module_version": "1.2.0",
      "_view_name": "LayoutView",
      "align_content": null,
      "align_items": null,
      "align_self": null,
      "border": null,
      "bottom": null,
      "display": null,
      "flex": null,
      "flex_flow": null,
      "grid_area": null,
      "grid_auto_columns": null,
      "grid_auto_flow": null,
      "grid_auto_rows": null,
      "grid_column": null,
      "grid_gap": null,
      "grid_row": null,
      "grid_template_areas": null,
      "grid_template_columns": null,
      "grid_template_rows": null,
      "height": null,
      "justify_content": null,
      "justify_items": null,
      "left": null,
      "margin": null,
      "max_height": null,
      "max_width": null,
      "min_height": null,
      "min_width": null,
      "object_fit": null,
      "object_position": null,
      "order": null,
      "overflow": null,
      "overflow_x": null,
      "overflow_y": null,
      "padding": null,
      "right": null,
      "top": null,
      "visibility": null,
      "width": null
     }
    },
    "a86e0520284b4aa19275c34285c7fb5f": {
     "model_module": "@jupyter-widgets/controls",
     "model_name": "ProgressStyleModel",
     "state": {
      "_model_module": "@jupyter-widgets/controls",
      "_model_module_version": "1.5.0",
      "_model_name": "ProgressStyleModel",
      "_view_count": null,
      "_view_module": "@jupyter-widgets/base",
      "_view_module_version": "1.2.0",
      "_view_name": "StyleView",
      "bar_color": null,
      "description_width": "initial"
     }
    },
    "ac66fb3a3e8d4aed9d968e84c897fda4": {
     "model_module": "@jupyter-widgets/controls",
     "model_name": "ProgressStyleModel",
     "state": {
      "_model_module": "@jupyter-widgets/controls",
      "_model_module_version": "1.5.0",
      "_model_name": "ProgressStyleModel",
      "_view_count": null,
      "_view_module": "@jupyter-widgets/base",
      "_view_module_version": "1.2.0",
      "_view_name": "StyleView",
      "bar_color": null,
      "description_width": "initial"
     }
    },
    "b678b1e6ac9445e1bba0dfba02ff6838": {
     "model_module": "@jupyter-widgets/controls",
     "model_name": "HTMLModel",
     "state": {
      "_dom_classes": [],
      "_model_module": "@jupyter-widgets/controls",
      "_model_module_version": "1.5.0",
      "_model_name": "HTMLModel",
      "_view_count": null,
      "_view_module": "@jupyter-widgets/controls",
      "_view_module_version": "1.5.0",
      "_view_name": "HTMLView",
      "description": "",
      "description_tooltip": null,
      "layout": "IPY_MODEL_c436056304df43d888975a16877d0e2b",
      "placeholder": "​",
      "style": "IPY_MODEL_1e2b39fe404341a4b866a54e4196b447",
      "value": " 9920512/? [00:20&lt;00:00, 1676415.51it/s]"
     }
    },
    "c1c31dce322e449bbecb8b82b87145ab": {
     "model_module": "@jupyter-widgets/controls",
     "model_name": "DescriptionStyleModel",
     "state": {
      "_model_module": "@jupyter-widgets/controls",
      "_model_module_version": "1.5.0",
      "_model_name": "DescriptionStyleModel",
      "_view_count": null,
      "_view_module": "@jupyter-widgets/base",
      "_view_module_version": "1.2.0",
      "_view_name": "StyleView",
      "description_width": ""
     }
    },
    "c1c7ab8fb8684b428e1a126535aaaff2": {
     "model_module": "@jupyter-widgets/controls",
     "model_name": "ProgressStyleModel",
     "state": {
      "_model_module": "@jupyter-widgets/controls",
      "_model_module_version": "1.5.0",
      "_model_name": "ProgressStyleModel",
      "_view_count": null,
      "_view_module": "@jupyter-widgets/base",
      "_view_module_version": "1.2.0",
      "_view_name": "StyleView",
      "bar_color": null,
      "description_width": "initial"
     }
    },
    "c436056304df43d888975a16877d0e2b": {
     "model_module": "@jupyter-widgets/base",
     "model_name": "LayoutModel",
     "state": {
      "_model_module": "@jupyter-widgets/base",
      "_model_module_version": "1.2.0",
      "_model_name": "LayoutModel",
      "_view_count": null,
      "_view_module": "@jupyter-widgets/base",
      "_view_module_version": "1.2.0",
      "_view_name": "LayoutView",
      "align_content": null,
      "align_items": null,
      "align_self": null,
      "border": null,
      "bottom": null,
      "display": null,
      "flex": null,
      "flex_flow": null,
      "grid_area": null,
      "grid_auto_columns": null,
      "grid_auto_flow": null,
      "grid_auto_rows": null,
      "grid_column": null,
      "grid_gap": null,
      "grid_row": null,
      "grid_template_areas": null,
      "grid_template_columns": null,
      "grid_template_rows": null,
      "height": null,
      "justify_content": null,
      "justify_items": null,
      "left": null,
      "margin": null,
      "max_height": null,
      "max_width": null,
      "min_height": null,
      "min_width": null,
      "object_fit": null,
      "object_position": null,
      "order": null,
      "overflow": null,
      "overflow_x": null,
      "overflow_y": null,
      "padding": null,
      "right": null,
      "top": null,
      "visibility": null,
      "width": null
     }
    },
    "de3e18d80f1f4456842b66443b4fd9b7": {
     "model_module": "@jupyter-widgets/controls",
     "model_name": "DescriptionStyleModel",
     "state": {
      "_model_module": "@jupyter-widgets/controls",
      "_model_module_version": "1.5.0",
      "_model_name": "DescriptionStyleModel",
      "_view_count": null,
      "_view_module": "@jupyter-widgets/base",
      "_view_module_version": "1.2.0",
      "_view_name": "StyleView",
      "description_width": ""
     }
    },
    "efd48396f02d470eb8f94e83102a97dc": {
     "model_module": "@jupyter-widgets/base",
     "model_name": "LayoutModel",
     "state": {
      "_model_module": "@jupyter-widgets/base",
      "_model_module_version": "1.2.0",
      "_model_name": "LayoutModel",
      "_view_count": null,
      "_view_module": "@jupyter-widgets/base",
      "_view_module_version": "1.2.0",
      "_view_name": "LayoutView",
      "align_content": null,
      "align_items": null,
      "align_self": null,
      "border": null,
      "bottom": null,
      "display": null,
      "flex": null,
      "flex_flow": null,
      "grid_area": null,
      "grid_auto_columns": null,
      "grid_auto_flow": null,
      "grid_auto_rows": null,
      "grid_column": null,
      "grid_gap": null,
      "grid_row": null,
      "grid_template_areas": null,
      "grid_template_columns": null,
      "grid_template_rows": null,
      "height": null,
      "justify_content": null,
      "justify_items": null,
      "left": null,
      "margin": null,
      "max_height": null,
      "max_width": null,
      "min_height": null,
      "min_width": null,
      "object_fit": null,
      "object_position": null,
      "order": null,
      "overflow": null,
      "overflow_x": null,
      "overflow_y": null,
      "padding": null,
      "right": null,
      "top": null,
      "visibility": null,
      "width": null
     }
    },
    "f4acb82569474ed588e72657b7d61f13": {
     "model_module": "@jupyter-widgets/base",
     "model_name": "LayoutModel",
     "state": {
      "_model_module": "@jupyter-widgets/base",
      "_model_module_version": "1.2.0",
      "_model_name": "LayoutModel",
      "_view_count": null,
      "_view_module": "@jupyter-widgets/base",
      "_view_module_version": "1.2.0",
      "_view_name": "LayoutView",
      "align_content": null,
      "align_items": null,
      "align_self": null,
      "border": null,
      "bottom": null,
      "display": null,
      "flex": null,
      "flex_flow": null,
      "grid_area": null,
      "grid_auto_columns": null,
      "grid_auto_flow": null,
      "grid_auto_rows": null,
      "grid_column": null,
      "grid_gap": null,
      "grid_row": null,
      "grid_template_areas": null,
      "grid_template_columns": null,
      "grid_template_rows": null,
      "height": null,
      "justify_content": null,
      "justify_items": null,
      "left": null,
      "margin": null,
      "max_height": null,
      "max_width": null,
      "min_height": null,
      "min_width": null,
      "object_fit": null,
      "object_position": null,
      "order": null,
      "overflow": null,
      "overflow_x": null,
      "overflow_y": null,
      "padding": null,
      "right": null,
      "top": null,
      "visibility": null,
      "width": null
     }
    },
    "f872d3f827994ea8906aa099a6e8700c": {
     "model_module": "@jupyter-widgets/controls",
     "model_name": "HBoxModel",
     "state": {
      "_dom_classes": [],
      "_model_module": "@jupyter-widgets/controls",
      "_model_module_version": "1.5.0",
      "_model_name": "HBoxModel",
      "_view_count": null,
      "_view_module": "@jupyter-widgets/controls",
      "_view_module_version": "1.5.0",
      "_view_name": "HBoxView",
      "box_style": "",
      "children": [
       "IPY_MODEL_5d89702ec9374bf3aac8578f054a82f5",
       "IPY_MODEL_31dff524ad6b460cae8d9a3551f1e760"
      ],
      "layout": "IPY_MODEL_a36ea3adaed746e8a451a80ed8aead03"
     }
    },
    "fe3d17d3edd747958139d93df703115e": {
     "model_module": "@jupyter-widgets/controls",
     "model_name": "FloatProgressModel",
     "state": {
      "_dom_classes": [],
      "_model_module": "@jupyter-widgets/controls",
      "_model_module_version": "1.5.0",
      "_model_name": "FloatProgressModel",
      "_view_count": null,
      "_view_module": "@jupyter-widgets/controls",
      "_view_module_version": "1.5.0",
      "_view_name": "ProgressView",
      "bar_style": "info",
      "description": "  0%",
      "description_tooltip": null,
      "layout": "IPY_MODEL_3c1313fa41c64640b481590c79771343",
      "max": 1,
      "min": 0,
      "orientation": "horizontal",
      "style": "IPY_MODEL_c1c7ab8fb8684b428e1a126535aaaff2",
      "value": 0
     }
    },
    "ff768e3eb4494343bbf05ac9c8536f5c": {
     "model_module": "@jupyter-widgets/controls",
     "model_name": "ProgressStyleModel",
     "state": {
      "_model_module": "@jupyter-widgets/controls",
      "_model_module_version": "1.5.0",
      "_model_name": "ProgressStyleModel",
      "_view_count": null,
      "_view_module": "@jupyter-widgets/base",
      "_view_module_version": "1.2.0",
      "_view_name": "StyleView",
      "bar_color": null,
      "description_width": "initial"
     }
    }
   }
  }
 },
 "nbformat": 4,
 "nbformat_minor": 1
}
