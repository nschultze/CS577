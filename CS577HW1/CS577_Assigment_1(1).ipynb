{
 "cells": [
  {
   "cell_type": "markdown",
   "id": "fc973e34",
   "metadata": {},
   "source": [
    "# Assignment 1"
   ]
  },
  {
   "cell_type": "markdown",
   "id": "ccdd5f8c",
   "metadata": {},
   "source": [
    "Due by 11:59pm Sept. 18, 2023"
   ]
  },
  {
   "cell_type": "markdown",
   "id": "4b27dc86",
   "metadata": {},
   "source": [
    "## Theory Questions (Question 1: 9 points, Question 2: 4 points, Question 3: 12 points)"
   ]
  },
  {
   "attachments": {
    "q1_i-3.png": {
     "image/png": "[encoded data removed]"
    }
   },
   "cell_type": "markdown",
   "id": "627c747b",
   "metadata": {},
   "source": [
    "***\n",
    "\n",
    "1.Suppose `I` is a 5$\\times$5 image, `K` is a 3$\\times$3 convolving kernel. Compute the convolution of the image `I` with `K`, with the given settings.\n",
    "\n",
    "`I`:\n",
    "![q1_i-3.png](attachment:q1_i-3.png)"
   ]
  },
  {
   "attachments": {
    "q1_k.png": {
     "image/png": "[encoded data removed]"
    }
   },
   "cell_type": "markdown",
   "id": "bf18dfb0",
   "metadata": {},
   "source": [
    "`K`:\n",
    "![q1_k.png](attachment:q1_k.png)"
   ]
  },
  {
   "cell_type": "markdown",
   "id": "9ffe5d4c",
   "metadata": {},
   "source": [
    "a) Zero padding, stride $=1$.\n",
    "\n",
    "b) Zero padding, stride $=2$.\n",
    "\n",
    "c) No padding, stride $=1$."
   ]
  },
  {
   "cell_type": "markdown",
   "id": "a5c385c4",
   "metadata": {},
   "source": [
    "$$\n",
    "\\begin{bmatrix}\n",
    "2 & 1 & 1 & 2 & 1 \\\\\n",
    "2 & 2 & 3 & 1 & 2 \\\\\n",
    "1 & 4 & 1 & 2 & 1 \\\\\n",
    "2 & 1 & 3 & 2 & 0 \\\\\n",
    "0 & 2 & 2 & 1 & 1 \n",
    "\\end{bmatrix}\n",
    "$$"
   ]
  },
  {
   "cell_type": "markdown",
   "id": "7769a544",
   "metadata": {},
   "source": [
    "**Answer:**\n",
    "a) [[2,1,1,2,1], [2,2,3,1,2], [1,4,1,2,1], [2,1,3,2,0], [0,2,2,1,1]]\n",
    "$$\n",
    "\\begin{bmatrix}\n",
    "2 & 1 & 1 & 2 & 1 \\\\\n",
    "2 & 2 & 3 & 1 & 2 \\\\\n",
    "1 & 4 & 1 & 2 & 1 \\\\\n",
    "2 & 1 & 3 & 2 & 0 \\\\\n",
    "0 & 2 & 2 & 1 & 1 \n",
    "\\end{bmatrix}\n",
    "$$\n",
    "b) [[2,1,1], [1,1,1], [0,2,1]]\n",
    "$$\n",
    "\\begin{bmatrix}\n",
    "2 & 1 & 1 \\\\\n",
    "1 & 1 & 1 \\\\\n",
    "0 & 2 & 1\n",
    "\\end{bmatrix}\n",
    "$$\n",
    "c) [[2,3,1], [4,1,2], [1,3,2]]\n",
    "$$\n",
    "\\begin{bmatrix}\n",
    "2 & 3 & 1 \\\\\n",
    "4 & 1 & 1 \\\\\n",
    "1 & 3 & 2\n",
    "\\end{bmatrix}\n",
    "$$"
   ]
  },
  {
   "attachments": {
    "q2.png": {
     "image/png": "[encoded data removed]"
    }
   },
   "cell_type": "markdown",
   "id": "613d76f8",
   "metadata": {},
   "source": [
    "2.Let `I` be the input. Write the output using average pooling with $2\\times2$ kernel, stride $=2$.\n",
    "\n",
    "`I`:\n",
    "![q2.png](attachment:q2.png)"
   ]
  },
  {
   "cell_type": "markdown",
   "id": "7e2bc049",
   "metadata": {},
   "source": [
    "**Answer:**\n",
    "[[4.25,4.25], [4.25,3.75]]->Rounded Up [[5,5], [5,4]]\n",
    "Actual: \n",
    "$$\n",
    "\\begin{bmatrix}\n",
    "4.25 & 4.25 \\\\\n",
    "4.25 & 3.75\n",
    "\\end{bmatrix}\n",
    "$$\n",
    "Rounded:\n",
    "$$\n",
    "\\begin{bmatrix}\n",
    "5 & 5 \\\\\n",
    "5 & 4\n",
    "\\end{bmatrix}\n",
    "$$"
   ]
  },
  {
   "attachments": {
    "q3_r.png": {
     "image/png": "[encoded data removed]"
    }
   },
   "cell_type": "markdown",
   "id": "70bb8346",
   "metadata": {},
   "source": [
    "3.`I` is a $5\\times5$ RGB image. `K` is a $3\\times3$ convolving kernel with all its weights equal to $-1$. `b` is the bias equal to $1$.\n",
    "\n",
    "The `R` channel is given as\n",
    "![q3_r.png](attachment:q3_r.png)"
   ]
  },
  {
   "attachments": {
    "q3_g.png": {
     "image/png": "[encoded data removed]"
    }
   },
   "cell_type": "markdown",
   "id": "7024bf3f",
   "metadata": {},
   "source": [
    "The `G` channel is given as\n",
    "![q3_g.png](attachment:q3_g.png)"
   ]
  },
  {
   "attachments": {
    "q3_b.png": {
     "image/png": "[encoded data removed]"
    }
   },
   "cell_type": "markdown",
   "id": "5d3e80d6",
   "metadata": {},
   "source": [
    "The `B` channel is given as\n",
    "![q3_b.png](attachment:q3_b.png)"
   ]
  },
  {
   "cell_type": "markdown",
   "id": "11a4186a",
   "metadata": {},
   "source": [
    "Please calculate the convolution of `I` with `K` and `b`, where stride $=1$, and no padding is applied."
   ]
  },
  {
   "cell_type": "markdown",
   "id": "4a7c978c",
   "metadata": {},
   "source": [
    "**Answer:** [[-71,-71,-77], [-68,-69,-74], [-71,-71,-77]] \n",
    "$$\n",
    "\\begin{bmatrix}\n",
    "-71 & -71 & -77 \\\\\n",
    "-68 & -69 & -74 \\\\\n",
    "-71 & -71 & -77\n",
    "\\end{bmatrix}\n",
    "$$"
   ]
  },
  {
   "cell_type": "markdown",
   "id": "b4eef000",
   "metadata": {},
   "source": [
    "## Programming Questions (Question 4: 45 points, Question 5, 30 points)"
   ]
  },
  {
   "cell_type": "markdown",
   "id": "d9ca8401",
   "metadata": {},
   "source": [
    "4.Load mnist dataset. Normalize the data. Split the data into training, validation and testing set. \n",
    "\n",
    "Build a CNN network with convolution layers, pooling layers to classify the number.  \n",
    "\n",
    "Plot the training loss and validation loss as a function of epochs.\n",
    "\n",
    "Plot the both training accuracy and validation accuracy as a function of epochs. \n",
    "\n",
    "Print the testing accuracy."
   ]
  },
  {
   "cell_type": "markdown",
   "id": "173cf8c2",
   "metadata": {},
   "source": [
    "**Note:** Initial code has been provided to import the necessary packages and load the dataset. Now that we have introduced PyTorch programming, you should use it to solve the programming problems in this assignment."
   ]
  },
  {
   "cell_type": "markdown",
   "id": "46969526",
   "metadata": {},
   "source": [
    "Importing Packages"
   ]
  },
  {
   "cell_type": "code",
   "execution_count": 1,
   "id": "ebe9469b",
   "metadata": {},
   "outputs": [],
   "source": [
    "import torch\n",
    "import torch.nn as nn\n",
    "import torch.optim as optim\n",
    "import torch.utils as utils\n",
    "from torch.utils.data import DataLoader\n",
    "import torchvision\n",
    "import torchvision.transforms as transforms\n",
    "import matplotlib.pyplot as plt\n",
    "import tensorflow as tf\n",
    "import tensorflow.keras as keras\n",
    "from tensorflow.keras import datasets, layers, models"
   ]
  },
  {
   "cell_type": "markdown",
   "id": "32109c2a",
   "metadata": {},
   "source": [
    "Loading Dataset"
   ]
  },
  {
   "cell_type": "code",
   "execution_count": 2,
   "id": "ae698b68",
   "metadata": {},
   "outputs": [],
   "source": [
    "transform = transforms.Compose([transforms.ToTensor(), transforms.Normalize((0.5,), (0.5,))])\n",
    "training_data = torchvision.datasets.MNIST(root='./data', train=True, download=True, transform=transform)\n",
    "testing_data = torchvision.datasets.MNIST(root='./data', train=False, download=True, transform=transform)"
   ]
  },
  {
   "cell_type": "code",
   "execution_count": 3,
   "id": "033823fe",
   "metadata": {},
   "outputs": [],
   "source": [
    "train_loader = torch.utils.data.DataLoader(dataset = training_data,\n",
    "                                           batch_size = 64,\n",
    "                                           shuffle = True)\n",
    "\n",
    "\n",
    "test_loader = torch.utils.data.DataLoader(dataset = testing_data,\n",
    "                                           batch_size = 64,\n",
    "                                           shuffle = True)"
   ]
  },
  {
   "cell_type": "markdown",
   "id": "3f622d39",
   "metadata": {},
   "source": [
    "Building CNN"
   ]
  },
  {
   "cell_type": "code",
   "execution_count": 4,
   "id": "85427557",
   "metadata": {},
   "outputs": [],
   "source": [
    "class Net(nn.Module):\n",
    "    def __init__(self):\n",
    "        super(Net, self).__init__()\n",
    "        self.conv1 = nn.Conv2d(1, 32, kernel_size=3)\n",
    "        self.conv2 = nn.Conv2d(32, 64, kernel_size=3)\n",
    "        self.pool = nn.MaxPool2d(kernel_size=2, stride=2)\n",
    "        self.fc1 = nn.Linear(64 * 5 * 5, 128)\n",
    "        self.fc2 = nn.Linear(128, 10)  # 10 output classes for MNIST\n",
    "\n",
    "    def forward(self, x):\n",
    "        x = self.pool(torch.relu(self.conv1(x)))\n",
    "        x = self.pool(torch.relu(self.conv2(x)))\n",
    "        x = x.view(-1, 64 * 5 * 5)  # Reshape for fully connected layer\n",
    "        x = torch.relu(self.fc1(x))\n",
    "        x = self.fc2(x)\n",
    "        return x\n",
    "\n",
    "# Initialize the network\n",
    "net = Net()"
   ]
  },
  {
   "cell_type": "markdown",
   "id": "5c47bb15",
   "metadata": {},
   "source": [
    "Training CNN"
   ]
  },
  {
   "cell_type": "code",
   "execution_count": 5,
   "id": "dedbd14e",
   "metadata": {},
   "outputs": [
    {
     "name": "stdout",
     "output_type": "stream",
     "text": [
      "Epoch 1/10, Train Loss: 0.9330, Validation Loss: 0.2601, Train Accuracy: 76.69%, Validation Accuracy: 92.37%\n",
      "Epoch 2/10, Train Loss: 0.2056, Validation Loss: 0.1451, Train Accuracy: 93.89%, Validation Accuracy: 95.89%\n",
      "Epoch 3/10, Train Loss: 0.1335, Validation Loss: 0.1015, Train Accuracy: 96.07%, Validation Accuracy: 96.89%\n",
      "Epoch 4/10, Train Loss: 0.1044, Validation Loss: 0.0808, Train Accuracy: 96.90%, Validation Accuracy: 97.62%\n",
      "Epoch 5/10, Train Loss: 0.0875, Validation Loss: 0.0713, Train Accuracy: 97.37%, Validation Accuracy: 97.78%\n",
      "Epoch 6/10, Train Loss: 0.0760, Validation Loss: 0.0604, Train Accuracy: 97.73%, Validation Accuracy: 98.09%\n",
      "Epoch 7/10, Train Loss: 0.0677, Validation Loss: 0.0565, Train Accuracy: 97.98%, Validation Accuracy: 98.25%\n",
      "Epoch 8/10, Train Loss: 0.0617, Validation Loss: 0.0552, Train Accuracy: 98.13%, Validation Accuracy: 98.17%\n",
      "Epoch 9/10, Train Loss: 0.0563, Validation Loss: 0.0466, Train Accuracy: 98.33%, Validation Accuracy: 98.47%\n",
      "Epoch 10/10, Train Loss: 0.0521, Validation Loss: 0.0481, Train Accuracy: 98.44%, Validation Accuracy: 98.34%\n"
     ]
    }
   ],
   "source": [
    "criterion = nn.CrossEntropyLoss()\n",
    "optimizer = optim.SGD(net.parameters(), lr = 0.001, momentum = 0.9)\n",
    "epochs = 10\n",
    "train_losses = []\n",
    "validation_losses = []\n",
    "train_accuracy = []\n",
    "validation_accuracy = []\n",
    "\n",
    "for epoch in range(epochs):\n",
    "    running_loss = 0.0\n",
    "    correct_train = 0\n",
    "    total_train = 0\n",
    "    for i, data in enumerate(train_loader, 0):\n",
    "        inputs, labels = data\n",
    "        optimizer.zero_grad()\n",
    "        outputs = net(inputs)\n",
    "        loss = criterion(outputs, labels)\n",
    "        loss.backward()\n",
    "        optimizer.step()\n",
    "        running_loss += loss.item()\n",
    "\n",
    "        _, predicted = torch.max(outputs.data, 1)\n",
    "        total_train += labels.size(0)\n",
    "        correct_train += (predicted == labels).sum().item()\n",
    "\n",
    "    train_losses.append(running_loss / len(train_loader))\n",
    "    train_accuracy.append(100 * correct_train / total_train)\n",
    "\n",
    "    # Validation\n",
    "    correct_val = 0\n",
    "    total_val = 0\n",
    "    running_val_loss = 0.0\n",
    "    with torch.no_grad():\n",
    "        for data in test_loader:\n",
    "            images, labels = data\n",
    "            outputs = net(images)\n",
    "            loss = criterion(outputs, labels)\n",
    "            running_val_loss += loss.item()\n",
    "            _, predicted = torch.max(outputs.data, 1)\n",
    "            total_val += labels.size(0)\n",
    "            correct_val += (predicted == labels).sum().item()\n",
    "\n",
    "    validation_losses.append(running_val_loss / len(test_loader))\n",
    "    validation_accuracy.append(100 * correct_val / total_val)\n",
    "\n",
    "    print(f\"Epoch {epoch+1}/{epochs}, \"\n",
    "          f\"Train Loss: {train_losses[-1]:.4f}, \"\n",
    "          f\"Validation Loss: {validation_losses[-1]:.4f}, \"\n",
    "          f\"Train Accuracy: {train_accuracy[-1]:.2f}%, \"\n",
    "          f\"Validation Accuracy: {validation_accuracy[-1]:.2f}%\")"
   ]
  },
  {
   "cell_type": "markdown",
   "id": "d0ef4457",
   "metadata": {},
   "source": [
    "Training Loss and Validation Loss"
   ]
  },
  {
   "cell_type": "code",
   "execution_count": 6,
   "id": "3c2fde40",
   "metadata": {},
   "outputs": [
    {
     "data": {
      "text/plain": [
       "<matplotlib.legend.Legend at 0x177997b10>"
      ]
     },
     "execution_count": 6,
     "metadata": {},
     "output_type": "execute_result"
    },
    {
     "data": {
      "image/png": "[encoded data removed]",
      "text/plain": [
       "<Figure size 1200x400 with 1 Axes>"
      ]
     },
     "metadata": {},
     "output_type": "display_data"
    }
   ],
   "source": [
    "plt.figure(figsize = (12, 4))\n",
    "plt.subplot(1, 2, 1)\n",
    "plt.plot(range(1, epochs + 1), train_losses, label = 'Train Loss')\n",
    "plt.plot(range(1, epochs + 1), validation_losses, label = 'Validation Loss')\n",
    "plt.xlabel('Epochs')\n",
    "plt.ylabel('Loss')\n",
    "plt.legend()"
   ]
  },
  {
   "cell_type": "markdown",
   "id": "947f9d37",
   "metadata": {},
   "source": [
    "Training Accuracy and Validation Accuracy"
   ]
  },
  {
   "cell_type": "code",
   "execution_count": 7,
   "id": "773d93f2",
   "metadata": {},
   "outputs": [
    {
     "data": {
      "image/png": "[encoded data removed]",
      "text/plain": [
       "<Figure size 640x480 with 1 Axes>"
      ]
     },
     "metadata": {},
     "output_type": "display_data"
    }
   ],
   "source": [
    "plt.subplot(1, 2, 2)\n",
    "plt.plot(range(1, epochs + 1), train_accuracy, label = 'Train Accuracy')\n",
    "plt.plot(range(1, epochs + 1), validation_accuracy, label = 'Validation Accuracy')\n",
    "plt.xlabel('Epochs')\n",
    "plt.ylabel('Accuracy (%)')\n",
    "plt.legend()\n",
    "\n",
    "plt.show()"
   ]
  },
  {
   "cell_type": "markdown",
   "id": "dddb0f24",
   "metadata": {},
   "source": [
    "Accuracy"
   ]
  },
  {
   "cell_type": "code",
   "execution_count": 8,
   "id": "f9c7b83d",
   "metadata": {},
   "outputs": [
    {
     "name": "stdout",
     "output_type": "stream",
     "text": [
      "Accuracy on the test images: 98.34%\n"
     ]
    }
   ],
   "source": [
    "correct = 0\n",
    "total = 0\n",
    "with torch.no_grad():\n",
    "    for data in test_loader:\n",
    "        images, labels = data\n",
    "        outputs = net(images)\n",
    "        _, predicted = torch.max(outputs.data, 1)\n",
    "        total += labels.size(0)\n",
    "        correct += (predicted == labels).sum().item()\n",
    "\n",
    "print(f\"Accuracy on the test images: {100 * correct / total}%\")"
   ]
  },
  {
   "cell_type": "markdown",
   "id": "f3b271d2",
   "metadata": {},
   "source": [
    "5.Load cifar10 dataset. Build a CNN network with convolution layers to classify the images. \n",
    "\n",
    "Print the accuracy.  \n",
    "\n",
    "Tune the hyper parameters if needed to get a good accuracy. \n",
    "\n"
   ]
  },
  {
   "cell_type": "code",
   "execution_count": 9,
   "id": "599e0da4",
   "metadata": {},
   "outputs": [
    {
     "name": "stdout",
     "output_type": "stream",
     "text": [
      "Files already downloaded and verified\n",
      "Files already downloaded and verified\n"
     ]
    }
   ],
   "source": [
    "transform = transforms.Compose([\n",
    "    transforms.RandomHorizontalFlip(),\n",
    "    transforms.RandomCrop(32, padding=4),\n",
    "    transforms.ToTensor(),\n",
    "    transforms.Normalize((0.5, 0.5, 0.5), (0.5, 0.5, 0.5))])\n",
    "training_data = torchvision.datasets.CIFAR10(root='./data', train=True, download=True, transform=transform)\n",
    "test_data = torchvision.datasets.CIFAR10(root='./data', train=False, download=True, transform=transform)"
   ]
  },
  {
   "cell_type": "code",
   "execution_count": 10,
   "id": "4d181fbd",
   "metadata": {},
   "outputs": [],
   "source": [
    "trainloader = torch.utils.data.DataLoader(training_data, batch_size = 64, shuffle = True)\n",
    "testloader = torch.utils.data.DataLoader(test_data, batch_size = 64, shuffle = False)\n"
   ]
  },
  {
   "cell_type": "markdown",
   "id": "fd227031",
   "metadata": {},
   "source": [
    "Building CNN"
   ]
  },
  {
   "cell_type": "code",
   "execution_count": 11,
   "id": "7f05f5b1",
   "metadata": {},
   "outputs": [],
   "source": [
    "class Net(nn.Module):\n",
    "    def __init__(self):\n",
    "        super(Net, self).__init__()\n",
    "        self.conv1 = nn.Conv2d(3, 64, kernel_size=3, padding=1)\n",
    "        self.conv2 = nn.Conv2d(64, 128, kernel_size=3, padding=1)\n",
    "        self.pool = nn.MaxPool2d(kernel_size=2, stride=2)\n",
    "        self.fc1 = nn.Linear(128 * 8 * 8, 512)\n",
    "        self.fc2 = nn.Linear(512, 10)\n",
    "\n",
    "    def forward(self, x):\n",
    "        x = self.pool(torch.relu(self.conv1(x)))\n",
    "        x = self.pool(torch.relu(self.conv2(x)))\n",
    "        x = x.view(-1, 128 * 8 * 8)\n",
    "        x = torch.relu(self.fc1(x))\n",
    "        x = self.fc2(x)\n",
    "        return x\n",
    "\n",
    "# Initialize the network\n",
    "net = Net()"
   ]
  },
  {
   "cell_type": "markdown",
   "id": "5a37d5a9",
   "metadata": {},
   "source": [
    "Training CNN"
   ]
  },
  {
   "cell_type": "code",
   "execution_count": 12,
   "id": "b81aa3c4",
   "metadata": {},
   "outputs": [
    {
     "name": "stdout",
     "output_type": "stream",
     "text": [
      "Epoch 1/20, Loss: 1.4948\n",
      "Epoch 2/20, Loss: 1.1475\n",
      "Epoch 3/20, Loss: 1.0065\n",
      "Epoch 4/20, Loss: 0.9180\n",
      "Epoch 5/20, Loss: 0.8572\n",
      "Epoch 6/20, Loss: 0.8096\n",
      "Epoch 7/20, Loss: 0.7757\n",
      "Epoch 8/20, Loss: 0.7417\n",
      "Epoch 9/20, Loss: 0.7210\n",
      "Epoch 10/20, Loss: 0.6959\n",
      "Epoch 11/20, Loss: 0.6756\n",
      "Epoch 12/20, Loss: 0.6605\n",
      "Epoch 13/20, Loss: 0.6449\n",
      "Epoch 14/20, Loss: 0.6254\n",
      "Epoch 15/20, Loss: 0.6124\n",
      "Epoch 16/20, Loss: 0.6058\n",
      "Epoch 17/20, Loss: 0.5857\n",
      "Epoch 18/20, Loss: 0.5785\n",
      "Epoch 19/20, Loss: 0.5700\n",
      "Epoch 20/20, Loss: 0.5671\n"
     ]
    }
   ],
   "source": [
    "criterion = nn.CrossEntropyLoss()\n",
    "optimizer = optim.Adam(net.parameters(), lr = 0.001)\n",
    "\n",
    "epochs = 20\n",
    "for epoch in range(epochs):\n",
    "    running_loss = 0.0\n",
    "    for i, data in enumerate(trainloader, 0):\n",
    "        inputs, labels = data\n",
    "        optimizer.zero_grad()\n",
    "        outputs = net(inputs)\n",
    "        loss = criterion(outputs, labels)\n",
    "        loss.backward()\n",
    "        optimizer.step()\n",
    "        running_loss += loss.item()\n",
    "\n",
    "    print(f\"Epoch {epoch + 1}/{epochs}, Loss: {running_loss / len(trainloader):.4f}\")"
   ]
  },
  {
   "cell_type": "markdown",
   "id": "a2d6df9d",
   "metadata": {},
   "source": [
    "Accuracy"
   ]
  },
  {
   "cell_type": "code",
   "execution_count": 13,
   "id": "408bd2a9",
   "metadata": {},
   "outputs": [
    {
     "name": "stdout",
     "output_type": "stream",
     "text": [
      "Accuracy on the test images: 76.28%\n"
     ]
    }
   ],
   "source": [
    "correct = 0\n",
    "total = 0\n",
    "with torch.no_grad():\n",
    "    for data in testloader:\n",
    "        images, labels = data\n",
    "        outputs = net(images)\n",
    "        _, predicted = torch.max(outputs.data, 1)\n",
    "        total += labels.size(0)\n",
    "        correct += (predicted == labels).sum().item()\n",
    "\n",
    "accuracy = 100 * correct / total\n",
    "print(f\"Accuracy on the test images: {accuracy:.2f}%\")"
   ]
  },
  {
   "cell_type": "markdown",
   "id": "c5d34491",
   "metadata": {},
   "source": [
    "Tuning Hyper Parameter"
   ]
  },
  {
   "cell_type": "code",
   "execution_count": 14,
   "id": "eaa3b048",
   "metadata": {},
   "outputs": [],
   "source": [
    "trainloader = torch.utils.data.DataLoader(training_data, batch_size = 128, shuffle = True)\n",
    "testloader = torch.utils.data.DataLoader(test_data, batch_size = 128, shuffle = False)"
   ]
  },
  {
   "cell_type": "code",
   "execution_count": 15,
   "id": "6fc2b2e2",
   "metadata": {},
   "outputs": [],
   "source": [
    "class Net(nn.Module):\n",
    "    def __init__(self):\n",
    "        super(Net, self).__init__()\n",
    "        self.conv1 = nn.Conv2d(3, 64, kernel_size=3, padding=1)\n",
    "        self.conv2 = nn.Conv2d(64, 128, kernel_size=3, padding=1)\n",
    "        self.pool = nn.MaxPool2d(kernel_size=2, stride=2)\n",
    "        self.fc1 = nn.Linear(128 * 8 * 8, 512)\n",
    "        self.fc2 = nn.Linear(512, 10)\n",
    "\n",
    "    def forward(self, x):\n",
    "        x = self.pool(torch.relu(self.conv1(x)))\n",
    "        x = self.pool(torch.relu(self.conv2(x)))\n",
    "        x = x.view(-1, 128 * 8 * 8)\n",
    "        x = torch.relu(self.fc1(x))\n",
    "        x = self.fc2(x)\n",
    "        return x\n",
    "\n",
    "# Initialize the network\n",
    "net = Net()"
   ]
  },
  {
   "cell_type": "code",
   "execution_count": 16,
   "id": "c25198b3",
   "metadata": {},
   "outputs": [
    {
     "name": "stdout",
     "output_type": "stream",
     "text": [
      "Epoch 1/20, Loss: 1.5007\n",
      "Epoch 2/20, Loss: 1.1445\n",
      "Epoch 3/20, Loss: 0.9965\n",
      "Epoch 4/20, Loss: 0.9028\n",
      "Epoch 5/20, Loss: 0.8368\n",
      "Epoch 6/20, Loss: 0.7812\n",
      "Epoch 7/20, Loss: 0.7436\n",
      "Epoch 8/20, Loss: 0.7106\n",
      "Epoch 9/20, Loss: 0.6809\n",
      "Epoch 10/20, Loss: 0.6571\n",
      "Epoch 11/20, Loss: 0.6319\n",
      "Epoch 12/20, Loss: 0.6052\n",
      "Epoch 13/20, Loss: 0.5872\n",
      "Epoch 14/20, Loss: 0.5713\n",
      "Epoch 15/20, Loss: 0.5542\n",
      "Epoch 16/20, Loss: 0.5371\n",
      "Epoch 17/20, Loss: 0.5309\n",
      "Epoch 18/20, Loss: 0.5127\n",
      "Epoch 19/20, Loss: 0.5028\n",
      "Epoch 20/20, Loss: 0.4925\n"
     ]
    }
   ],
   "source": [
    "criterion = nn.CrossEntropyLoss()\n",
    "optimizer = optim.Adam(net.parameters(), lr = 0.001)\n",
    "\n",
    "epochs = 20\n",
    "for epoch in range(epochs):\n",
    "    running_loss = 0.0\n",
    "    for i, data in enumerate(trainloader, 0):\n",
    "        inputs, labels = data\n",
    "        optimizer.zero_grad()\n",
    "        outputs = net(inputs)\n",
    "        loss = criterion(outputs, labels)\n",
    "        loss.backward()\n",
    "        optimizer.step()\n",
    "        running_loss += loss.item()\n",
    "\n",
    "    print(f\"Epoch {epoch + 1}/{epochs}, Loss: {running_loss / len(trainloader):.4f}\")\n",
    "\n"
   ]
  },
  {
   "cell_type": "code",
   "execution_count": 17,
   "id": "07ec701f",
   "metadata": {},
   "outputs": [
    {
     "name": "stdout",
     "output_type": "stream",
     "text": [
      "Accuracy on the test images: 78.00%\n"
     ]
    }
   ],
   "source": [
    "correct = 0\n",
    "total = 0\n",
    "with torch.no_grad():\n",
    "    for data in testloader:\n",
    "        images, labels = data\n",
    "        outputs = net(images)\n",
    "        _, predicted = torch.max(outputs.data, 1)\n",
    "        total += labels.size(0)\n",
    "        correct += (predicted == labels).sum().item()\n",
    "\n",
    "accuracy = 100 * correct / total\n",
    "print(f\"Accuracy on the test images: {accuracy:.2f}%\")"
   ]
  }
 ],
 "metadata": {
  "kernelspec": {
   "display_name": "Python 3 (ipykernel)",
   "language": "python",
   "name": "python3"
  },
  "language_info": {
   "codemirror_mode": {
    "name": "ipython",
    "version": 3
   },
   "file_extension": ".py",
   "mimetype": "text/x-python",
   "name": "python",
   "nbconvert_exporter": "python",
   "pygments_lexer": "ipython3",
   "version": "3.11.4"
  }
 },
 "nbformat": 4,
 "nbformat_minor": 5
}
